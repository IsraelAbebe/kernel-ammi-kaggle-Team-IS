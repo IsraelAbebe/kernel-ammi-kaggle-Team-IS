{
 "cells": [
  {
   "cell_type": "code",
   "execution_count": 1,
   "metadata": {},
   "outputs": [],
   "source": [
    "!pip install optuna -q"
   ]
  },
  {
   "cell_type": "code",
   "execution_count": 24,
   "metadata": {},
   "outputs": [],
   "source": [
    "import pandas as pd\n",
    "import numpy as np\n",
    "import random\n",
    "from sklearn.model_selection import train_test_split\n",
    "from sklearn.preprocessing import scale\n",
    "from sklearn.metrics import accuracy_score\n",
    "\n",
    "from sklearn.feature_extraction.text import CountVectorizer,TfidfVectorizer\n",
    "\n",
    "import optuna\n",
    "# from tqdm import tqdm"
   ]
  },
  {
   "cell_type": "code",
   "execution_count": 3,
   "metadata": {},
   "outputs": [],
   "source": [
    "X_test_mat100 = pd.read_csv('../data/Xte_mat100.csv',sep=' ',header=None).values\n",
    "X_train_mat100 = pd.read_csv('../data/Xtr_mat100.csv',sep=' ',header=None).values\n",
    "\n",
    "X_test_ = pd.read_csv('../data/Xte.csv',sep=',',index_col=0)\n",
    "X_train_ = pd.read_csv('../data/Xtr.csv',sep=',',index_col=0)\n",
    "\n",
    "y = pd.read_csv('../data/Ytr.csv',sep=',',index_col=0)\n",
    "\n",
    "train_data = pd.concat([X_train_ , y],axis=1)"
   ]
  },
  {
   "cell_type": "code",
   "execution_count": 4,
   "metadata": {},
   "outputs": [
    {
     "name": "stdout",
     "output_type": "stream",
     "text": [
      "x_train: (2000, 100) y_train (2000, 1)\n",
      "x_test: (1000, 100)\n"
     ]
    }
   ],
   "source": [
    "print('x_train: {} y_train {}'.format(X_train_mat100.shape,y.shape))\n",
    "print('x_test: {}'.format(X_test_mat100.shape))\n"
   ]
  },
  {
   "cell_type": "code",
   "execution_count": 5,
   "metadata": {},
   "outputs": [],
   "source": [
    "def get_train_test(X,y,p):\n",
    "    X = scale(X)\n",
    "\n",
    "    X_train, X_test, y_train, y_test = train_test_split(\n",
    "        X, y, test_size=p, random_state=42)\n",
    "    print(X_train.shape,X_test.shape,y_train.shape, y_test.shape)\n",
    "    return X_train, X_test, y_train, y_test"
   ]
  },
  {
   "cell_type": "markdown",
   "metadata": {},
   "source": [
    "### Model Test"
   ]
  },
  {
   "cell_type": "code",
   "execution_count": 51,
   "metadata": {},
   "outputs": [],
   "source": [
    "class logisticregression():\n",
    "    def __init__(self,train_data,train_labels,lamda=0.2,lr=0.01,decay=10,batch_size=64,epoch=10,print_every = 10):\n",
    "        dummy_once = np.ones((len(train_data),1))\n",
    "        self.train_data = np.hstack((dummy_once,train_data))\n",
    "        self.train_labels = train_labels\n",
    "        \n",
    "        self.params = np.zeros((len(self.train_data[0]),1))\n",
    "        \n",
    "        self.lr = lr\n",
    "        self.epoch = epoch\n",
    "        self.batch_size = batch_size\n",
    "        self.print_every = print_every\n",
    "        self._lambda = lamda\n",
    "        self.decay = decay\n",
    "        \n",
    "    def sigmoid(self,x):\n",
    "        return 1/(1+np.exp(-x))\n",
    "    \n",
    "    def cost(self,y,y_pred):\n",
    "        return -np.mean(y*np.log(y_pred)+(1-y)*np.log(1-y_pred))\n",
    "    \n",
    "    def gradient(self,y,y_pred,x):\n",
    "#         hassien = np.dot(y_pred.T,(1-y_pred))*np.linalg.pinv(np.dot(x.T,x))\n",
    "#         return np.dot(hassien,np.dot(x.T,(y_pred-y)))+(2*(self._lambda/len(y_pred))*self.params)\n",
    "        return np.dot(x.T,(y_pred-y))+(2*(self._lambda/len(y_pred))*self.params)\n",
    "    \n",
    "    def train(self):\n",
    "        for i in range(self.epoch):\n",
    "            for j in range(len(self.train_labels)//self.batch_size):\n",
    "                idx = list(np.random.choice(np.arange(len(self.train_labels)),self.batch_size,replace=False))\n",
    "                data = self.train_data[idx]\n",
    "                label = self.train_labels[idx]\n",
    "\n",
    "                y_pred = self.sigmoid(np.dot(data,self.params))\n",
    "                loss = self.cost(label,y_pred)\n",
    "\n",
    "                gra = self.gradient(label,y_pred,data)\n",
    "                self.params -= self.lr*gra\n",
    "\n",
    "                self.lr *= (1. / (1. + self.decay * i))\n",
    "            \n",
    "            if self.print_every:\n",
    "                if i%self.print_every == 0 or i == self.epoch-1:\n",
    "                    print('Epoch : {}  Loss: {}'.format(i,loss))\n",
    "    def predict(self,test_data):\n",
    "        result = self.sigmoid(np.dot(test_data,self.params[1:])+self.params[0])\n",
    "        result[result > 0.5 ] = 1\n",
    "        result[result <= 0.5 ] = 0\n",
    "        return result\n",
    "    \n",
    "    def evaluate(self,test_data,labels):\n",
    "        accuracy = accuracy_score(self.predict(test_data),labels)\n",
    "        return accuracy"
   ]
  },
  {
   "cell_type": "code",
   "execution_count": 52,
   "metadata": {},
   "outputs": [],
   "source": [
    "def cross_validate(x_data,y_data,lr,lamda=0.2,epoch=10,k=4,decay=10):\n",
    "    if len(x_data)%k != 0:\n",
    "        print('cant vsplit',len(x_data),' by ',k)\n",
    "        return\n",
    "    \n",
    "    x_data_splitted = np.vsplit(x_data,k)\n",
    "    y_data_splitted = np.vsplit(y_data,k)\n",
    "    \n",
    "    aggrigate_result = []\n",
    "    for i in range(len(x_data_splitted)):\n",
    "        train = []\n",
    "        test = []\n",
    "        items = [j for j in range(len(x_data_splitted)) if j !=i ]\n",
    "        x_test = x_data_splitted[i]\n",
    "        y_test = y_data_splitted[i]\n",
    "        for item in items:\n",
    "            if len(train) == 0:\n",
    "                x_train = x_data_splitted[item]\n",
    "                y_train = y_data_splitted[item]\n",
    "            else:\n",
    "                x_train = np.concatenate((x_train,x_data_splitted[item]), axis=0)\n",
    "                y_train = np.concatenate((y_train,y_data_splitted[item]), axis=0)\n",
    "        \n",
    "        logistic = logisticregression(x_train,y_train,lamda=lamda,lr=lr,decay=decay,epoch=epoch,print_every=None)\n",
    "        logistic.train()\n",
    "        \n",
    "        result = logistic.evaluate(x_test,y_test)\n",
    "        aggrigate_result.append(result)\n",
    "        \n",
    "        value = sum(aggrigate_result)/len(aggrigate_result)\n",
    "    return value"
   ]
  },
  {
   "cell_type": "markdown",
   "metadata": {},
   "source": [
    "# Optimize"
   ]
  },
  {
   "cell_type": "code",
   "execution_count": 62,
   "metadata": {},
   "outputs": [
    {
     "data": {
      "text/html": [
       "<div>\n",
       "<style scoped>\n",
       "    .dataframe tbody tr th:only-of-type {\n",
       "        vertical-align: middle;\n",
       "    }\n",
       "\n",
       "    .dataframe tbody tr th {\n",
       "        vertical-align: top;\n",
       "    }\n",
       "\n",
       "    .dataframe thead th {\n",
       "        text-align: right;\n",
       "    }\n",
       "</style>\n",
       "<table border=\"1\" class=\"dataframe\">\n",
       "  <thead>\n",
       "    <tr style=\"text-align: right;\">\n",
       "      <th></th>\n",
       "      <th>seq</th>\n",
       "      <th>Bound</th>\n",
       "      <th>words</th>\n",
       "    </tr>\n",
       "    <tr>\n",
       "      <th>Id</th>\n",
       "      <th></th>\n",
       "      <th></th>\n",
       "      <th></th>\n",
       "    </tr>\n",
       "  </thead>\n",
       "  <tbody>\n",
       "    <tr>\n",
       "      <th>0</th>\n",
       "      <td>GAGGGGCTGGGGAGGGGGCTGGCCCAGAGGCACCAGACTCTGCAGA...</td>\n",
       "      <td>1</td>\n",
       "      <td>gagggg aggggc ggggct gggctg ggctgg gctggg ctgg...</td>\n",
       "    </tr>\n",
       "    <tr>\n",
       "      <th>1</th>\n",
       "      <td>CGGCCTGGGGGCCACATGTGAGTGCTTACCTGTGTGGGGATGAGGG...</td>\n",
       "      <td>0</td>\n",
       "      <td>cggcct ggcctg gcctgg cctggg ctgggg tggggg gggg...</td>\n",
       "    </tr>\n",
       "  </tbody>\n",
       "</table>\n",
       "</div>"
      ],
      "text/plain": [
       "                                                  seq  ...                                              words\n",
       "Id                                                     ...                                                   \n",
       "0   GAGGGGCTGGGGAGGGGGCTGGCCCAGAGGCACCAGACTCTGCAGA...  ...  gagggg aggggc ggggct gggctg ggctgg gctggg ctgg...\n",
       "1   CGGCCTGGGGGCCACATGTGAGTGCTTACCTGTGTGGGGATGAGGG...  ...  cggcct ggcctg gcctgg cctggg ctgggg tggggg gggg...\n",
       "\n",
       "[2 rows x 3 columns]"
      ]
     },
     "execution_count": 62,
     "metadata": {},
     "output_type": "execute_result"
    }
   ],
   "source": [
    "def getKmers(sequence, size=6):\n",
    "    return [sequence[x:x+size].lower() for x in range(len(sequence) - size + 1)]\n",
    "\n",
    "train_data['words'] = train_data.seq.apply(lambda x: ' '.join(getKmers(x)))\n",
    "X_test_['words'] = X_test_.seq.apply(lambda x: ' '.join(getKmers(x)))\n",
    "train_data.head(2)"
   ]
  },
  {
   "cell_type": "code",
   "execution_count": 67,
   "metadata": {},
   "outputs": [
    {
     "data": {
      "text/plain": [
       "(3000, 1500)"
      ]
     },
     "execution_count": 67,
     "metadata": {},
     "output_type": "execute_result"
    }
   ],
   "source": [
    "from sklearn.feature_extraction.text import CountVectorizer\n",
    "\n",
    "\n",
    "data = pd.DataFrame(pd.concat([train_data.words,X_test_.words],axis=0))\n",
    "\n",
    "train_text = data.words.values\n",
    "\n",
    "cv = CountVectorizer(ngram_range=(2,2),max_features=1500)\n",
    "X = cv.fit_transform(train_text)\n",
    "X = X.todense()\n",
    "\n",
    "\n",
    "X.shape"
   ]
  },
  {
   "cell_type": "code",
   "execution_count": 68,
   "metadata": {},
   "outputs": [
    {
     "data": {
      "text/plain": [
       "0.6185"
      ]
     },
     "execution_count": 68,
     "metadata": {},
     "output_type": "execute_result"
    }
   ],
   "source": [
    "cross_validate(np.array(X)[:2000,:],y.values,k=5,lr=0.001,lamda=0.003,epoch=10)"
   ]
  },
  {
   "cell_type": "code",
   "execution_count": 69,
   "metadata": {},
   "outputs": [
    {
     "name": "stderr",
     "output_type": "stream",
     "text": [
      "/usr/local/lib/python3.6/dist-packages/optuna/_experimental.py:90: ExperimentalWarning:\n",
      "\n",
      "Progress bar is experimental (supported from v1.2.0). The interface can change in the future.\n",
      "\n"
     ]
    },
    {
     "data": {
      "application/vnd.jupyter.widget-view+json": {
       "model_id": "69f8e2e3200c461096ba63fb0e3aa750",
       "version_major": 2,
       "version_minor": 0
      },
      "text/plain": [
       "HBox(children=(FloatProgress(value=0.0), HTML(value='')))"
      ]
     },
     "metadata": {},
     "output_type": "display_data"
    },
    {
     "name": "stderr",
     "output_type": "stream",
     "text": [
      " 18%|█▊        | 18/100 [27:28<10:59,  8.05s/it]"
     ]
    },
    {
     "name": "stdout",
     "output_type": "stream",
     "text": [
      "\u001b[32m[I 2020-05-28 02:02:36,960]\u001b[0m Finished trial#0 with value: 0.597 with parameters: {'lr': 0.003264943455983559, 'lamda': 2.166491137714555e-06, 'k': 4, 'epoch': 433, 'decay': 6}. Best is trial#0 with value: 0.597.\u001b[0m\n"
     ]
    },
    {
     "name": "stderr",
     "output_type": "stream",
     "text": [
      " 18%|█▊        | 18/100 [27:30<10:59,  8.05s/it]"
     ]
    },
    {
     "name": "stdout",
     "output_type": "stream",
     "text": [
      "\u001b[32m[I 2020-05-28 02:02:39,565]\u001b[0m Finished trial#1 with value: 0.627 with parameters: {'lr': 3.205121962852147e-05, 'lamda': 1.9721768777920362e-07, 'k': 5, 'epoch': 193, 'decay': 5}. Best is trial#1 with value: 0.627.\u001b[0m\n"
     ]
    },
    {
     "name": "stderr",
     "output_type": "stream",
     "text": [
      " 18%|█▊        | 18/100 [27:36<10:59,  8.05s/it]"
     ]
    },
    {
     "name": "stdout",
     "output_type": "stream",
     "text": [
      "\u001b[32m[I 2020-05-28 02:02:45,559]\u001b[0m Finished trial#2 with value: 0.6445 with parameters: {'lr': 0.030780337422447273, 'lamda': 8.447208519379117e-06, 'k': 4, 'epoch': 489, 'decay': 4}. Best is trial#2 with value: 0.6445.\u001b[0m\n"
     ]
    },
    {
     "name": "stderr",
     "output_type": "stream",
     "text": [
      " 18%|█▊        | 18/100 [27:38<10:59,  8.05s/it]"
     ]
    },
    {
     "name": "stdout",
     "output_type": "stream",
     "text": [
      "\u001b[32m[I 2020-05-28 02:02:47,552]\u001b[0m Finished trial#3 with value: 0.624 with parameters: {'lr': 0.03798225804652433, 'lamda': 8.62688150306835e-06, 'k': 4, 'epoch': 156, 'decay': 8}. Best is trial#2 with value: 0.6445.\u001b[0m\n"
     ]
    },
    {
     "name": "stderr",
     "output_type": "stream",
     "text": [
      " 18%|█▊        | 18/100 [27:43<10:59,  8.05s/it]"
     ]
    },
    {
     "name": "stdout",
     "output_type": "stream",
     "text": [
      "\u001b[32m[I 2020-05-28 02:02:52,317]\u001b[0m Finished trial#4 with value: 0.6165 with parameters: {'lr': 0.00026970934330640314, 'lamda': 8.454826678468012e-07, 'k': 5, 'epoch': 362, 'decay': 8}. Best is trial#2 with value: 0.6445.\u001b[0m\n"
     ]
    },
    {
     "name": "stderr",
     "output_type": "stream",
     "text": [
      " 18%|█▊        | 18/100 [27:45<10:59,  8.05s/it]"
     ]
    },
    {
     "name": "stdout",
     "output_type": "stream",
     "text": [
      "\u001b[32m[I 2020-05-28 02:02:53,809]\u001b[0m Finished trial#5 with value: 0.5575 with parameters: {'lr': 0.0008607522388082317, 'lamda': 1.4302312408345226, 'k': 8, 'epoch': 132, 'decay': 6}. Best is trial#2 with value: 0.6445.\u001b[0m\n"
     ]
    },
    {
     "name": "stderr",
     "output_type": "stream",
     "text": [
      " 18%|█▊        | 18/100 [27:48<10:59,  8.05s/it]"
     ]
    },
    {
     "name": "stdout",
     "output_type": "stream",
     "text": [
      "\u001b[32m[I 2020-05-28 02:02:57,408]\u001b[0m Finished trial#6 with value: 0.615 with parameters: {'lr': 0.038708256160730536, 'lamda': 0.00016933566235715464, 'k': 10, 'epoch': 276, 'decay': 7}. Best is trial#2 with value: 0.6445.\u001b[0m\n"
     ]
    },
    {
     "name": "stderr",
     "output_type": "stream",
     "text": [
      " 18%|█▊        | 18/100 [27:51<10:59,  8.05s/it]"
     ]
    },
    {
     "name": "stdout",
     "output_type": "stream",
     "text": [
      "\u001b[32m[I 2020-05-28 02:03:00,185]\u001b[0m Finished trial#7 with value: 0.639 with parameters: {'lr': 0.04033411048705575, 'lamda': 0.018380525160553513, 'k': 5, 'epoch': 210, 'decay': 10}. Best is trial#2 with value: 0.6445.\u001b[0m\n"
     ]
    },
    {
     "name": "stderr",
     "output_type": "stream",
     "text": [
      " 18%|█▊        | 18/100 [27:56<10:59,  8.05s/it]"
     ]
    },
    {
     "name": "stdout",
     "output_type": "stream",
     "text": [
      "\u001b[32m[I 2020-05-28 02:03:04,844]\u001b[0m Finished trial#8 with value: 0.576 with parameters: {'lr': 0.0003779024347609162, 'lamda': 0.13553065913694556, 'k': 5, 'epoch': 348, 'decay': 8}. Best is trial#2 with value: 0.6445.\u001b[0m\n"
     ]
    },
    {
     "name": "stderr",
     "output_type": "stream",
     "text": [
      " 18%|█▊        | 18/100 [27:57<10:59,  8.05s/it]"
     ]
    },
    {
     "name": "stdout",
     "output_type": "stream",
     "text": [
      "\u001b[32m[I 2020-05-28 02:03:06,366]\u001b[0m Finished trial#9 with value: 0.6130000000000001 with parameters: {'lr': 0.09082867280888432, 'lamda': 7.902290842931612e-06, 'k': 8, 'epoch': 137, 'decay': 3}. Best is trial#2 with value: 0.6445.\u001b[0m\n"
     ]
    },
    {
     "name": "stderr",
     "output_type": "stream",
     "text": [
      " 18%|█▊        | 18/100 [28:03<10:59,  8.05s/it]"
     ]
    },
    {
     "name": "stdout",
     "output_type": "stream",
     "text": [
      "\u001b[32m[I 2020-05-28 02:03:12,335]\u001b[0m Finished trial#10 with value: 0.6255000000000001 with parameters: {'lr': 0.0050768028612196625, 'lamda': 0.00040234061892359613, 'k': 4, 'epoch': 482, 'decay': 3}. Best is trial#2 with value: 0.6445.\u001b[0m\n"
     ]
    },
    {
     "name": "stderr",
     "output_type": "stream",
     "text": [
      " 18%|█▊        | 18/100 [28:06<10:59,  8.05s/it]"
     ]
    },
    {
     "name": "stdout",
     "output_type": "stream",
     "text": [
      "\u001b[32m[I 2020-05-28 02:03:15,572]\u001b[0m Finished trial#11 with value: 0.618 with parameters: {'lr': 0.012738017561790573, 'lamda': 0.026349012992634206, 'k': 5, 'epoch': 239, 'decay': 4}. Best is trial#2 with value: 0.6445.\u001b[0m\n"
     ]
    },
    {
     "name": "stderr",
     "output_type": "stream",
     "text": [
      " 18%|█▊        | 18/100 [28:09<10:59,  8.05s/it]"
     ]
    },
    {
     "name": "stdout",
     "output_type": "stream",
     "text": [
      "\u001b[32m[I 2020-05-28 02:03:18,671]\u001b[0m Finished trial#12 with value: 0.6020000000000001 with parameters: {'lr': 0.06772056838746823, 'lamda': 0.011946891413688092, 'k': 10, 'epoch': 228, 'decay': 10}. Best is trial#2 with value: 0.6445.\u001b[0m\n"
     ]
    },
    {
     "name": "stderr",
     "output_type": "stream",
     "text": [
      " 18%|█▊        | 18/100 [28:14<10:59,  8.05s/it]"
     ]
    },
    {
     "name": "stdout",
     "output_type": "stream",
     "text": [
      "\u001b[32m[I 2020-05-28 02:03:22,829]\u001b[0m Finished trial#13 with value: 0.6245 with parameters: {'lr': 0.011504537707992658, 'lamda': 9.601097114416238, 'k': 4, 'epoch': 329, 'decay': 10}. Best is trial#2 with value: 0.6445.\u001b[0m\n"
     ]
    },
    {
     "name": "stderr",
     "output_type": "stream",
     "text": [
      " 18%|█▊        | 18/100 [28:20<10:59,  8.05s/it]"
     ]
    },
    {
     "name": "stdout",
     "output_type": "stream",
     "text": [
      "\u001b[32m[I 2020-05-28 02:03:28,906]\u001b[0m Finished trial#14 with value: 0.628 with parameters: {'lr': 0.014304689658271025, 'lamda': 4.6624713036297825e-05, 'k': 4, 'epoch': 494, 'decay': 4}. Best is trial#2 with value: 0.6445.\u001b[0m\n"
     ]
    },
    {
     "name": "stderr",
     "output_type": "stream",
     "text": [
      " 18%|█▊        | 18/100 [28:25<10:59,  8.05s/it]"
     ]
    },
    {
     "name": "stdout",
     "output_type": "stream",
     "text": [
      "\u001b[32m[I 2020-05-28 02:03:34,506]\u001b[0m Finished trial#15 with value: 0.6255 with parameters: {'lr': 0.09951465962284502, 'lamda': 0.0030833815377185546, 'k': 5, 'epoch': 427, 'decay': 9}. Best is trial#2 with value: 0.6445.\u001b[0m\n"
     ]
    },
    {
     "name": "stderr",
     "output_type": "stream",
     "text": [
      " 18%|█▊        | 18/100 [28:29<10:59,  8.05s/it]"
     ]
    },
    {
     "name": "stdout",
     "output_type": "stream",
     "text": [
      "\u001b[32m[I 2020-05-28 02:03:38,106]\u001b[0m Finished trial#16 with value: 0.58 with parameters: {'lr': 0.0026474404121113585, 'lamda': 0.9648240875509498, 'k': 4, 'epoch': 282, 'decay': 5}. Best is trial#2 with value: 0.6445.\u001b[0m\n"
     ]
    },
    {
     "name": "stderr",
     "output_type": "stream",
     "text": [
      " 18%|█▊        | 18/100 [28:31<10:59,  8.05s/it]"
     ]
    },
    {
     "name": "stdout",
     "output_type": "stream",
     "text": [
      "\u001b[32m[I 2020-05-28 02:03:40,798]\u001b[0m Finished trial#17 with value: 0.5824999999999999 with parameters: {'lr': 8.553731060996793e-05, 'lamda': 0.0017489503302272028, 'k': 10, 'epoch': 203, 'decay': 4}. Best is trial#2 with value: 0.6445.\u001b[0m\n"
     ]
    },
    {
     "name": "stderr",
     "output_type": "stream",
     "text": [
      " 18%|█▊        | 18/100 [28:33<10:59,  8.05s/it]"
     ]
    },
    {
     "name": "stdout",
     "output_type": "stream",
     "text": [
      "\u001b[32m[I 2020-05-28 02:03:41,964]\u001b[0m Finished trial#18 with value: 0.5900000000000001 with parameters: {'lr': 0.025733429218594707, 'lamda': 5.73812790844757e-05, 'k': 8, 'epoch': 100, 'decay': 7}. Best is trial#2 with value: 0.6445.\u001b[0m\n"
     ]
    },
    {
     "name": "stderr",
     "output_type": "stream",
     "text": [
      " 18%|█▊        | 18/100 [28:38<10:59,  8.05s/it]"
     ]
    },
    {
     "name": "stdout",
     "output_type": "stream",
     "text": [
      "\u001b[32m[I 2020-05-28 02:03:47,286]\u001b[0m Finished trial#19 with value: 0.6 with parameters: {'lr': 1.0728095644821046e-05, 'lamda': 1.2502242082977574e-07, 'k': 5, 'epoch': 407, 'decay': 9}. Best is trial#2 with value: 0.6445.\u001b[0m\n"
     ]
    },
    {
     "name": "stderr",
     "output_type": "stream",
     "text": [
      " 18%|█▊        | 18/100 [28:41<10:59,  8.05s/it]"
     ]
    },
    {
     "name": "stdout",
     "output_type": "stream",
     "text": [
      "\u001b[32m[I 2020-05-28 02:03:50,597]\u001b[0m Finished trial#20 with value: 0.6315 with parameters: {'lr': 0.007497576320613591, 'lamda': 0.0837114080309308, 'k': 5, 'epoch': 250, 'decay': 5}. Best is trial#2 with value: 0.6445.\u001b[0m\n"
     ]
    },
    {
     "name": "stderr",
     "output_type": "stream",
     "text": [
      " 18%|█▊        | 18/100 [28:45<10:59,  8.05s/it]"
     ]
    },
    {
     "name": "stdout",
     "output_type": "stream",
     "text": [
      "\u001b[32m[I 2020-05-28 02:03:53,898]\u001b[0m Finished trial#21 with value: 0.6175 with parameters: {'lr': 0.0064343385013833345, 'lamda': 0.06129870167339588, 'k': 5, 'epoch': 244, 'decay': 5}. Best is trial#2 with value: 0.6445.\u001b[0m\n"
     ]
    },
    {
     "name": "stderr",
     "output_type": "stream",
     "text": [
      " 18%|█▊        | 18/100 [28:47<10:59,  8.05s/it]"
     ]
    },
    {
     "name": "stdout",
     "output_type": "stream",
     "text": [
      "\u001b[32m[I 2020-05-28 02:03:56,416]\u001b[0m Finished trial#22 with value: 0.6305 with parameters: {'lr': 0.026953703583672026, 'lamda': 0.36847797558886985, 'k': 5, 'epoch': 184, 'decay': 4}. Best is trial#2 with value: 0.6445.\u001b[0m\n"
     ]
    },
    {
     "name": "stderr",
     "output_type": "stream",
     "text": [
      " 18%|█▊        | 18/100 [28:51<10:59,  8.05s/it]"
     ]
    },
    {
     "name": "stdout",
     "output_type": "stream",
     "text": [
      "\u001b[32m[I 2020-05-28 02:04:00,676]\u001b[0m Finished trial#23 with value: 0.631 with parameters: {'lr': 0.0021810750809660865, 'lamda': 0.008934367136270821, 'k': 5, 'epoch': 316, 'decay': 5}. Best is trial#2 with value: 0.6445.\u001b[0m\n"
     ]
    },
    {
     "name": "stderr",
     "output_type": "stream",
     "text": [
      " 18%|█▊        | 18/100 [28:55<10:59,  8.05s/it]"
     ]
    },
    {
     "name": "stdout",
     "output_type": "stream",
     "text": [
      "\u001b[32m[I 2020-05-28 02:04:04,202]\u001b[0m Finished trial#24 with value: 0.6315 with parameters: {'lr': 0.056046222182501264, 'lamda': 4.0599455732675604, 'k': 5, 'epoch': 263, 'decay': 3}. Best is trial#2 with value: 0.6445.\u001b[0m\n"
     ]
    },
    {
     "name": "stderr",
     "output_type": "stream",
     "text": [
      " 18%|█▊        | 18/100 [28:58<10:59,  8.05s/it]"
     ]
    },
    {
     "name": "stdout",
     "output_type": "stream",
     "text": [
      "\u001b[32m[I 2020-05-28 02:04:07,652]\u001b[0m Finished trial#25 with value: 0.616 with parameters: {'lr': 0.06706094829410109, 'lamda': 8.620379857631981, 'k': 4, 'epoch': 273, 'decay': 3}. Best is trial#2 with value: 0.6445.\u001b[0m\n"
     ]
    },
    {
     "name": "stderr",
     "output_type": "stream",
     "text": [
      " 18%|█▊        | 18/100 [29:01<10:59,  8.05s/it]"
     ]
    },
    {
     "name": "stdout",
     "output_type": "stream",
     "text": [
      "\u001b[32m[I 2020-05-28 02:04:09,996]\u001b[0m Finished trial#26 with value: 0.627 with parameters: {'lr': 0.0073944816824571685, 'lamda': 0.20990792776921863, 'k': 5, 'epoch': 171, 'decay': 6}. Best is trial#2 with value: 0.6445.\u001b[0m\n"
     ]
    },
    {
     "name": "stderr",
     "output_type": "stream",
     "text": [
      " 18%|█▊        | 18/100 [29:05<10:59,  8.05s/it]"
     ]
    },
    {
     "name": "stdout",
     "output_type": "stream",
     "text": [
      "\u001b[32m[I 2020-05-28 02:04:14,746]\u001b[0m Finished trial#27 with value: 0.6064999999999999 with parameters: {'lr': 0.02348848702811607, 'lamda': 1.7329808654365404, 'k': 10, 'epoch': 369, 'decay': 3}. Best is trial#2 with value: 0.6445.\u001b[0m\n"
     ]
    },
    {
     "name": "stderr",
     "output_type": "stream",
     "text": [
      " 18%|█▊        | 18/100 [29:08<10:59,  8.05s/it]"
     ]
    },
    {
     "name": "stdout",
     "output_type": "stream",
     "text": [
      "\u001b[32m[I 2020-05-28 02:04:17,661]\u001b[0m Finished trial#28 with value: 0.597 with parameters: {'lr': 0.0013117245405630483, 'lamda': 0.0055380210116871475, 'k': 4, 'epoch': 224, 'decay': 5}. Best is trial#2 with value: 0.6445.\u001b[0m\n"
     ]
    },
    {
     "name": "stderr",
     "output_type": "stream",
     "text": [
      " 18%|█▊        | 18/100 [29:12<10:59,  8.05s/it]"
     ]
    },
    {
     "name": "stdout",
     "output_type": "stream",
     "text": [
      "\u001b[32m[I 2020-05-28 02:04:21,655]\u001b[0m Finished trial#29 with value: 0.633 with parameters: {'lr': 0.04928746980226703, 'lamda': 0.0005548546874661947, 'k': 5, 'epoch': 299, 'decay': 4}. Best is trial#2 with value: 0.6445.\u001b[0m\n"
     ]
    },
    {
     "name": "stderr",
     "output_type": "stream",
     "text": [
      " 18%|█▊        | 18/100 [29:16<10:59,  8.05s/it]"
     ]
    },
    {
     "name": "stdout",
     "output_type": "stream",
     "text": [
      "\u001b[32m[I 2020-05-28 02:04:25,765]\u001b[0m Finished trial#30 with value: 0.5995 with parameters: {'lr': 0.09973695834779597, 'lamda': 0.0006843244468418176, 'k': 8, 'epoch': 390, 'decay': 6}. Best is trial#2 with value: 0.6445.\u001b[0m\n"
     ]
    },
    {
     "name": "stderr",
     "output_type": "stream",
     "text": [
      " 18%|█▊        | 18/100 [29:20<10:59,  8.05s/it]"
     ]
    },
    {
     "name": "stdout",
     "output_type": "stream",
     "text": [
      "\u001b[32m[I 2020-05-28 02:04:29,716]\u001b[0m Finished trial#31 with value: 0.6479999999999999 with parameters: {'lr': 0.01701931901177836, 'lamda': 0.03660163253700573, 'k': 5, 'epoch': 296, 'decay': 4}. Best is trial#31 with value: 0.6479999999999999.\u001b[0m\n"
     ]
    },
    {
     "name": "stderr",
     "output_type": "stream",
     "text": [
      " 18%|█▊        | 18/100 [29:25<10:59,  8.05s/it]"
     ]
    },
    {
     "name": "stdout",
     "output_type": "stream",
     "text": [
      "\u001b[32m[I 2020-05-28 02:04:33,852]\u001b[0m Finished trial#32 with value: 0.6265 with parameters: {'lr': 0.03898659881257962, 'lamda': 0.03204775540690615, 'k': 5, 'epoch': 306, 'decay': 4}. Best is trial#31 with value: 0.6479999999999999.\u001b[0m\n"
     ]
    },
    {
     "name": "stderr",
     "output_type": "stream",
     "text": [
      " 18%|█▊        | 18/100 [29:31<10:59,  8.05s/it]"
     ]
    },
    {
     "name": "stdout",
     "output_type": "stream",
     "text": [
      "\u001b[32m[I 2020-05-28 02:04:39,864]\u001b[0m Finished trial#33 with value: 0.631 with parameters: {'lr': 0.018461926855354627, 'lamda': 6.046613082358771e-07, 'k': 5, 'epoch': 460, 'decay': 4}. Best is trial#31 with value: 0.6479999999999999.\u001b[0m\n"
     ]
    },
    {
     "name": "stderr",
     "output_type": "stream",
     "text": [
      " 18%|█▊        | 18/100 [29:35<10:59,  8.05s/it]"
     ]
    },
    {
     "name": "stdout",
     "output_type": "stream",
     "text": [
      "\u001b[32m[I 2020-05-28 02:04:44,221]\u001b[0m Finished trial#34 with value: 0.624 with parameters: {'lr': 0.042810018600335835, 'lamda': 5.452364504607166e-06, 'k': 5, 'epoch': 331, 'decay': 4}. Best is trial#31 with value: 0.6479999999999999.\u001b[0m\n"
     ]
    },
    {
     "name": "stderr",
     "output_type": "stream",
     "text": [
      " 18%|█▊        | 18/100 [29:39<10:59,  8.05s/it]"
     ]
    },
    {
     "name": "stdout",
     "output_type": "stream",
     "text": [
      "\u001b[32m[I 2020-05-28 02:04:48,014]\u001b[0m Finished trial#35 with value: 0.6275 with parameters: {'lr': 0.011030961797740588, 'lamda': 8.637417002966556e-05, 'k': 5, 'epoch': 284, 'decay': 7}. Best is trial#31 with value: 0.6479999999999999.\u001b[0m\n"
     ]
    },
    {
     "name": "stderr",
     "output_type": "stream",
     "text": [
      " 18%|█▊        | 18/100 [29:41<10:59,  8.05s/it]"
     ]
    },
    {
     "name": "stdout",
     "output_type": "stream",
     "text": [
      "\u001b[32m[I 2020-05-28 02:04:50,673]\u001b[0m Finished trial#36 with value: 0.626 with parameters: {'lr': 0.019490190034575246, 'lamda': 1.6203798650691462e-05, 'k': 4, 'epoch': 203, 'decay': 6}. Best is trial#31 with value: 0.6479999999999999.\u001b[0m\n"
     ]
    },
    {
     "name": "stderr",
     "output_type": "stream",
     "text": [
      " 18%|█▊        | 18/100 [29:45<10:59,  8.05s/it]"
     ]
    },
    {
     "name": "stdout",
     "output_type": "stream",
     "text": [
      "\u001b[32m[I 2020-05-28 02:04:54,648]\u001b[0m Finished trial#37 with value: 0.6199999999999999 with parameters: {'lr': 0.09891615206048383, 'lamda': 0.00036013033297483516, 'k': 5, 'epoch': 301, 'decay': 5}. Best is trial#31 with value: 0.6479999999999999.\u001b[0m\n"
     ]
    },
    {
     "name": "stderr",
     "output_type": "stream",
     "text": [
      " 18%|█▊        | 18/100 [29:50<10:59,  8.05s/it]"
     ]
    },
    {
     "name": "stdout",
     "output_type": "stream",
     "text": [
      "\u001b[32m[I 2020-05-28 02:04:59,417]\u001b[0m Finished trial#38 with value: 0.6114999999999999 with parameters: {'lr': 0.0038750198427461957, 'lamda': 0.0016158944753169083, 'k': 5, 'epoch': 364, 'decay': 3}. Best is trial#31 with value: 0.6479999999999999.\u001b[0m\n"
     ]
    },
    {
     "name": "stderr",
     "output_type": "stream",
     "text": [
      " 18%|█▊        | 18/100 [29:52<10:59,  8.05s/it]"
     ]
    },
    {
     "name": "stdout",
     "output_type": "stream",
     "text": [
      "\u001b[32m[I 2020-05-28 02:05:01,297]\u001b[0m Finished trial#39 with value: 0.6184999999999999 with parameters: {'lr': 0.030522771839213123, 'lamda': 0.024875285148661518, 'k': 4, 'epoch': 142, 'decay': 9}. Best is trial#31 with value: 0.6479999999999999.\u001b[0m\n"
     ]
    },
    {
     "name": "stderr",
     "output_type": "stream",
     "text": [
      " 18%|█▊        | 18/100 [29:56<10:59,  8.05s/it]"
     ]
    },
    {
     "name": "stdout",
     "output_type": "stream",
     "text": [
      "\u001b[32m[I 2020-05-28 02:05:04,884]\u001b[0m Finished trial#40 with value: 0.623 with parameters: {'lr': 0.0561166017506943, 'lamda': 2.814648004499813e-06, 'k': 8, 'epoch': 342, 'decay': 4}. Best is trial#31 with value: 0.6479999999999999.\u001b[0m\n"
     ]
    },
    {
     "name": "stderr",
     "output_type": "stream",
     "text": [
      " 18%|█▊        | 18/100 [29:59<10:59,  8.05s/it]"
     ]
    },
    {
     "name": "stdout",
     "output_type": "stream",
     "text": [
      "\u001b[32m[I 2020-05-28 02:05:08,446]\u001b[0m Finished trial#41 with value: 0.6315 with parameters: {'lr': 0.007081100688386311, 'lamda': 0.08844140346182397, 'k': 5, 'epoch': 259, 'decay': 5}. Best is trial#31 with value: 0.6479999999999999.\u001b[0m\n"
     ]
    },
    {
     "name": "stderr",
     "output_type": "stream",
     "text": [
      " 18%|█▊        | 18/100 [30:02<10:59,  8.05s/it]"
     ]
    },
    {
     "name": "stdout",
     "output_type": "stream",
     "text": [
      "\u001b[32m[I 2020-05-28 02:05:11,307]\u001b[0m Finished trial#42 with value: 0.6335 with parameters: {'lr': 0.009482324288319547, 'lamda': 0.47361454484698806, 'k': 5, 'epoch': 213, 'decay': 4}. Best is trial#31 with value: 0.6479999999999999.\u001b[0m\n"
     ]
    },
    {
     "name": "stderr",
     "output_type": "stream",
     "text": [
      " 18%|█▊        | 18/100 [30:05<10:59,  8.05s/it]"
     ]
    },
    {
     "name": "stdout",
     "output_type": "stream",
     "text": [
      "\u001b[32m[I 2020-05-28 02:05:14,272]\u001b[0m Finished trial#43 with value: 0.6255 with parameters: {'lr': 0.04134548872957705, 'lamda': 0.27585014648000816, 'k': 5, 'epoch': 220, 'decay': 3}. Best is trial#31 with value: 0.6479999999999999.\u001b[0m\n"
     ]
    },
    {
     "name": "stderr",
     "output_type": "stream",
     "text": [
      " 18%|█▊        | 18/100 [30:07<10:59,  8.05s/it]"
     ]
    },
    {
     "name": "stdout",
     "output_type": "stream",
     "text": [
      "\u001b[32m[I 2020-05-28 02:05:16,550]\u001b[0m Finished trial#44 with value: 0.6315 with parameters: {'lr': 0.01523813093348651, 'lamda': 0.013342215516174285, 'k': 5, 'epoch': 167, 'decay': 4}. Best is trial#31 with value: 0.6479999999999999.\u001b[0m\n"
     ]
    },
    {
     "name": "stderr",
     "output_type": "stream",
     "text": [
      " 18%|█▊        | 18/100 [30:10<10:59,  8.05s/it]"
     ]
    },
    {
     "name": "stdout",
     "output_type": "stream",
     "text": [
      "\u001b[32m[I 2020-05-28 02:05:19,152]\u001b[0m Finished trial#45 with value: 0.5625 with parameters: {'lr': 0.0003310414663092274, 'lamda': 0.693136942711636, 'k': 5, 'epoch': 191, 'decay': 4}. Best is trial#31 with value: 0.6479999999999999.\u001b[0m\n"
     ]
    },
    {
     "name": "stderr",
     "output_type": "stream",
     "text": [
      " 18%|█▊        | 18/100 [30:14<10:59,  8.05s/it]"
     ]
    },
    {
     "name": "stdout",
     "output_type": "stream",
     "text": [
      "\u001b[32m[I 2020-05-28 02:05:22,919]\u001b[0m Finished trial#46 with value: 0.581 with parameters: {'lr': 0.0006713658668742326, 'lamda': 5.342847205535451e-07, 'k': 10, 'epoch': 290, 'decay': 3}. Best is trial#31 with value: 0.6479999999999999.\u001b[0m\n"
     ]
    },
    {
     "name": "stderr",
     "output_type": "stream",
     "text": [
      " 18%|█▊        | 18/100 [30:16<10:59,  8.05s/it]"
     ]
    },
    {
     "name": "stdout",
     "output_type": "stream",
     "text": [
      "\u001b[32m[I 2020-05-28 02:05:25,730]\u001b[0m Finished trial#47 with value: 0.6135 with parameters: {'lr': 0.004020110402622458, 'lamda': 2.0986846080468292e-05, 'k': 4, 'epoch': 215, 'decay': 8}. Best is trial#31 with value: 0.6479999999999999.\u001b[0m\n"
     ]
    },
    {
     "name": "stderr",
     "output_type": "stream",
     "text": [
      " 18%|█▊        | 18/100 [30:20<10:59,  8.05s/it]"
     ]
    },
    {
     "name": "stdout",
     "output_type": "stream",
     "text": [
      "\u001b[32m[I 2020-05-28 02:05:28,911]\u001b[0m Finished trial#48 with value: 0.6165 with parameters: {'lr': 0.009936585699659906, 'lamda': 0.0001761995026308183, 'k': 5, 'epoch': 237, 'decay': 5}. Best is trial#31 with value: 0.6479999999999999.\u001b[0m\n"
     ]
    },
    {
     "name": "stderr",
     "output_type": "stream",
     "text": [
      " 18%|█▊        | 18/100 [30:24<10:59,  8.05s/it]"
     ]
    },
    {
     "name": "stdout",
     "output_type": "stream",
     "text": [
      "\u001b[32m[I 2020-05-28 02:05:33,239]\u001b[0m Finished trial#49 with value: 0.6355 with parameters: {'lr': 0.06657958762344081, 'lamda': 0.005287347756255521, 'k': 5, 'epoch': 317, 'decay': 4}. Best is trial#31 with value: 0.6479999999999999.\u001b[0m\n"
     ]
    },
    {
     "name": "stderr",
     "output_type": "stream",
     "text": [
      " 18%|█▊        | 18/100 [30:25<10:59,  8.05s/it]"
     ]
    },
    {
     "name": "stdout",
     "output_type": "stream",
     "text": [
      "\u001b[32m[I 2020-05-28 02:05:34,666]\u001b[0m Finished trial#50 with value: 0.632 with parameters: {'lr': 0.07160183051138165, 'lamda': 0.0032635971888946122, 'k': 4, 'epoch': 103, 'decay': 3}. Best is trial#31 with value: 0.6479999999999999.\u001b[0m\n"
     ]
    },
    {
     "name": "stderr",
     "output_type": "stream",
     "text": [
      " 18%|█▊        | 18/100 [30:31<10:59,  8.05s/it]"
     ]
    },
    {
     "name": "stdout",
     "output_type": "stream",
     "text": [
      "\u001b[32m[I 2020-05-28 02:05:40,621]\u001b[0m Finished trial#51 with value: 0.619 with parameters: {'lr': 0.03546031353138621, 'lamda': 0.04745385476204549, 'k': 5, 'epoch': 456, 'decay': 4}. Best is trial#31 with value: 0.6479999999999999.\u001b[0m\n"
     ]
    },
    {
     "name": "stderr",
     "output_type": "stream",
     "text": [
      " 18%|█▊        | 18/100 [30:36<10:59,  8.05s/it]"
     ]
    },
    {
     "name": "stdout",
     "output_type": "stream",
     "text": [
      "\u001b[32m[I 2020-05-28 02:05:45,734]\u001b[0m Finished trial#52 with value: 0.6185 with parameters: {'lr': 0.019504741625672357, 'lamda': 0.005589173418906024, 'k': 5, 'epoch': 389, 'decay': 4}. Best is trial#31 with value: 0.6479999999999999.\u001b[0m\n"
     ]
    },
    {
     "name": "stderr",
     "output_type": "stream",
     "text": [
      " 18%|█▊        | 18/100 [30:41<10:59,  8.05s/it]"
     ]
    },
    {
     "name": "stdout",
     "output_type": "stream",
     "text": [
      "\u001b[32m[I 2020-05-28 02:05:49,915]\u001b[0m Finished trial#53 with value: 0.6265 with parameters: {'lr': 0.05340048942663967, 'lamda': 0.0010531290218871554, 'k': 5, 'epoch': 315, 'decay': 5}. Best is trial#31 with value: 0.6479999999999999.\u001b[0m\n"
     ]
    },
    {
     "name": "stderr",
     "output_type": "stream",
     "text": [
      " 18%|█▊        | 18/100 [30:42<10:59,  8.05s/it]"
     ]
    },
    {
     "name": "stdout",
     "output_type": "stream",
     "text": [
      "\u001b[32m[I 2020-05-28 02:05:51,586]\u001b[0m Finished trial#54 with value: 0.61 with parameters: {'lr': 0.08159071358709007, 'lamda': 0.017640641673109893, 'k': 5, 'epoch': 120, 'decay': 4}. Best is trial#31 with value: 0.6479999999999999.\u001b[0m\n"
     ]
    },
    {
     "name": "stderr",
     "output_type": "stream",
     "text": [
      " 18%|█▊        | 18/100 [30:44<10:59,  8.05s/it]"
     ]
    },
    {
     "name": "stdout",
     "output_type": "stream",
     "text": [
      "\u001b[32m[I 2020-05-28 02:05:53,716]\u001b[0m Finished trial#55 with value: 0.637 with parameters: {'lr': 0.027221711851933977, 'lamda': 0.0025866805234710543, 'k': 5, 'epoch': 156, 'decay': 4}. Best is trial#31 with value: 0.6479999999999999.\u001b[0m\n"
     ]
    },
    {
     "name": "stderr",
     "output_type": "stream",
     "text": [
      " 18%|█▊        | 18/100 [30:47<10:59,  8.05s/it]"
     ]
    },
    {
     "name": "stdout",
     "output_type": "stream",
     "text": [
      "\u001b[32m[I 2020-05-28 02:05:55,823]\u001b[0m Finished trial#56 with value: 0.6225 with parameters: {'lr': 0.027190823593949778, 'lamda': 0.0024190956482512465, 'k': 5, 'epoch': 150, 'decay': 10}. Best is trial#31 with value: 0.6479999999999999.\u001b[0m\n"
     ]
    },
    {
     "name": "stderr",
     "output_type": "stream",
     "text": [
      " 18%|█▊        | 18/100 [30:48<10:59,  8.05s/it]"
     ]
    },
    {
     "name": "stdout",
     "output_type": "stream",
     "text": [
      "\u001b[32m[I 2020-05-28 02:05:57,248]\u001b[0m Finished trial#57 with value: 0.5825 with parameters: {'lr': 0.014008470048146487, 'lamda': 0.13511375679508214, 'k': 8, 'epoch': 122, 'decay': 5}. Best is trial#31 with value: 0.6479999999999999.\u001b[0m\n"
     ]
    },
    {
     "name": "stderr",
     "output_type": "stream",
     "text": [
      " 18%|█▊        | 18/100 [30:50<10:59,  8.05s/it]"
     ]
    },
    {
     "name": "stdout",
     "output_type": "stream",
     "text": [
      "\u001b[32m[I 2020-05-28 02:05:59,600]\u001b[0m Finished trial#58 with value: 0.6285000000000001 with parameters: {'lr': 0.00939318865763919, 'lamda': 0.00855148343220025, 'k': 5, 'epoch': 174, 'decay': 3}. Best is trial#31 with value: 0.6479999999999999.\u001b[0m\n"
     ]
    },
    {
     "name": "stderr",
     "output_type": "stream",
     "text": [
      " 18%|█▊        | 18/100 [30:52<10:59,  8.05s/it]"
     ]
    },
    {
     "name": "stdout",
     "output_type": "stream",
     "text": [
      "\u001b[32m[I 2020-05-28 02:06:01,731]\u001b[0m Finished trial#59 with value: 0.5885 with parameters: {'lr': 0.005486588809823162, 'lamda': 0.004064089182006921, 'k': 10, 'epoch': 160, 'decay': 4}. Best is trial#31 with value: 0.6479999999999999.\u001b[0m\n"
     ]
    },
    {
     "name": "stderr",
     "output_type": "stream",
     "text": [
      " 18%|█▊        | 18/100 [30:55<10:59,  8.05s/it]"
     ]
    },
    {
     "name": "stdout",
     "output_type": "stream",
     "text": [
      "\u001b[32m[I 2020-05-28 02:06:04,553]\u001b[0m Finished trial#60 with value: 0.624 with parameters: {'lr': 0.02219579337785008, 'lamda': 0.0012416264932966835, 'k': 5, 'epoch': 203, 'decay': 6}. Best is trial#31 with value: 0.6479999999999999.\u001b[0m\n"
     ]
    },
    {
     "name": "stderr",
     "output_type": "stream",
     "text": [
      " 18%|█▊        | 18/100 [30:58<10:59,  8.05s/it]"
     ]
    },
    {
     "name": "stdout",
     "output_type": "stream",
     "text": [
      "\u001b[32m[I 2020-05-28 02:06:07,026]\u001b[0m Finished trial#61 with value: 0.633 with parameters: {'lr': 0.050083755383545356, 'lamda': 0.0003061744813198215, 'k': 5, 'epoch': 182, 'decay': 4}. Best is trial#31 with value: 0.6479999999999999.\u001b[0m\n"
     ]
    },
    {
     "name": "stderr",
     "output_type": "stream",
     "text": [
      " 18%|█▊        | 18/100 [31:01<10:59,  8.05s/it]"
     ]
    },
    {
     "name": "stdout",
     "output_type": "stream",
     "text": [
      "\u001b[32m[I 2020-05-28 02:06:10,553]\u001b[0m Finished trial#62 with value: 0.6205 with parameters: {'lr': 0.03500703573234346, 'lamda': 0.5415806950721077, 'k': 5, 'epoch': 265, 'decay': 4}. Best is trial#31 with value: 0.6479999999999999.\u001b[0m\n"
     ]
    },
    {
     "name": "stderr",
     "output_type": "stream",
     "text": [
      " 18%|█▊        | 18/100 [31:05<10:59,  8.05s/it]"
     ]
    },
    {
     "name": "stdout",
     "output_type": "stream",
     "text": [
      "\u001b[32m[I 2020-05-28 02:06:13,877]\u001b[0m Finished trial#63 with value: 0.6155 with parameters: {'lr': 0.07431192208275875, 'lamda': 0.031857354684111557, 'k': 5, 'epoch': 249, 'decay': 3}. Best is trial#31 with value: 0.6479999999999999.\u001b[0m\n"
     ]
    },
    {
     "name": "stderr",
     "output_type": "stream",
     "text": [
      " 18%|█▊        | 18/100 [31:11<10:59,  8.05s/it]"
     ]
    },
    {
     "name": "stdout",
     "output_type": "stream",
     "text": [
      "\u001b[32m[I 2020-05-28 02:06:20,436]\u001b[0m Finished trial#64 with value: 0.6365000000000001 with parameters: {'lr': 0.01591018440146278, 'lamda': 0.007403530074451102, 'k': 5, 'epoch': 497, 'decay': 4}. Best is trial#31 with value: 0.6479999999999999.\u001b[0m\n"
     ]
    },
    {
     "name": "stderr",
     "output_type": "stream",
     "text": [
      " 18%|█▊        | 18/100 [31:18<10:59,  8.05s/it]"
     ]
    },
    {
     "name": "stdout",
     "output_type": "stream",
     "text": [
      "\u001b[32m[I 2020-05-28 02:06:26,919]\u001b[0m Finished trial#65 with value: 0.628 with parameters: {'lr': 0.015467574667830946, 'lamda': 2.0306148013021894, 'k': 5, 'epoch': 497, 'decay': 5}. Best is trial#31 with value: 0.6479999999999999.\u001b[0m\n"
     ]
    },
    {
     "name": "stderr",
     "output_type": "stream",
     "text": [
      " 18%|█▊        | 18/100 [31:23<10:59,  8.05s/it]"
     ]
    },
    {
     "name": "stdout",
     "output_type": "stream",
     "text": [
      "\u001b[32m[I 2020-05-28 02:06:32,669]\u001b[0m Finished trial#66 with value: 0.63 with parameters: {'lr': 0.0287985461196728, 'lamda': 0.008450249360844337, 'k': 4, 'epoch': 465, 'decay': 4}. Best is trial#31 with value: 0.6479999999999999.\u001b[0m\n"
     ]
    },
    {
     "name": "stderr",
     "output_type": "stream",
     "text": [
      " 18%|█▊        | 18/100 [31:29<10:59,  8.05s/it]"
     ]
    },
    {
     "name": "stdout",
     "output_type": "stream",
     "text": [
      "\u001b[32m[I 2020-05-28 02:06:38,184]\u001b[0m Finished trial#67 with value: 0.622 with parameters: {'lr': 0.002373324847145159, 'lamda': 0.019696344403259295, 'k': 5, 'epoch': 418, 'decay': 4}. Best is trial#31 with value: 0.6479999999999999.\u001b[0m\n"
     ]
    },
    {
     "name": "stderr",
     "output_type": "stream",
     "text": [
      " 18%|█▊        | 18/100 [31:35<10:59,  8.05s/it]"
     ]
    },
    {
     "name": "stdout",
     "output_type": "stream",
     "text": [
      "\u001b[32m[I 2020-05-28 02:06:43,888]\u001b[0m Finished trial#68 with value: 0.633 with parameters: {'lr': 0.000102938516784145, 'lamda': 0.154609720333609, 'k': 5, 'epoch': 438, 'decay': 5}. Best is trial#31 with value: 0.6479999999999999.\u001b[0m\n"
     ]
    },
    {
     "name": "stderr",
     "output_type": "stream",
     "text": [
      " 18%|█▊        | 18/100 [31:41<10:59,  8.05s/it]"
     ]
    },
    {
     "name": "stdout",
     "output_type": "stream",
     "text": [
      "\u001b[32m[I 2020-05-28 02:06:50,118]\u001b[0m Finished trial#69 with value: 0.627 with parameters: {'lr': 0.012792472678796584, 'lamda': 0.05285913973812496, 'k': 5, 'epoch': 480, 'decay': 3}. Best is trial#31 with value: 0.6479999999999999.\u001b[0m\n"
     ]
    },
    {
     "name": "stderr",
     "output_type": "stream",
     "text": [
      " 18%|█▊        | 18/100 [31:47<10:59,  8.05s/it]"
     ]
    },
    {
     "name": "stdout",
     "output_type": "stream",
     "text": [
      "\u001b[32m[I 2020-05-28 02:06:56,049]\u001b[0m Finished trial#70 with value: 0.6194999999999999 with parameters: {'lr': 0.008731128744691815, 'lamda': 0.007393094983540938, 'k': 4, 'epoch': 485, 'decay': 5}. Best is trial#31 with value: 0.6479999999999999.\u001b[0m\n"
     ]
    },
    {
     "name": "stderr",
     "output_type": "stream",
     "text": [
      " 18%|█▊        | 18/100 [31:51<10:59,  8.05s/it]"
     ]
    },
    {
     "name": "stdout",
     "output_type": "stream",
     "text": [
      "\u001b[32m[I 2020-05-28 02:07:00,362]\u001b[0m Finished trial#71 with value: 0.63 with parameters: {'lr': 0.019101732396924937, 'lamda': 0.0006023787257184286, 'k': 5, 'epoch': 330, 'decay': 4}. Best is trial#31 with value: 0.6479999999999999.\u001b[0m\n"
     ]
    },
    {
     "name": "stderr",
     "output_type": "stream",
     "text": [
      " 18%|█▊        | 18/100 [31:56<10:59,  8.05s/it]"
     ]
    },
    {
     "name": "stdout",
     "output_type": "stream",
     "text": [
      "\u001b[32m[I 2020-05-28 02:07:04,925]\u001b[0m Finished trial#72 with value: 0.6335 with parameters: {'lr': 0.04759482418428227, 'lamda': 0.00287609758419023, 'k': 5, 'epoch': 346, 'decay': 4}. Best is trial#31 with value: 0.6479999999999999.\u001b[0m\n"
     ]
    },
    {
     "name": "stderr",
     "output_type": "stream",
     "text": [
      " 18%|█▊        | 18/100 [32:00<10:59,  8.05s/it]"
     ]
    },
    {
     "name": "stdout",
     "output_type": "stream",
     "text": [
      "\u001b[32m[I 2020-05-28 02:07:09,546]\u001b[0m Finished trial#73 with value: 0.6309999999999999 with parameters: {'lr': 0.024908663557578963, 'lamda': 0.0022758781316174572, 'k': 5, 'epoch': 344, 'decay': 4}. Best is trial#31 with value: 0.6479999999999999.\u001b[0m\n"
     ]
    },
    {
     "name": "stderr",
     "output_type": "stream",
     "text": [
      " 18%|█▊        | 18/100 [32:05<10:59,  8.05s/it]"
     ]
    },
    {
     "name": "stdout",
     "output_type": "stream",
     "text": [
      "\u001b[32m[I 2020-05-28 02:07:14,514]\u001b[0m Finished trial#74 with value: 0.628 with parameters: {'lr': 0.04054083044746396, 'lamda': 0.015054800600636624, 'k': 5, 'epoch': 379, 'decay': 4}. Best is trial#31 with value: 0.6479999999999999.\u001b[0m\n"
     ]
    },
    {
     "name": "stderr",
     "output_type": "stream",
     "text": [
      " 18%|█▊        | 18/100 [32:10<10:59,  8.05s/it]"
     ]
    },
    {
     "name": "stdout",
     "output_type": "stream",
     "text": [
      "\u001b[32m[I 2020-05-28 02:07:19,246]\u001b[0m Finished trial#75 with value: 0.6289999999999999 with parameters: {'lr': 0.09876754834460008, 'lamda': 0.004319527454038796, 'k': 5, 'epoch': 357, 'decay': 3}. Best is trial#31 with value: 0.6479999999999999.\u001b[0m\n"
     ]
    },
    {
     "name": "stderr",
     "output_type": "stream",
     "text": [
      " 18%|█▊        | 18/100 [32:13<10:59,  8.05s/it]"
     ]
    },
    {
     "name": "stdout",
     "output_type": "stream",
     "text": [
      "\u001b[32m[I 2020-05-28 02:07:22,357]\u001b[0m Finished trial#76 with value: 0.632 with parameters: {'lr': 0.05705007582495783, 'lamda': 0.0016051181420676302, 'k': 5, 'epoch': 232, 'decay': 4}. Best is trial#31 with value: 0.6479999999999999.\u001b[0m\n"
     ]
    },
    {
     "name": "stderr",
     "output_type": "stream",
     "text": [
      " 18%|█▊        | 18/100 [32:16<10:59,  8.05s/it]"
     ]
    },
    {
     "name": "stdout",
     "output_type": "stream",
     "text": [
      "\u001b[32m[I 2020-05-28 02:07:25,681]\u001b[0m Finished trial#77 with value: 0.6110000000000001 with parameters: {'lr': 0.033981578788864125, 'lamda': 0.08981797054382491, 'k': 8, 'epoch': 315, 'decay': 3}. Best is trial#31 with value: 0.6479999999999999.\u001b[0m\n"
     ]
    },
    {
     "name": "stderr",
     "output_type": "stream",
     "text": [
      " 18%|█▊        | 18/100 [32:20<10:59,  8.05s/it]"
     ]
    },
    {
     "name": "stdout",
     "output_type": "stream",
     "text": [
      "\u001b[32m[I 2020-05-28 02:07:29,303]\u001b[0m Finished trial#78 with value: 0.6359999999999999 with parameters: {'lr': 0.017289961050002384, 'lamda': 0.0001932566899297945, 'k': 5, 'epoch': 272, 'decay': 5}. Best is trial#31 with value: 0.6479999999999999.\u001b[0m\n"
     ]
    },
    {
     "name": "stderr",
     "output_type": "stream",
     "text": [
      " 18%|█▊        | 18/100 [32:24<10:59,  8.05s/it]"
     ]
    },
    {
     "name": "stdout",
     "output_type": "stream",
     "text": [
      "\u001b[32m[I 2020-05-28 02:07:32,922]\u001b[0m Finished trial#79 with value: 0.5915 with parameters: {'lr': 0.005127265787735655, 'lamda': 1.7079186539223213e-06, 'k': 10, 'epoch': 279, 'decay': 7}. Best is trial#31 with value: 0.6479999999999999.\u001b[0m\n"
     ]
    },
    {
     "name": "stderr",
     "output_type": "stream",
     "text": [
      " 18%|█▊        | 18/100 [32:28<10:59,  8.05s/it]"
     ]
    },
    {
     "name": "stdout",
     "output_type": "stream",
     "text": [
      "\u001b[32m[I 2020-05-28 02:07:36,813]\u001b[0m Finished trial#80 with value: 0.6275000000000001 with parameters: {'lr': 0.01567051310691922, 'lamda': 0.00011030740446923722, 'k': 5, 'epoch': 294, 'decay': 5}. Best is trial#31 with value: 0.6479999999999999.\u001b[0m\n"
     ]
    },
    {
     "name": "stderr",
     "output_type": "stream",
     "text": [
      " 18%|█▊        | 18/100 [32:31<10:59,  8.05s/it]"
     ]
    },
    {
     "name": "stdout",
     "output_type": "stream",
     "text": [
      "\u001b[32m[I 2020-05-28 02:07:40,400]\u001b[0m Finished trial#81 with value: 0.623 with parameters: {'lr': 0.022844510519107575, 'lamda': 3.132555353177622e-05, 'k': 5, 'epoch': 266, 'decay': 4}. Best is trial#31 with value: 0.6479999999999999.\u001b[0m\n"
     ]
    },
    {
     "name": "stderr",
     "output_type": "stream",
     "text": [
      " 18%|█▊        | 18/100 [32:34<10:59,  8.05s/it]"
     ]
    },
    {
     "name": "stdout",
     "output_type": "stream",
     "text": [
      "\u001b[32m[I 2020-05-28 02:07:43,242]\u001b[0m Finished trial#82 with value: 0.632 with parameters: {'lr': 0.02976653941045158, 'lamda': 0.0008634159504548859, 'k': 5, 'epoch': 211, 'decay': 4}. Best is trial#31 with value: 0.6479999999999999.\u001b[0m\n"
     ]
    },
    {
     "name": "stderr",
     "output_type": "stream",
     "text": [
      " 18%|█▊        | 18/100 [32:37<10:59,  8.05s/it]"
     ]
    },
    {
     "name": "stdout",
     "output_type": "stream",
     "text": [
      "\u001b[32m[I 2020-05-28 02:07:46,593]\u001b[0m Finished trial#83 with value: 0.641 with parameters: {'lr': 0.06286294364699495, 'lamda': 0.012888817683454023, 'k': 5, 'epoch': 252, 'decay': 5}. Best is trial#31 with value: 0.6479999999999999.\u001b[0m\n"
     ]
    },
    {
     "name": "stderr",
     "output_type": "stream",
     "text": [
      " 18%|█▊        | 18/100 [32:41<10:59,  8.05s/it]"
     ]
    },
    {
     "name": "stdout",
     "output_type": "stream",
     "text": [
      "\u001b[32m[I 2020-05-28 02:07:50,273]\u001b[0m Finished trial#84 with value: 0.6140000000000001 with parameters: {'lr': 0.01776300537331865, 'lamda': 0.03363162710756317, 'k': 5, 'epoch': 273, 'decay': 6}. Best is trial#31 with value: 0.6479999999999999.\u001b[0m\n"
     ]
    },
    {
     "name": "stderr",
     "output_type": "stream",
     "text": [
      " 18%|█▊        | 18/100 [32:45<10:59,  8.05s/it]"
     ]
    },
    {
     "name": "stdout",
     "output_type": "stream",
     "text": [
      "\u001b[32m[I 2020-05-28 02:07:54,333]\u001b[0m Finished trial#85 with value: 0.627 with parameters: {'lr': 0.04703282269734156, 'lamda': 0.00024150128308170988, 'k': 5, 'epoch': 308, 'decay': 5}. Best is trial#31 with value: 0.6479999999999999.\u001b[0m\n"
     ]
    },
    {
     "name": "stderr",
     "output_type": "stream",
     "text": [
      " 18%|█▊        | 18/100 [32:49<10:59,  8.05s/it]"
     ]
    },
    {
     "name": "stdout",
     "output_type": "stream",
     "text": [
      "\u001b[32m[I 2020-05-28 02:07:57,915]\u001b[0m Finished trial#86 with value: 0.6285 with parameters: {'lr': 0.01129307861690035, 'lamda': 0.005994827950095073, 'k': 4, 'epoch': 287, 'decay': 5}. Best is trial#31 with value: 0.6479999999999999.\u001b[0m\n"
     ]
    },
    {
     "name": "stderr",
     "output_type": "stream",
     "text": [
      " 18%|█▊        | 18/100 [32:52<10:59,  8.05s/it]"
     ]
    },
    {
     "name": "stdout",
     "output_type": "stream",
     "text": [
      "\u001b[32m[I 2020-05-28 02:08:01,268]\u001b[0m Finished trial#87 with value: 0.6295 with parameters: {'lr': 0.06473998835718699, 'lamda': 0.0124111106372853, 'k': 5, 'epoch': 249, 'decay': 5}. Best is trial#31 with value: 0.6479999999999999.\u001b[0m\n"
     ]
    },
    {
     "name": "stderr",
     "output_type": "stream",
     "text": [
      " 18%|█▊        | 18/100 [32:56<10:59,  8.05s/it]"
     ]
    },
    {
     "name": "stdout",
     "output_type": "stream",
     "text": [
      "\u001b[32m[I 2020-05-28 02:08:05,621]\u001b[0m Finished trial#88 with value: 0.6285000000000001 with parameters: {'lr': 0.0935373825307126, 'lamda': 7.905976174167839e-06, 'k': 5, 'epoch': 327, 'decay': 4}. Best is trial#31 with value: 0.6479999999999999.\u001b[0m\n"
     ]
    },
    {
     "name": "stderr",
     "output_type": "stream",
     "text": [
      " 18%|█▊        | 18/100 [33:00<10:59,  8.05s/it]"
     ]
    },
    {
     "name": "stdout",
     "output_type": "stream",
     "text": [
      "\u001b[32m[I 2020-05-28 02:08:09,069]\u001b[0m Finished trial#89 with value: 0.6300000000000001 with parameters: {'lr': 0.008557887981673855, 'lamda': 2.683471724751493e-07, 'k': 5, 'epoch': 257, 'decay': 6}. Best is trial#31 with value: 0.6479999999999999.\u001b[0m\n"
     ]
    },
    {
     "name": "stderr",
     "output_type": "stream",
     "text": [
      " 18%|█▊        | 18/100 [33:02<10:59,  8.05s/it]"
     ]
    },
    {
     "name": "stdout",
     "output_type": "stream",
     "text": [
      "\u001b[32m[I 2020-05-28 02:08:11,580]\u001b[0m Finished trial#90 with value: 0.634 with parameters: {'lr': 0.02238977012042056, 'lamda': 0.03955770479158774, 'k': 4, 'epoch': 192, 'decay': 8}. Best is trial#31 with value: 0.6479999999999999.\u001b[0m\n"
     ]
    },
    {
     "name": "stderr",
     "output_type": "stream",
     "text": [
      " 18%|█▊        | 18/100 [33:05<10:59,  8.05s/it]"
     ]
    },
    {
     "name": "stdout",
     "output_type": "stream",
     "text": [
      "\u001b[32m[I 2020-05-28 02:08:14,089]\u001b[0m Finished trial#91 with value: 0.627 with parameters: {'lr': 0.02169010422275982, 'lamda': 0.04242014998654765, 'k': 4, 'epoch': 194, 'decay': 8}. Best is trial#31 with value: 0.6479999999999999.\u001b[0m\n"
     ]
    },
    {
     "name": "stderr",
     "output_type": "stream",
     "text": [
      " 18%|█▊        | 18/100 [33:08<10:59,  8.05s/it]"
     ]
    },
    {
     "name": "stdout",
     "output_type": "stream",
     "text": [
      "\u001b[32m[I 2020-05-28 02:08:17,002]\u001b[0m Finished trial#92 with value: 0.635 with parameters: {'lr': 0.031212561163854388, 'lamda': 0.021219853375225466, 'k': 4, 'epoch': 227, 'decay': 10}. Best is trial#31 with value: 0.6479999999999999.\u001b[0m\n"
     ]
    },
    {
     "name": "stderr",
     "output_type": "stream",
     "text": [
      " 18%|█▊        | 18/100 [33:11<10:59,  8.05s/it]"
     ]
    },
    {
     "name": "stdout",
     "output_type": "stream",
     "text": [
      "\u001b[32m[I 2020-05-28 02:08:19,978]\u001b[0m Finished trial#93 with value: 0.628 with parameters: {'lr': 0.031368780690830315, 'lamda': 0.02423069749812372, 'k': 4, 'epoch': 230, 'decay': 9}. Best is trial#31 with value: 0.6479999999999999.\u001b[0m\n"
     ]
    },
    {
     "name": "stderr",
     "output_type": "stream",
     "text": [
      " 18%|█▊        | 18/100 [33:14<10:59,  8.05s/it]"
     ]
    },
    {
     "name": "stdout",
     "output_type": "stream",
     "text": [
      "\u001b[32m[I 2020-05-28 02:08:22,894]\u001b[0m Finished trial#94 with value: 0.61 with parameters: {'lr': 0.0658256826592812, 'lamda': 0.06826110211179146, 'k': 4, 'epoch': 223, 'decay': 10}. Best is trial#31 with value: 0.6479999999999999.\u001b[0m\n"
     ]
    },
    {
     "name": "stderr",
     "output_type": "stream",
     "text": [
      " 18%|█▊        | 18/100 [33:17<10:59,  8.05s/it]"
     ]
    },
    {
     "name": "stdout",
     "output_type": "stream",
     "text": [
      "\u001b[32m[I 2020-05-28 02:08:25,970]\u001b[0m Finished trial#95 with value: 0.6335000000000001 with parameters: {'lr': 0.04049368152715293, 'lamda': 0.016180763812146094, 'k': 4, 'epoch': 240, 'decay': 10}. Best is trial#31 with value: 0.6479999999999999.\u001b[0m\n"
     ]
    },
    {
     "name": "stderr",
     "output_type": "stream",
     "text": [
      " 18%|█▊        | 18/100 [33:19<10:59,  8.05s/it]"
     ]
    },
    {
     "name": "stdout",
     "output_type": "stream",
     "text": [
      "\u001b[32m[I 2020-05-28 02:08:28,571]\u001b[0m Finished trial#96 with value: 0.622 with parameters: {'lr': 0.02489351559814374, 'lamda': 0.009637106935574773, 'k': 4, 'epoch': 199, 'decay': 10}. Best is trial#31 with value: 0.6479999999999999.\u001b[0m\n"
     ]
    },
    {
     "name": "stderr",
     "output_type": "stream",
     "text": [
      " 18%|█▊        | 18/100 [33:22<10:59,  8.05s/it]"
     ]
    },
    {
     "name": "stdout",
     "output_type": "stream",
     "text": [
      "\u001b[32m[I 2020-05-28 02:08:30,926]\u001b[0m Finished trial#97 with value: 0.6225 with parameters: {'lr': 0.012913871705964561, 'lamda': 0.00478324854262827, 'k': 4, 'epoch': 181, 'decay': 9}. Best is trial#31 with value: 0.6479999999999999.\u001b[0m\n"
     ]
    },
    {
     "name": "stderr",
     "output_type": "stream",
     "text": [
      " 18%|█▊        | 18/100 [33:24<10:59,  8.05s/it]"
     ]
    },
    {
     "name": "stdout",
     "output_type": "stream",
     "text": [
      "\u001b[32m[I 2020-05-28 02:08:32,968]\u001b[0m Finished trial#98 with value: 0.623 with parameters: {'lr': 0.016876388362920467, 'lamda': 0.09207144879493583, 'k': 4, 'epoch': 154, 'decay': 9}. Best is trial#31 with value: 0.6479999999999999.\u001b[0m\n"
     ]
    },
    {
     "name": "stderr",
     "output_type": "stream",
     "text": [
      " 18%|█▊        | 18/100 [33:26<10:59,  8.05s/it]"
     ]
    },
    {
     "name": "stdout",
     "output_type": "stream",
     "text": [
      "\u001b[32m[I 2020-05-28 02:08:34,809]\u001b[0m Finished trial#99 with value: 0.6175 with parameters: {'lr': 0.08240156336945363, 'lamda': 0.009234855306404895, 'k': 4, 'epoch': 140, 'decay': 7}. Best is trial#31 with value: 0.6479999999999999.\u001b[0m\n",
      "\n"
     ]
    }
   ],
   "source": [
    "def objective(trial):\n",
    "    lr = trial.suggest_loguniform('lr', 1e-5, 1e-1)\n",
    "    lamda = trial.suggest_loguniform('lamda', 1e-7, 10)\n",
    "    k =  trial.suggest_categorical('k', [4,5,8,10])\n",
    "    epoch =  trial.suggest_int('epoch', 100, 500)\n",
    "    decay = trial.suggest_int('decay', 3, 10)\n",
    "    return cross_validate(np.array(X)[:2000,:], y.values,lr=lr,lamda=lamda,k=k,epoch=epoch,decay=decay)\n",
    "# cross_validate(X_preprocess, y.reshape(-1,1),lr=0.001,epoch=200)\n",
    "\n",
    "import optuna\n",
    "\n",
    "sampler = optuna.samplers.TPESampler()\n",
    "study = optuna.create_study(sampler=sampler, direction='maximize')\n",
    "study.optimize(func=objective, n_trials=100,show_progress_bar=True)"
   ]
  },
  {
   "cell_type": "code",
   "execution_count": 70,
   "metadata": {},
   "outputs": [
    {
     "data": {
      "text/html": [
       "<div>\n",
       "<style scoped>\n",
       "    .dataframe tbody tr th:only-of-type {\n",
       "        vertical-align: middle;\n",
       "    }\n",
       "\n",
       "    .dataframe tbody tr th {\n",
       "        vertical-align: top;\n",
       "    }\n",
       "\n",
       "    .dataframe thead th {\n",
       "        text-align: right;\n",
       "    }\n",
       "</style>\n",
       "<table border=\"1\" class=\"dataframe\">\n",
       "  <thead>\n",
       "    <tr style=\"text-align: right;\">\n",
       "      <th></th>\n",
       "      <th>number</th>\n",
       "      <th>value</th>\n",
       "      <th>duration</th>\n",
       "      <th>params_decay</th>\n",
       "      <th>params_epoch</th>\n",
       "      <th>params_k</th>\n",
       "      <th>params_lamda</th>\n",
       "      <th>params_lr</th>\n",
       "    </tr>\n",
       "  </thead>\n",
       "  <tbody>\n",
       "    <tr>\n",
       "      <th>5</th>\n",
       "      <td>5</td>\n",
       "      <td>0.5575</td>\n",
       "      <td>00:00:01.477225</td>\n",
       "      <td>6</td>\n",
       "      <td>132</td>\n",
       "      <td>8</td>\n",
       "      <td>1.430231e+00</td>\n",
       "      <td>0.000861</td>\n",
       "    </tr>\n",
       "    <tr>\n",
       "      <th>45</th>\n",
       "      <td>45</td>\n",
       "      <td>0.5625</td>\n",
       "      <td>00:00:02.591529</td>\n",
       "      <td>4</td>\n",
       "      <td>191</td>\n",
       "      <td>5</td>\n",
       "      <td>6.931369e-01</td>\n",
       "      <td>0.000331</td>\n",
       "    </tr>\n",
       "    <tr>\n",
       "      <th>8</th>\n",
       "      <td>8</td>\n",
       "      <td>0.5760</td>\n",
       "      <td>00:00:04.649339</td>\n",
       "      <td>8</td>\n",
       "      <td>348</td>\n",
       "      <td>5</td>\n",
       "      <td>1.355307e-01</td>\n",
       "      <td>0.000378</td>\n",
       "    </tr>\n",
       "    <tr>\n",
       "      <th>16</th>\n",
       "      <td>16</td>\n",
       "      <td>0.5800</td>\n",
       "      <td>00:00:03.592939</td>\n",
       "      <td>5</td>\n",
       "      <td>282</td>\n",
       "      <td>4</td>\n",
       "      <td>9.648241e-01</td>\n",
       "      <td>0.002647</td>\n",
       "    </tr>\n",
       "    <tr>\n",
       "      <th>46</th>\n",
       "      <td>46</td>\n",
       "      <td>0.5810</td>\n",
       "      <td>00:00:03.758092</td>\n",
       "      <td>3</td>\n",
       "      <td>290</td>\n",
       "      <td>10</td>\n",
       "      <td>5.342847e-07</td>\n",
       "      <td>0.000671</td>\n",
       "    </tr>\n",
       "    <tr>\n",
       "      <th>...</th>\n",
       "      <td>...</td>\n",
       "      <td>...</td>\n",
       "      <td>...</td>\n",
       "      <td>...</td>\n",
       "      <td>...</td>\n",
       "      <td>...</td>\n",
       "      <td>...</td>\n",
       "      <td>...</td>\n",
       "    </tr>\n",
       "    <tr>\n",
       "      <th>55</th>\n",
       "      <td>55</td>\n",
       "      <td>0.6370</td>\n",
       "      <td>00:00:02.122079</td>\n",
       "      <td>4</td>\n",
       "      <td>156</td>\n",
       "      <td>5</td>\n",
       "      <td>2.586681e-03</td>\n",
       "      <td>0.027222</td>\n",
       "    </tr>\n",
       "    <tr>\n",
       "      <th>7</th>\n",
       "      <td>7</td>\n",
       "      <td>0.6390</td>\n",
       "      <td>00:00:02.769047</td>\n",
       "      <td>10</td>\n",
       "      <td>210</td>\n",
       "      <td>5</td>\n",
       "      <td>1.838053e-02</td>\n",
       "      <td>0.040334</td>\n",
       "    </tr>\n",
       "    <tr>\n",
       "      <th>83</th>\n",
       "      <td>83</td>\n",
       "      <td>0.6410</td>\n",
       "      <td>00:00:03.340957</td>\n",
       "      <td>5</td>\n",
       "      <td>252</td>\n",
       "      <td>5</td>\n",
       "      <td>1.288882e-02</td>\n",
       "      <td>0.062863</td>\n",
       "    </tr>\n",
       "    <tr>\n",
       "      <th>2</th>\n",
       "      <td>2</td>\n",
       "      <td>0.6445</td>\n",
       "      <td>00:00:05.986411</td>\n",
       "      <td>4</td>\n",
       "      <td>489</td>\n",
       "      <td>4</td>\n",
       "      <td>8.447209e-06</td>\n",
       "      <td>0.030780</td>\n",
       "    </tr>\n",
       "    <tr>\n",
       "      <th>31</th>\n",
       "      <td>31</td>\n",
       "      <td>0.6480</td>\n",
       "      <td>00:00:03.943469</td>\n",
       "      <td>4</td>\n",
       "      <td>296</td>\n",
       "      <td>5</td>\n",
       "      <td>3.660163e-02</td>\n",
       "      <td>0.017019</td>\n",
       "    </tr>\n",
       "  </tbody>\n",
       "</table>\n",
       "<p>100 rows × 8 columns</p>\n",
       "</div>"
      ],
      "text/plain": [
       "    number   value        duration  ...  params_k  params_lamda  params_lr\n",
       "5        5  0.5575 00:00:01.477225  ...         8  1.430231e+00   0.000861\n",
       "45      45  0.5625 00:00:02.591529  ...         5  6.931369e-01   0.000331\n",
       "8        8  0.5760 00:00:04.649339  ...         5  1.355307e-01   0.000378\n",
       "16      16  0.5800 00:00:03.592939  ...         4  9.648241e-01   0.002647\n",
       "46      46  0.5810 00:00:03.758092  ...        10  5.342847e-07   0.000671\n",
       "..     ...     ...             ...  ...       ...           ...        ...\n",
       "55      55  0.6370 00:00:02.122079  ...         5  2.586681e-03   0.027222\n",
       "7        7  0.6390 00:00:02.769047  ...         5  1.838053e-02   0.040334\n",
       "83      83  0.6410 00:00:03.340957  ...         5  1.288882e-02   0.062863\n",
       "2        2  0.6445 00:00:05.986411  ...         4  8.447209e-06   0.030780\n",
       "31      31  0.6480 00:00:03.943469  ...         5  3.660163e-02   0.017019\n",
       "\n",
       "[100 rows x 8 columns]"
      ]
     },
     "execution_count": 70,
     "metadata": {},
     "output_type": "execute_result"
    }
   ],
   "source": [
    "df = study.trials_dataframe().drop(['state','datetime_start','datetime_complete'], axis=1)\n",
    "df.sort_values(by=['value'])"
   ]
  },
  {
   "cell_type": "code",
   "execution_count": 50,
   "metadata": {},
   "outputs": [
    {
     "data": {
      "text/plain": [
       "(3000, 1)"
      ]
     },
     "execution_count": 50,
     "metadata": {},
     "output_type": "execute_result"
    }
   ],
   "source": [
    "lamda=3.660163e-02,lr=0.017019,decay=4,epoch=300,print_every=None\n",
    "\n",
    "\n",
    "list_in = np.array(list(X_train_.flatten())+list(X_test_.flatten()))\n",
    "list_in.astype(type(X_train_))\n",
    "list_in = list_in.reshape(-1,1)\n",
    "list_in.shape"
   ]
  },
  {
   "cell_type": "code",
   "execution_count": 48,
   "metadata": {},
   "outputs": [
    {
     "data": {
      "text/plain": [
       "0.924"
      ]
     },
     "execution_count": 48,
     "metadata": {},
     "output_type": "execute_result"
    }
   ],
   "source": [
    "#DNA sequence as a “language”, known as k-mer counting\n",
    "def getKmers(sequence, size):\n",
    "    return [sequence[x:x+size].lower() for x in range(len(sequence) - size + 1)]\n",
    "def get_n_grams(data1,n):\n",
    "    X_train = []\n",
    "    X_test = []\n",
    "\n",
    "    cv = CountVectorizer(analyzer='char',ngram_range=(n,n))\n",
    "    for i in data1:\n",
    "        sentence = ' '.join(getKmers(i[0], size=n))\n",
    "        X_train.append(sentence)\n",
    "        \n",
    "    X_cocat = X_train\n",
    "    X = cv.fit_transform(X_cocat).toarray()\n",
    "    return X\n",
    "\n",
    "X_preprocess = get_n_grams(X_train_,7)\n",
    "\n",
    "# def objective(trial):\n",
    "#     lr = trial.suggest_loguniform('lr', 1e-5, 1e-1)\n",
    "#     lamda = trial.suggest_loguniform('lamda', 0.01, 0.5)\n",
    "#     k =  trial.suggest_categorical('k', [4,5,8,10])\n",
    "#     epoch =  trial.suggest_int('epoch', 10, 20)\n",
    "#     decay = trial.suggest_int('decay', 3, 10)\n",
    "#     return cross_validate(X_preprocess[:2000,:], y,lr=lr,lamda=lamda,k=k,epoch=epoch,decay=decay)\n",
    "\n",
    "cross_validate(X_preprocess[:2000], y,0.001,20,k=5,epoch=10,decay=10)\n",
    "\n",
    "# import optuna\n",
    "\n",
    "# sampler = optuna.samplers.TPESampler()\n",
    "# study = optuna.create_study(sampler=sampler, direction='maximize')\n",
    "# study.optimize(func=objective, n_trials=100,show_progress_bar=True)"
   ]
  },
  {
   "cell_type": "code",
   "execution_count": 13,
   "metadata": {},
   "outputs": [],
   "source": [
    "# df = study.trials_dataframe().drop(['state','datetime_start','datetime_complete'], axis=1)\n",
    "# df.sort_values(by=['value'])"
   ]
  },
  {
   "cell_type": "code",
   "execution_count": 91,
   "metadata": {},
   "outputs": [],
   "source": [
    "# # Count Vectorizer \n",
    "# def get_count_grams(data1,n):\n",
    "#     cv = CountVectorizer(analyzer='char',ngram_range=(n,n))\n",
    "#     X = cv.fit_transform(data1).toarray()\n",
    "#     return X\n",
    "\n",
    "# X_preprocess = get_n_grams(X_train_.flatten(),8)\n",
    "\n",
    "# # def objective(trial):\n",
    "# #     lr = trial.suggest_loguniform('lr', 1e-5, 1e-1)\n",
    "# #     lamda = trial.suggest_loguniform('lamda', 0.01, 0.5)\n",
    "# #     k =  trial.suggest_categorical('k', [4,5,8,10])\n",
    "# #     epoch =  trial.suggest_int('epoch', 10, 20)\n",
    "# #     decay = trial.suggest_int('decay', 3, 10)\n",
    "# #     return cross_validate(X_preprocess, y,lr=lr,lamda=lamda,k=k,epoch=epoch,decay=decay)\n",
    "\n",
    "# cross_validate(X_preprocess[:2000], y,0.0001,20,k=5,epoch=10,decay=10)\n",
    "\n",
    "# # import optuna\n",
    "\n",
    "# # sampler = optuna.samplers.TPESampler()\n",
    "# # study = optuna.create_study(sampler=sampler, direction='maximize')\n",
    "# # study.optimize(func=objective, n_trials=200,show_progress_bar=True)"
   ]
  },
  {
   "cell_type": "code",
   "execution_count": 201,
   "metadata": {},
   "outputs": [],
   "source": [
    "# df = study.trials_dataframe().drop(['state','datetime_start','datetime_complete'], axis=1)\n",
    "# df.sort_values(by=['value'])"
   ]
  },
  {
   "cell_type": "code",
   "execution_count": 202,
   "metadata": {},
   "outputs": [],
   "source": [
    "# cross_validate(X_preprocess, y,lr=0.004433,lamda=0.432127,k=4,epoch=16,decay=4)"
   ]
  },
  {
   "cell_type": "code",
   "execution_count": 66,
   "metadata": {},
   "outputs": [
    {
     "data": {
      "text/plain": [
       "0.5"
      ]
     },
     "execution_count": 66,
     "metadata": {},
     "output_type": "execute_result"
    }
   ],
   "source": [
    "# Count Vectorizer \n",
    "def get_tf_idf_grams(data1,n):\n",
    "    cv = TfidfVectorizer(analyzer='char',ngram_range=(n,n))\n",
    "    X = cv.fit_transform(data1).toarray()\n",
    "    return X\n",
    "\n",
    "X_preprocess = get_tf_idf_grams(X_train_.flatten(),8)\n",
    "\n",
    "# def objective(trial):\n",
    "#     lr = trial.suggest_loguniform('lr', 1e-5, 1e-1)\n",
    "#     lamda = trial.suggest_loguniform('lamda', 0.01, 0.5)\n",
    "#     k =  trial.suggest_categorical('k', [4,5,8,10])\n",
    "#     epoch =  trial.suggest_int('epoch', 10, 20)\n",
    "#     decay = trial.suggest_int('decay', 3, 10)\n",
    "#     return cross_validate(X_preprocess, y,lr=lr,lamda=lamda,k=k,epoch=epoch,decay=decay)\n",
    "\n",
    "cross_validate(X_preprocess[:2000], y,0.001,20,k=5,epoch=10,decay=10)\n",
    "\n",
    "# import optuna\n",
    "\n",
    "# sampler = optuna.samplers.TPESampler()\n",
    "# study = optuna.create_study(sampler=sampler, direction='maximize')\n",
    "# study.optimize(func=objective, n_trials=100,show_progress_bar=True)"
   ]
  },
  {
   "cell_type": "code",
   "execution_count": 213,
   "metadata": {},
   "outputs": [],
   "source": [
    "# df = study.trials_dataframe().drop(['state','datetime_start','datetime_complete'], axis=1)\n",
    "# df.sort_values(by=['value'])"
   ]
  },
  {
   "cell_type": "markdown",
   "metadata": {},
   "source": [
    "# After testing all possible dataset preprocessing type now lets stick to one"
   ]
  },
  {
   "cell_type": "code",
   "execution_count": null,
   "metadata": {},
   "outputs": [],
   "source": [
    "X_train, X_test, y_train, y_test = get_train_test(X_preprocess[:2000],y,0.3)\n"
   ]
  },
  {
   "cell_type": "code",
   "execution_count": 80,
   "metadata": {},
   "outputs": [
    {
     "name": "stdout",
     "output_type": "stream",
     "text": [
      "(1980, 1500) (20, 1500) (1980, 1) (20, 1)\n"
     ]
    },
    {
     "name": "stderr",
     "output_type": "stream",
     "text": [
      "/usr/local/lib/python3.6/dist-packages/ipykernel_launcher.py:20: RuntimeWarning:\n",
      "\n",
      "divide by zero encountered in log\n",
      "\n",
      "/usr/local/lib/python3.6/dist-packages/ipykernel_launcher.py:20: RuntimeWarning:\n",
      "\n",
      "invalid value encountered in multiply\n",
      "\n"
     ]
    },
    {
     "name": "stdout",
     "output_type": "stream",
     "text": [
      "0.7843434343434343\n",
      "0.5\n"
     ]
    },
    {
     "data": {
      "text/plain": [
       "0.639"
      ]
     },
     "execution_count": 80,
     "metadata": {},
     "output_type": "execute_result"
    }
   ],
   "source": [
    "# X_preprocess = get_n_grams(X_train_,8)\n",
    "# X_preprocess.shape\n",
    "\n",
    "# print(cross_validate(X_preprocess[:2000,:], y,lr=0.001,lamda=15,k=4,epoch=16,decay=10))\n",
    "\n",
    "X_train, X_test, y_train, y_test = get_train_test(np.array(X)[:2000,:],y.values,0.01)\n",
    "\n",
    "# y,0.001,15,k=5,epoch=10,decay=10)\n",
    "\n",
    "logistic = logisticregression(X_train,y_train,lamda=3.660163e-02,lr=0.017019,decay=4,epoch=300,print_every=None)\n",
    "logistic.train()\n",
    "        \n",
    "print(logistic.evaluate(X_train,y_train))\n",
    "print(logistic.evaluate(X_test,y_test))\n",
    "cross_validate(np.array(X)[:2000,:], y.values,lamda=3.660163e-02,lr=0.017019,decay=4,epoch=300)"
   ]
  },
  {
   "cell_type": "code",
   "execution_count": 235,
   "metadata": {},
   "outputs": [
    {
     "name": "stdout",
     "output_type": "stream",
     "text": [
      "(1400, 4096) (600, 4096) (1400, 1) (600, 1)\n",
      "Epoch : 0  Loss: 0.6931471805599454\n",
      "Epoch : 1  Loss: 0.369619629360289\n",
      "Epoch : 2  Loss: 0.24093457515641262\n",
      "Epoch : 3  Loss: 0.23515736618853034\n",
      "Epoch : 4  Loss: 0.2349297795537864\n",
      "Epoch : 5  Loss: 0.23492310904273742\n",
      "Epoch : 6  Loss: 0.23492296082415293\n",
      "Epoch : 7  Loss: 0.23492295817739842\n",
      "Epoch : 8  Loss: 0.23492295813789463\n",
      "Epoch : 9  Loss: 0.2349229581373882\n",
      "0.9664285714285714\n",
      "0.6433333333333333\n"
     ]
    }
   ],
   "source": [
    "X_preprocess = get_count_grams(np.vstack((X_train_,X_test_)).flatten(),6)\n",
    "X_preprocess.shape\n",
    "\n",
    "cross_validate(X_preprocess[:2000,:], y,lr=0.004433,lamda=0.432127,k=4,epoch=16,decay=4)\n",
    "\n",
    "C_count_6 = X_preprocess[2000:,:]\n",
    "\n",
    "X_train, X_test, y_train, y_test = get_train_test(X_preprocess[:2000,:],y,0.3)\n",
    "\n",
    "\n",
    "logistic_count6 = logisticregression(X_train,y_train,lamda=0.455265,epoch=10,print_every=1,lr=0.000407,decay=11)\n",
    "logistic_count6.train()\n",
    "        \n",
    "print(logistic_count6.evaluate(X_train,y_train))\n",
    "print(logistic_count6.evaluate(X_test,y_test))"
   ]
  },
  {
   "cell_type": "code",
   "execution_count": 236,
   "metadata": {},
   "outputs": [
    {
     "name": "stdout",
     "output_type": "stream",
     "text": [
      "(1400, 256) (600, 256) (1400, 1) (600, 1)\n",
      "Epoch : 0  Loss: 0.6931471805599454\n",
      "Epoch : 1  Loss: 0.6286425932017687\n",
      "Epoch : 2  Loss: 0.6042153578172307\n",
      "Epoch : 3  Loss: 0.6027152714606171\n",
      "Epoch : 4  Loss: 0.6026532220481413\n",
      "Epoch : 5  Loss: 0.6026514005159469\n",
      "Epoch : 6  Loss: 0.6026513600396904\n",
      "Epoch : 7  Loss: 0.6026513593169011\n",
      "Epoch : 8  Loss: 0.6026513593061132\n",
      "Epoch : 9  Loss: 0.6026513593059748\n",
      "0.6907142857142857\n",
      "0.59\n"
     ]
    },
    {
     "name": "stderr",
     "output_type": "stream",
     "text": [
      "/usr/local/lib/python3.6/dist-packages/ipykernel_launcher.py:20: RuntimeWarning:\n",
      "\n",
      "divide by zero encountered in log\n",
      "\n",
      "/usr/local/lib/python3.6/dist-packages/ipykernel_launcher.py:20: RuntimeWarning:\n",
      "\n",
      "invalid value encountered in multiply\n",
      "\n"
     ]
    }
   ],
   "source": [
    "X_preprocess = get_count_grams(np.vstack((X_train_,X_test_)).flatten(),4)\n",
    "X_preprocess.shape\n",
    "\n",
    "print(cross_validate(X_preprocess[:2000,:], y,lr=0.004433,lamda=0.432127,k=4,epoch=16,decay=7))\n",
    "\n",
    "C_count_4 = X_preprocess[2000:,:]\n",
    "\n",
    "X_train, X_test, y_train, y_test = get_train_test(X_preprocess[:2000,:],y,0.3)\n",
    "\n",
    "\n",
    "logistic_count4 = logisticregression(X_train,y_train,lamda=0.455265,epoch=10,print_every=1,lr=0.000407,decay=11)\n",
    "logistic_count4.train()\n",
    "        \n",
    "print(logistic_count4.evaluate(X_train,y_train))\n",
    "print(logistic_count4.evaluate(X_test,y_test))"
   ]
  },
  {
   "cell_type": "code",
   "execution_count": 237,
   "metadata": {},
   "outputs": [
    {
     "name": "stdout",
     "output_type": "stream",
     "text": [
      "(1400, 256) (600, 256) (1400, 1) (600, 1)\n",
      "Epoch : 0  Loss: 0.6931471805599454\n",
      "Epoch : 1  Loss: 0.6260173199159424\n",
      "Epoch : 2  Loss: 0.6002614260404124\n",
      "Epoch : 3  Loss: 0.598726394674755\n",
      "Epoch : 4  Loss: 0.5986622185693936\n",
      "Epoch : 5  Loss: 0.5986603339307318\n",
      "Epoch : 6  Loss: 0.5986602920517511\n",
      "Epoch : 7  Loss: 0.598660291303913\n",
      "Epoch : 8  Loss: 0.5986602912927511\n",
      "Epoch : 9  Loss: 0.5986602912926081\n",
      "0.7028571428571428\n",
      "0.5966666666666667\n"
     ]
    }
   ],
   "source": [
    "X_preprocess = get_tf_idf_grams(np.vstack((X_train_,X_test_)).flatten(),4)\n",
    "X_preprocess.shape\n",
    "\n",
    "cross_validate(X_preprocess[:2000,:], y,lr=0.004433,lamda=0.432127,k=4,epoch=16,decay=4)\n",
    "\n",
    "C_tf_4 = X_preprocess[2000:,:]\n",
    "\n",
    "\n",
    "X_train, X_test, y_train, y_test = get_train_test(X_preprocess[:2000,:],y,0.3)\n",
    "\n",
    "\n",
    "logistic_tf4 = logisticregression(X_train,y_train,lamda=0.455265,epoch=10,print_every=1,lr=0.000407,decay=11)\n",
    "logistic_tf4.train()\n",
    "        \n",
    "print(logistic_tf4.evaluate(X_train,y_train))\n",
    "print(logistic_tf4.evaluate(X_test,y_test))"
   ]
  },
  {
   "cell_type": "code",
   "execution_count": 238,
   "metadata": {},
   "outputs": [
    {
     "name": "stdout",
     "output_type": "stream",
     "text": [
      "(1400, 4096) (600, 4096) (1400, 1) (600, 1)\n",
      "Epoch : 0  Loss: 0.6931471805599454\n",
      "Epoch : 1  Loss: 0.3746954683721624\n",
      "Epoch : 2  Loss: 0.23994925474338094\n",
      "Epoch : 3  Loss: 0.23422424550847226\n",
      "Epoch : 4  Loss: 0.23399751150543982\n",
      "Epoch : 5  Loss: 0.23399086485544413\n",
      "Epoch : 6  Loss: 0.23399071716632397\n",
      "Epoch : 7  Loss: 0.2339907145290239\n",
      "Epoch : 8  Loss: 0.2339907144896612\n",
      "Epoch : 9  Loss: 0.23399071448915654\n",
      "0.9635714285714285\n",
      "0.6433333333333333\n"
     ]
    }
   ],
   "source": [
    "X_preprocess = get_tf_idf_grams(np.vstack((X_train_,X_test_)).flatten(),6)\n",
    "X_preprocess.shape\n",
    "\n",
    "cross_validate(X_preprocess[:2000,:], y,lr=0.004433,lamda=0.432127,k=4,epoch=16,decay=7)\n",
    "\n",
    "C_tf_6 = X_preprocess[2000:,:]\n",
    "\n",
    "X_train, X_test, y_train, y_test = get_train_test(X_preprocess[:2000,:],y,0.3)\n",
    "\n",
    "\n",
    "logistic_tf6 = logisticregression(X_train,y_train,lamda=0.455265,epoch=10,print_every=1,lr=0.000407,decay=11)\n",
    "logistic_tf6.train()\n",
    "        \n",
    "print(logistic_tf6.evaluate(X_train,y_train))\n",
    "print(logistic_tf6.evaluate(X_test,y_test))"
   ]
  },
  {
   "cell_type": "code",
   "execution_count": 15,
   "metadata": {},
   "outputs": [],
   "source": [
    "X_test_final = scale(np.array(X)[:2000,:])"
   ]
  },
  {
   "cell_type": "code",
   "execution_count": 17,
   "metadata": {},
   "outputs": [],
   "source": [
    "from collections import Counter\n",
    "\n",
    "\n",
    "sumbission = []\n",
    "for i in range(len(X_test_final)):\n",
    "    r1 = logistic.predict(X_test_final[i])\n",
    "#     r2 = logistic_count6.predict(C_count_6[i])\n",
    "#     r3 = logistic_tf4.predict(C_tf_4[i])\n",
    "#     r4 = logistic_tf6.predict(C_tf_6[i])\n",
    "    \n",
    "    \n",
    "#     votes = [r1[0],r2[0],r3[0],r4[0]]\n",
    "    \n",
    "#     print(Counter(votes))\n",
    "#     print(Counter(votes).most_common(1)[0][0])\n",
    "    \n",
    "#     break\n",
    "#     sumbission.append([i,int(Counter(votes).most_common(1)[0][0])])\n",
    "    \n",
    "    sumbission.append([i,int(r1)])"
   ]
  },
  {
   "cell_type": "code",
   "execution_count": 20,
   "metadata": {},
   "outputs": [],
   "source": [
    "# sumbission\n",
    "df = pd.DataFrame(sumbission)\n",
    "df.columns = ['Id','Bound']\n",
    "df.to_csv('cv_64.9.csv',index=False)"
   ]
  },
  {
   "cell_type": "code",
   "execution_count": 19,
   "metadata": {},
   "outputs": [
    {
     "data": {
      "text/html": [
       "<div>\n",
       "<style scoped>\n",
       "    .dataframe tbody tr th:only-of-type {\n",
       "        vertical-align: middle;\n",
       "    }\n",
       "\n",
       "    .dataframe tbody tr th {\n",
       "        vertical-align: top;\n",
       "    }\n",
       "\n",
       "    .dataframe thead th {\n",
       "        text-align: right;\n",
       "    }\n",
       "</style>\n",
       "<table border=\"1\" class=\"dataframe\">\n",
       "  <thead>\n",
       "    <tr style=\"text-align: right;\">\n",
       "      <th></th>\n",
       "      <th>Id</th>\n",
       "      <th>Bound</th>\n",
       "    </tr>\n",
       "  </thead>\n",
       "  <tbody>\n",
       "    <tr>\n",
       "      <td>0</td>\n",
       "      <td>0</td>\n",
       "      <td>1</td>\n",
       "    </tr>\n",
       "    <tr>\n",
       "      <td>1</td>\n",
       "      <td>1</td>\n",
       "      <td>1</td>\n",
       "    </tr>\n",
       "    <tr>\n",
       "      <td>2</td>\n",
       "      <td>2</td>\n",
       "      <td>0</td>\n",
       "    </tr>\n",
       "    <tr>\n",
       "      <td>3</td>\n",
       "      <td>3</td>\n",
       "      <td>0</td>\n",
       "    </tr>\n",
       "    <tr>\n",
       "      <td>4</td>\n",
       "      <td>4</td>\n",
       "      <td>1</td>\n",
       "    </tr>\n",
       "    <tr>\n",
       "      <td>5</td>\n",
       "      <td>5</td>\n",
       "      <td>1</td>\n",
       "    </tr>\n",
       "    <tr>\n",
       "      <td>6</td>\n",
       "      <td>6</td>\n",
       "      <td>1</td>\n",
       "    </tr>\n",
       "    <tr>\n",
       "      <td>7</td>\n",
       "      <td>7</td>\n",
       "      <td>1</td>\n",
       "    </tr>\n",
       "    <tr>\n",
       "      <td>8</td>\n",
       "      <td>8</td>\n",
       "      <td>1</td>\n",
       "    </tr>\n",
       "    <tr>\n",
       "      <td>9</td>\n",
       "      <td>9</td>\n",
       "      <td>1</td>\n",
       "    </tr>\n",
       "    <tr>\n",
       "      <td>10</td>\n",
       "      <td>10</td>\n",
       "      <td>1</td>\n",
       "    </tr>\n",
       "    <tr>\n",
       "      <td>11</td>\n",
       "      <td>11</td>\n",
       "      <td>1</td>\n",
       "    </tr>\n",
       "    <tr>\n",
       "      <td>12</td>\n",
       "      <td>12</td>\n",
       "      <td>0</td>\n",
       "    </tr>\n",
       "    <tr>\n",
       "      <td>13</td>\n",
       "      <td>13</td>\n",
       "      <td>1</td>\n",
       "    </tr>\n",
       "    <tr>\n",
       "      <td>14</td>\n",
       "      <td>14</td>\n",
       "      <td>0</td>\n",
       "    </tr>\n",
       "    <tr>\n",
       "      <td>15</td>\n",
       "      <td>15</td>\n",
       "      <td>1</td>\n",
       "    </tr>\n",
       "    <tr>\n",
       "      <td>16</td>\n",
       "      <td>16</td>\n",
       "      <td>1</td>\n",
       "    </tr>\n",
       "    <tr>\n",
       "      <td>17</td>\n",
       "      <td>17</td>\n",
       "      <td>1</td>\n",
       "    </tr>\n",
       "    <tr>\n",
       "      <td>18</td>\n",
       "      <td>18</td>\n",
       "      <td>0</td>\n",
       "    </tr>\n",
       "    <tr>\n",
       "      <td>19</td>\n",
       "      <td>19</td>\n",
       "      <td>0</td>\n",
       "    </tr>\n",
       "    <tr>\n",
       "      <td>20</td>\n",
       "      <td>20</td>\n",
       "      <td>1</td>\n",
       "    </tr>\n",
       "    <tr>\n",
       "      <td>21</td>\n",
       "      <td>21</td>\n",
       "      <td>0</td>\n",
       "    </tr>\n",
       "    <tr>\n",
       "      <td>22</td>\n",
       "      <td>22</td>\n",
       "      <td>0</td>\n",
       "    </tr>\n",
       "    <tr>\n",
       "      <td>23</td>\n",
       "      <td>23</td>\n",
       "      <td>0</td>\n",
       "    </tr>\n",
       "    <tr>\n",
       "      <td>24</td>\n",
       "      <td>24</td>\n",
       "      <td>1</td>\n",
       "    </tr>\n",
       "    <tr>\n",
       "      <td>25</td>\n",
       "      <td>25</td>\n",
       "      <td>0</td>\n",
       "    </tr>\n",
       "    <tr>\n",
       "      <td>26</td>\n",
       "      <td>26</td>\n",
       "      <td>1</td>\n",
       "    </tr>\n",
       "    <tr>\n",
       "      <td>27</td>\n",
       "      <td>27</td>\n",
       "      <td>1</td>\n",
       "    </tr>\n",
       "    <tr>\n",
       "      <td>28</td>\n",
       "      <td>28</td>\n",
       "      <td>0</td>\n",
       "    </tr>\n",
       "    <tr>\n",
       "      <td>29</td>\n",
       "      <td>29</td>\n",
       "      <td>1</td>\n",
       "    </tr>\n",
       "    <tr>\n",
       "      <td>30</td>\n",
       "      <td>30</td>\n",
       "      <td>1</td>\n",
       "    </tr>\n",
       "    <tr>\n",
       "      <td>31</td>\n",
       "      <td>31</td>\n",
       "      <td>1</td>\n",
       "    </tr>\n",
       "    <tr>\n",
       "      <td>32</td>\n",
       "      <td>32</td>\n",
       "      <td>1</td>\n",
       "    </tr>\n",
       "    <tr>\n",
       "      <td>33</td>\n",
       "      <td>33</td>\n",
       "      <td>0</td>\n",
       "    </tr>\n",
       "    <tr>\n",
       "      <td>34</td>\n",
       "      <td>34</td>\n",
       "      <td>1</td>\n",
       "    </tr>\n",
       "    <tr>\n",
       "      <td>35</td>\n",
       "      <td>35</td>\n",
       "      <td>1</td>\n",
       "    </tr>\n",
       "    <tr>\n",
       "      <td>36</td>\n",
       "      <td>36</td>\n",
       "      <td>1</td>\n",
       "    </tr>\n",
       "    <tr>\n",
       "      <td>37</td>\n",
       "      <td>37</td>\n",
       "      <td>1</td>\n",
       "    </tr>\n",
       "    <tr>\n",
       "      <td>38</td>\n",
       "      <td>38</td>\n",
       "      <td>0</td>\n",
       "    </tr>\n",
       "    <tr>\n",
       "      <td>39</td>\n",
       "      <td>39</td>\n",
       "      <td>0</td>\n",
       "    </tr>\n",
       "    <tr>\n",
       "      <td>40</td>\n",
       "      <td>40</td>\n",
       "      <td>1</td>\n",
       "    </tr>\n",
       "    <tr>\n",
       "      <td>41</td>\n",
       "      <td>41</td>\n",
       "      <td>1</td>\n",
       "    </tr>\n",
       "    <tr>\n",
       "      <td>42</td>\n",
       "      <td>42</td>\n",
       "      <td>1</td>\n",
       "    </tr>\n",
       "    <tr>\n",
       "      <td>43</td>\n",
       "      <td>43</td>\n",
       "      <td>1</td>\n",
       "    </tr>\n",
       "    <tr>\n",
       "      <td>44</td>\n",
       "      <td>44</td>\n",
       "      <td>1</td>\n",
       "    </tr>\n",
       "    <tr>\n",
       "      <td>45</td>\n",
       "      <td>45</td>\n",
       "      <td>0</td>\n",
       "    </tr>\n",
       "    <tr>\n",
       "      <td>46</td>\n",
       "      <td>46</td>\n",
       "      <td>1</td>\n",
       "    </tr>\n",
       "    <tr>\n",
       "      <td>47</td>\n",
       "      <td>47</td>\n",
       "      <td>1</td>\n",
       "    </tr>\n",
       "    <tr>\n",
       "      <td>48</td>\n",
       "      <td>48</td>\n",
       "      <td>1</td>\n",
       "    </tr>\n",
       "    <tr>\n",
       "      <td>49</td>\n",
       "      <td>49</td>\n",
       "      <td>0</td>\n",
       "    </tr>\n",
       "  </tbody>\n",
       "</table>\n",
       "</div>"
      ],
      "text/plain": [
       "    Id  Bound\n",
       "0    0      1\n",
       "1    1      1\n",
       "2    2      0\n",
       "3    3      0\n",
       "4    4      1\n",
       "5    5      1\n",
       "6    6      1\n",
       "7    7      1\n",
       "8    8      1\n",
       "9    9      1\n",
       "10  10      1\n",
       "11  11      1\n",
       "12  12      0\n",
       "13  13      1\n",
       "14  14      0\n",
       "15  15      1\n",
       "16  16      1\n",
       "17  17      1\n",
       "18  18      0\n",
       "19  19      0\n",
       "20  20      1\n",
       "21  21      0\n",
       "22  22      0\n",
       "23  23      0\n",
       "24  24      1\n",
       "25  25      0\n",
       "26  26      1\n",
       "27  27      1\n",
       "28  28      0\n",
       "29  29      1\n",
       "30  30      1\n",
       "31  31      1\n",
       "32  32      1\n",
       "33  33      0\n",
       "34  34      1\n",
       "35  35      1\n",
       "36  36      1\n",
       "37  37      1\n",
       "38  38      0\n",
       "39  39      0\n",
       "40  40      1\n",
       "41  41      1\n",
       "42  42      1\n",
       "43  43      1\n",
       "44  44      1\n",
       "45  45      0\n",
       "46  46      1\n",
       "47  47      1\n",
       "48  48      1\n",
       "49  49      0"
      ]
     },
     "execution_count": 19,
     "metadata": {},
     "output_type": "execute_result"
    }
   ],
   "source": [
    "df.head(50)"
   ]
  },
  {
   "cell_type": "code",
   "execution_count": null,
   "metadata": {},
   "outputs": [],
   "source": []
  }
 ],
 "metadata": {
  "kernelspec": {
   "display_name": "Python 3",
   "language": "python",
   "name": "python3"
  },
  "language_info": {
   "codemirror_mode": {
    "name": "ipython",
    "version": 3
   },
   "file_extension": ".py",
   "mimetype": "text/x-python",
   "name": "python",
   "nbconvert_exporter": "python",
   "pygments_lexer": "ipython3",
   "version": "3.6.9"
  }
 },
 "nbformat": 4,
 "nbformat_minor": 4
}
