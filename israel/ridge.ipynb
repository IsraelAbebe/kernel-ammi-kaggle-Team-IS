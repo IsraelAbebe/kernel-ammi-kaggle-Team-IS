{
 "cells": [
  {
   "cell_type": "code",
   "execution_count": 153,
   "metadata": {},
   "outputs": [],
   "source": [
    "!pip install optuna -q"
   ]
  },
  {
   "cell_type": "code",
   "execution_count": 178,
   "metadata": {},
   "outputs": [],
   "source": [
    "import pandas as pd\n",
    "import numpy as np\n",
    "import random\n",
    "from sklearn.model_selection import train_test_split\n",
    "from sklearn.preprocessing import scale\n",
    "from sklearn.metrics import accuracy_score\n",
    "\n",
    "from sklearn.feature_extraction.text import CountVectorizer\n",
    "\n",
    "import optuna\n",
    "\n",
    "import sklearn\n",
    "from sklearn import linear_model as lm"
   ]
  },
  {
   "cell_type": "code",
   "execution_count": 179,
   "metadata": {},
   "outputs": [],
   "source": [
    "\n",
    "X_test = pd.read_csv('../data/Xte.csv',sep=',',index_col=0).values\n",
    "X_train = pd.read_csv('../data/Xtr.csv',sep=',',index_col=0).values\n",
    "\n",
    "y = pd.read_csv('../data/Ytr.csv',sep=',',index_col=0)\n",
    "y['Bound'] = y.Bound.apply(lambda x: -1 if x == 0 else 1)\n",
    "y=y.values\n",
    "# y.head()"
   ]
  },
  {
   "cell_type": "code",
   "execution_count": 180,
   "metadata": {},
   "outputs": [],
   "source": [
    "def getKmers(sequence, size):\n",
    "    return [sequence[x:x+size].lower() for x in range(len(sequence) - size + 1)]\n",
    "\n",
    "def compare(beta1, beta2):\n",
    "    print('''\n",
    "Difference between the two:\n",
    "{}\n",
    "        '''.format(np.sum((beta1-beta2)**2))\n",
    "    )"
   ]
  },
  {
   "cell_type": "code",
   "execution_count": 181,
   "metadata": {},
   "outputs": [
    {
     "data": {
      "text/plain": [
       "((2000, 1), (1000, 1))"
      ]
     },
     "execution_count": 181,
     "metadata": {},
     "output_type": "execute_result"
    }
   ],
   "source": [
    "X_train.shape,X_test.shape"
   ]
  },
  {
   "cell_type": "code",
   "execution_count": 182,
   "metadata": {},
   "outputs": [],
   "source": [
    "n = 6\n",
    "\n",
    "\n",
    "X_te = []\n",
    "X = []\n",
    "\n",
    "\n",
    "cv = CountVectorizer()\n",
    "for i in X_train:\n",
    "    sentence = ' '.join(getKmers(i[0], size=n))\n",
    "    X.append(sentence)\n",
    "    \n",
    "for i in X_test:\n",
    "    sentence = ' '.join(getKmers(i[0], size=n))\n",
    "    X_te.append(sentence)\n",
    "\n",
    "    \n",
    "X_later = X+X_te\n",
    "X = cv.fit_transform(X+X_te).toarray()\n",
    "# breakS\n",
    "    "
   ]
  },
  {
   "cell_type": "code",
   "execution_count": 183,
   "metadata": {},
   "outputs": [
    {
     "data": {
      "text/plain": [
       "array([[0, 0, 0, 0, 0, 0, 0, 0, 0, 0, 0, 0, 0, 0, 0],\n",
       "       [0, 0, 0, 0, 0, 0, 0, 0, 0, 0, 0, 0, 0, 0, 0],\n",
       "       [0, 0, 0, 0, 0, 0, 0, 0, 0, 0, 0, 0, 0, 0, 0],\n",
       "       [0, 0, 0, 0, 0, 0, 0, 0, 0, 0, 0, 0, 0, 0, 0],\n",
       "       [0, 0, 0, 0, 0, 0, 0, 0, 0, 0, 0, 0, 0, 0, 0],\n",
       "       [0, 0, 1, 0, 0, 0, 0, 0, 0, 0, 0, 1, 0, 0, 0],\n",
       "       [0, 0, 0, 0, 0, 0, 0, 0, 0, 0, 0, 0, 0, 0, 0],\n",
       "       [0, 0, 0, 0, 0, 0, 0, 0, 0, 0, 0, 0, 0, 0, 0],\n",
       "       [0, 0, 0, 0, 0, 0, 0, 0, 0, 0, 0, 0, 0, 0, 0],\n",
       "       [0, 0, 0, 0, 0, 0, 0, 0, 0, 0, 0, 0, 0, 0, 0],\n",
       "       [0, 0, 0, 0, 0, 0, 0, 0, 0, 0, 2, 0, 0, 0, 0],\n",
       "       [0, 0, 0, 0, 0, 0, 0, 0, 0, 0, 0, 0, 0, 0, 0],\n",
       "       [0, 0, 0, 0, 0, 0, 0, 0, 0, 0, 0, 0, 0, 0, 0],\n",
       "       [0, 0, 0, 0, 0, 0, 0, 0, 0, 0, 0, 0, 0, 0, 0],\n",
       "       [2, 1, 1, 0, 1, 0, 0, 0, 1, 0, 0, 1, 0, 0, 0]])"
      ]
     },
     "execution_count": 183,
     "metadata": {},
     "output_type": "execute_result"
    }
   ],
   "source": [
    "X[:15,:15]"
   ]
  },
  {
   "cell_type": "code",
   "execution_count": 184,
   "metadata": {},
   "outputs": [
    {
     "name": "stdout",
     "output_type": "stream",
     "text": [
      "x_train: (2000, 4096) y_train (2000, 1)\n"
     ]
    }
   ],
   "source": [
    "print('x_train: {} y_train {}'.format(X[:2000,:].shape,y.shape))\n",
    "\n",
    "# print('x_train: {} y_train {}'.format(X_train.shape,y.shape))\n",
    "# print('x_test: {}'.format(X_te.shape))"
   ]
  },
  {
   "cell_type": "code",
   "execution_count": 119,
   "metadata": {},
   "outputs": [
    {
     "name": "stdout",
     "output_type": "stream",
     "text": [
      "(1340, 4096) (660, 4096) (1340, 1) (660, 1) (1000, 1)\n"
     ]
    }
   ],
   "source": [
    "X_tr= scale(X[:2000,:])\n",
    "X_te = scale(X[2000:,:])\n",
    "\n",
    "X_train, X_val, y_train, y_val = train_test_split(\n",
    "    X_tr, y, test_size=0.33, random_state=42)\n",
    "\n",
    "print(X_train.shape,X_val.shape,y_train.shape, y_val.shape,X_test.shape)"
   ]
  },
  {
   "cell_type": "markdown",
   "metadata": {},
   "source": [
    "### Model Test"
   ]
  },
  {
   "cell_type": "code",
   "execution_count": 120,
   "metadata": {},
   "outputs": [],
   "source": [
    "# Ridge Regression (RR)\n",
    "def solveRR(y, X, lam):\n",
    "    n, p = X.shape\n",
    "    assert (len(y) == n)\n",
    "    \n",
    "    A = X.T.dot(X)\n",
    "    # Adjust diagonal due to Ridge\n",
    "    A[np.diag_indices_from(A)] += lam * n\n",
    "    b = X.T.dot(y)\n",
    "    \n",
    "    # Hint:\n",
    "    beta = np.linalg.solve(A, b)\n",
    "    # Finds solution to the linear system Ax = b\n",
    "    return (beta)"
   ]
  },
  {
   "cell_type": "code",
   "execution_count": 121,
   "metadata": {},
   "outputs": [
    {
     "name": "stdout",
     "output_type": "stream",
     "text": [
      "\n",
      "Difference between the two:\n",
      "140.08201928619016\n",
      "        \n"
     ]
    }
   ],
   "source": [
    "lam = 10\n",
    "\n",
    "# Our solver\n",
    "beta1 = solveRR(y_train, X_train, lam)\n",
    "\n",
    "# Python solver\n",
    "alpha = lam * X_train.shape[0]\n",
    "model = lm.Ridge(alpha=alpha, fit_intercept=False, normalize=False)\n",
    "beta2 = model.fit(X_train,y_train).coef_\n",
    "\n",
    "# Check\n",
    "compare(beta1, beta2)"
   ]
  },
  {
   "cell_type": "markdown",
   "metadata": {},
   "source": [
    "# Ridge Regression (RR)"
   ]
  },
  {
   "cell_type": "code",
   "execution_count": 122,
   "metadata": {},
   "outputs": [],
   "source": [
    "def solveRR(y, X, lam):\n",
    "    n, p = X.shape\n",
    "    assert (len(y) == n)\n",
    "    \n",
    "    A = X.T.dot(X)\n",
    "    # Adjust diagonal due to Ridge\n",
    "    A[np.diag_indices_from(A)] += lam * n\n",
    "    b = X.T.dot(y)\n",
    "    \n",
    "    # Hint:\n",
    "    beta = np.linalg.solve(A, b)\n",
    "    # Finds solution to the linear system Ax = b\n",
    "    return (beta)"
   ]
  },
  {
   "cell_type": "code",
   "execution_count": 156,
   "metadata": {},
   "outputs": [],
   "source": [
    "def objective(trial):\n",
    "    lam = trial.suggest_loguniform('lam', 0.01, 5)\n",
    "\n",
    "    # Our solver\n",
    "    beta1 = solveRR(y_train, X_train, lam)\n",
    "\n",
    "    # Python solver\n",
    "    alpha = lam *  X_train.shape[0]\n",
    "    model = lm.Ridge(alpha=alpha, fit_intercept=False, normalize=False)\n",
    "    beta2 = model.fit(X_train,y_train).coef_\n",
    "    \n",
    "    valid_acc = sum(np.sign(np.dot(X_val,beta1))==y_val)/len(y_val)\n",
    "    train_acc = sum(np.sign(np.dot(X_train,beta1))==y_train)/len(y_train)\n",
    "    \n",
    "    return valid_acc"
   ]
  },
  {
   "cell_type": "code",
   "execution_count": 157,
   "metadata": {},
   "outputs": [
    {
     "name": "stderr",
     "output_type": "stream",
     "text": [
      "\u001b[32m[I 2020-05-26 10:37:06,145]\u001b[0m Finished trial#0 with value: 0.6242424242424243 with parameters: {'lam': 0.05951581930570455}. Best is trial#0 with value: 0.6242424242424243.\u001b[0m\n",
      "\u001b[32m[I 2020-05-26 10:37:07,770]\u001b[0m Finished trial#1 with value: 0.6075757575757575 with parameters: {'lam': 0.010387236057764784}. Best is trial#0 with value: 0.6242424242424243.\u001b[0m\n",
      "\u001b[32m[I 2020-05-26 10:37:09,427]\u001b[0m Finished trial#2 with value: 0.6257575757575757 with parameters: {'lam': 0.21399836957829915}. Best is trial#2 with value: 0.6257575757575757.\u001b[0m\n",
      "\u001b[32m[I 2020-05-26 10:37:11,052]\u001b[0m Finished trial#3 with value: 0.6287878787878788 with parameters: {'lam': 0.8666359519782804}. Best is trial#3 with value: 0.6287878787878788.\u001b[0m\n",
      "\u001b[32m[I 2020-05-26 10:37:12,707]\u001b[0m Finished trial#4 with value: 0.6166666666666667 with parameters: {'lam': 0.04278848210905315}. Best is trial#3 with value: 0.6287878787878788.\u001b[0m\n",
      "\u001b[32m[I 2020-05-26 10:37:14,327]\u001b[0m Finished trial#5 with value: 0.6257575757575757 with parameters: {'lam': 0.17405934768917147}. Best is trial#3 with value: 0.6287878787878788.\u001b[0m\n",
      "\u001b[32m[I 2020-05-26 10:37:15,967]\u001b[0m Finished trial#6 with value: 0.6196969696969697 with parameters: {'lam': 0.1403852911126164}. Best is trial#3 with value: 0.6287878787878788.\u001b[0m\n",
      "\u001b[32m[I 2020-05-26 10:37:17,613]\u001b[0m Finished trial#7 with value: 0.6439393939393939 with parameters: {'lam': 3.9662227229281966}. Best is trial#7 with value: 0.6439393939393939.\u001b[0m\n",
      "\u001b[32m[I 2020-05-26 10:37:19,277]\u001b[0m Finished trial#8 with value: 0.6439393939393939 with parameters: {'lam': 3.1759316878376675}. Best is trial#7 with value: 0.6439393939393939.\u001b[0m\n",
      "\u001b[32m[I 2020-05-26 10:37:20,911]\u001b[0m Finished trial#9 with value: 0.6106060606060606 with parameters: {'lam': 0.013856135092200586}. Best is trial#7 with value: 0.6439393939393939.\u001b[0m\n",
      "\u001b[32m[I 2020-05-26 10:37:22,579]\u001b[0m Finished trial#10 with value: 0.6409090909090909 with parameters: {'lam': 3.687446685745083}. Best is trial#7 with value: 0.6439393939393939.\u001b[0m\n",
      "\u001b[32m[I 2020-05-26 10:37:24,205]\u001b[0m Finished trial#11 with value: 0.6424242424242425 with parameters: {'lam': 4.078820285634206}. Best is trial#7 with value: 0.6439393939393939.\u001b[0m\n",
      "\u001b[32m[I 2020-05-26 10:37:25,833]\u001b[0m Finished trial#12 with value: 0.6303030303030303 with parameters: {'lam': 1.434345023935684}. Best is trial#7 with value: 0.6439393939393939.\u001b[0m\n",
      "\u001b[32m[I 2020-05-26 10:37:27,425]\u001b[0m Finished trial#13 with value: 0.6318181818181818 with parameters: {'lam': 1.0348943899771352}. Best is trial#7 with value: 0.6439393939393939.\u001b[0m\n",
      "\u001b[32m[I 2020-05-26 10:37:29,101]\u001b[0m Finished trial#14 with value: 0.6378787878787879 with parameters: {'lam': 2.264014334428386}. Best is trial#7 with value: 0.6439393939393939.\u001b[0m\n",
      "\u001b[32m[I 2020-05-26 10:37:30,693]\u001b[0m Finished trial#15 with value: 0.6196969696969697 with parameters: {'lam': 0.5904873578593494}. Best is trial#7 with value: 0.6439393939393939.\u001b[0m\n",
      "\u001b[32m[I 2020-05-26 10:37:32,332]\u001b[0m Finished trial#16 with value: 0.6227272727272727 with parameters: {'lam': 0.5097929183093955}. Best is trial#7 with value: 0.6439393939393939.\u001b[0m\n",
      "\u001b[32m[I 2020-05-26 10:37:33,976]\u001b[0m Finished trial#17 with value: 0.6439393939393939 with parameters: {'lam': 4.823035007235893}. Best is trial#7 with value: 0.6439393939393939.\u001b[0m\n",
      "\u001b[32m[I 2020-05-26 10:37:35,598]\u001b[0m Finished trial#18 with value: 0.6348484848484849 with parameters: {'lam': 1.92004527692152}. Best is trial#7 with value: 0.6439393939393939.\u001b[0m\n",
      "\u001b[32m[I 2020-05-26 10:37:37,253]\u001b[0m Finished trial#19 with value: 0.6409090909090909 with parameters: {'lam': 4.553111677898126}. Best is trial#7 with value: 0.6439393939393939.\u001b[0m\n",
      "\u001b[32m[I 2020-05-26 10:37:38,875]\u001b[0m Finished trial#20 with value: 0.6166666666666667 with parameters: {'lam': 0.37109354495809094}. Best is trial#7 with value: 0.6439393939393939.\u001b[0m\n",
      "\u001b[32m[I 2020-05-26 10:37:40,536]\u001b[0m Finished trial#21 with value: 0.6393939393939394 with parameters: {'lam': 2.447586426798914}. Best is trial#7 with value: 0.6439393939393939.\u001b[0m\n",
      "\u001b[32m[I 2020-05-26 10:37:42,210]\u001b[0m Finished trial#22 with value: 0.6439393939393939 with parameters: {'lam': 4.85279075788193}. Best is trial#7 with value: 0.6439393939393939.\u001b[0m\n",
      "\u001b[32m[I 2020-05-26 10:37:43,883]\u001b[0m Finished trial#23 with value: 0.6409090909090909 with parameters: {'lam': 4.679382843603392}. Best is trial#7 with value: 0.6439393939393939.\u001b[0m\n",
      "\u001b[32m[I 2020-05-26 10:37:45,542]\u001b[0m Finished trial#24 with value: 0.6378787878787879 with parameters: {'lam': 2.6227810169985366}. Best is trial#7 with value: 0.6439393939393939.\u001b[0m\n",
      "\u001b[32m[I 2020-05-26 10:37:47,226]\u001b[0m Finished trial#25 with value: 0.6439393939393939 with parameters: {'lam': 4.961981503731405}. Best is trial#7 with value: 0.6439393939393939.\u001b[0m\n",
      "\u001b[32m[I 2020-05-26 10:37:48,877]\u001b[0m Finished trial#26 with value: 0.6303030303030303 with parameters: {'lam': 1.3734903084810373}. Best is trial#7 with value: 0.6439393939393939.\u001b[0m\n",
      "\u001b[32m[I 2020-05-26 10:37:50,531]\u001b[0m Finished trial#27 with value: 0.6393939393939394 with parameters: {'lam': 2.7909351605699753}. Best is trial#7 with value: 0.6439393939393939.\u001b[0m\n",
      "\u001b[32m[I 2020-05-26 10:37:52,117]\u001b[0m Finished trial#28 with value: 0.6333333333333333 with parameters: {'lam': 1.7324078202757598}. Best is trial#7 with value: 0.6439393939393939.\u001b[0m\n",
      "\u001b[32m[I 2020-05-26 10:37:53,747]\u001b[0m Finished trial#29 with value: 0.6227272727272727 with parameters: {'lam': 0.08073448843041481}. Best is trial#7 with value: 0.6439393939393939.\u001b[0m\n",
      "\u001b[32m[I 2020-05-26 10:37:55,352]\u001b[0m Finished trial#30 with value: 0.6136363636363636 with parameters: {'lam': 0.025540287626763587}. Best is trial#7 with value: 0.6439393939393939.\u001b[0m\n",
      "\u001b[32m[I 2020-05-26 10:37:56,979]\u001b[0m Finished trial#31 with value: 0.6424242424242425 with parameters: {'lam': 3.371374188502977}. Best is trial#7 with value: 0.6439393939393939.\u001b[0m\n",
      "\u001b[32m[I 2020-05-26 10:37:58,586]\u001b[0m Finished trial#32 with value: 0.6439393939393939 with parameters: {'lam': 4.993313542748392}. Best is trial#7 with value: 0.6439393939393939.\u001b[0m\n",
      "\u001b[32m[I 2020-05-26 10:38:00,192]\u001b[0m Finished trial#33 with value: 0.6439393939393939 with parameters: {'lam': 4.8832015644301805}. Best is trial#7 with value: 0.6439393939393939.\u001b[0m\n",
      "\u001b[32m[I 2020-05-26 10:38:01,828]\u001b[0m Finished trial#34 with value: 0.6318181818181818 with parameters: {'lam': 1.0681962207783564}. Best is trial#7 with value: 0.6439393939393939.\u001b[0m\n",
      "\u001b[32m[I 2020-05-26 10:38:03,433]\u001b[0m Finished trial#35 with value: 0.6409090909090909 with parameters: {'lam': 4.617879401567498}. Best is trial#7 with value: 0.6439393939393939.\u001b[0m\n",
      "\u001b[32m[I 2020-05-26 10:38:05,067]\u001b[0m Finished trial#36 with value: 0.6257575757575757 with parameters: {'lam': 0.7427303983113863}. Best is trial#7 with value: 0.6439393939393939.\u001b[0m\n",
      "\u001b[32m[I 2020-05-26 10:38:06,693]\u001b[0m Finished trial#37 with value: 0.6333333333333333 with parameters: {'lam': 1.626001699757848}. Best is trial#7 with value: 0.6439393939393939.\u001b[0m\n",
      "\u001b[32m[I 2020-05-26 10:38:08,321]\u001b[0m Finished trial#38 with value: 0.6212121212121212 with parameters: {'lam': 0.32195797796560693}. Best is trial#7 with value: 0.6439393939393939.\u001b[0m\n",
      "\u001b[32m[I 2020-05-26 10:38:09,941]\u001b[0m Finished trial#39 with value: 0.6454545454545455 with parameters: {'lam': 3.3201224779745306}. Best is trial#39 with value: 0.6454545454545455.\u001b[0m\n",
      "\u001b[32m[I 2020-05-26 10:38:11,587]\u001b[0m Finished trial#40 with value: 0.6454545454545455 with parameters: {'lam': 3.005604364453122}. Best is trial#39 with value: 0.6454545454545455.\u001b[0m\n",
      "\u001b[32m[I 2020-05-26 10:38:13,236]\u001b[0m Finished trial#41 with value: 0.6439393939393939 with parameters: {'lam': 3.2569191347548645}. Best is trial#39 with value: 0.6454545454545455.\u001b[0m\n",
      "\u001b[32m[I 2020-05-26 10:38:14,907]\u001b[0m Finished trial#42 with value: 0.6393939393939394 with parameters: {'lam': 2.79718338250163}. Best is trial#39 with value: 0.6454545454545455.\u001b[0m\n",
      "\u001b[32m[I 2020-05-26 10:38:16,537]\u001b[0m Finished trial#43 with value: 0.6439393939393939 with parameters: {'lam': 3.217101961621766}. Best is trial#39 with value: 0.6454545454545455.\u001b[0m\n",
      "\u001b[32m[I 2020-05-26 10:38:18,187]\u001b[0m Finished trial#44 with value: 0.6348484848484849 with parameters: {'lam': 2.0505043515294603}. Best is trial#39 with value: 0.6454545454545455.\u001b[0m\n",
      "\u001b[32m[I 2020-05-26 10:38:19,798]\u001b[0m Finished trial#45 with value: 0.6303030303030303 with parameters: {'lam': 1.322981261671126}. Best is trial#39 with value: 0.6454545454545455.\u001b[0m\n",
      "\u001b[32m[I 2020-05-26 10:38:21,429]\u001b[0m Finished trial#46 with value: 0.6439393939393939 with parameters: {'lam': 4.9451179591372165}. Best is trial#39 with value: 0.6454545454545455.\u001b[0m\n",
      "\u001b[32m[I 2020-05-26 10:38:23,066]\u001b[0m Finished trial#47 with value: 0.6454545454545455 with parameters: {'lam': 3.021096098645094}. Best is trial#39 with value: 0.6454545454545455.\u001b[0m\n",
      "\u001b[32m[I 2020-05-26 10:38:24,700]\u001b[0m Finished trial#48 with value: 0.6378787878787879 with parameters: {'lam': 2.1119631679097135}. Best is trial#39 with value: 0.6454545454545455.\u001b[0m\n",
      "\u001b[32m[I 2020-05-26 10:38:26,319]\u001b[0m Finished trial#49 with value: 0.6318181818181818 with parameters: {'lam': 1.0686398710301064}. Best is trial#39 with value: 0.6454545454545455.\u001b[0m\n",
      "\u001b[32m[I 2020-05-26 10:38:27,929]\u001b[0m Finished trial#50 with value: 0.6227272727272727 with parameters: {'lam': 0.09769088344897425}. Best is trial#39 with value: 0.6454545454545455.\u001b[0m\n",
      "\u001b[32m[I 2020-05-26 10:38:29,512]\u001b[0m Finished trial#51 with value: 0.6424242424242425 with parameters: {'lam': 3.574888282427368}. Best is trial#39 with value: 0.6454545454545455.\u001b[0m\n",
      "\u001b[32m[I 2020-05-26 10:38:31,152]\u001b[0m Finished trial#52 with value: 0.6424242424242425 with parameters: {'lam': 3.551355361786903}. Best is trial#39 with value: 0.6454545454545455.\u001b[0m\n",
      "\u001b[32m[I 2020-05-26 10:38:32,744]\u001b[0m Finished trial#53 with value: 0.6393939393939394 with parameters: {'lam': 2.4459810846793446}. Best is trial#39 with value: 0.6454545454545455.\u001b[0m\n",
      "\u001b[32m[I 2020-05-26 10:38:34,343]\u001b[0m Finished trial#54 with value: 0.6439393939393939 with parameters: {'lam': 3.9571464047820366}. Best is trial#39 with value: 0.6454545454545455.\u001b[0m\n",
      "\u001b[32m[I 2020-05-26 10:38:35,936]\u001b[0m Finished trial#55 with value: 0.6348484848484849 with parameters: {'lam': 1.901103567475214}. Best is trial#39 with value: 0.6454545454545455.\u001b[0m\n",
      "\u001b[32m[I 2020-05-26 10:38:37,600]\u001b[0m Finished trial#56 with value: 0.6409090909090909 with parameters: {'lam': 4.167420992046863}. Best is trial#39 with value: 0.6454545454545455.\u001b[0m\n",
      "\u001b[32m[I 2020-05-26 10:38:39,214]\u001b[0m Finished trial#57 with value: 0.6409090909090909 with parameters: {'lam': 2.908889156338668}. Best is trial#39 with value: 0.6454545454545455.\u001b[0m\n",
      "\u001b[32m[I 2020-05-26 10:38:40,821]\u001b[0m Finished trial#58 with value: 0.6287878787878788 with parameters: {'lam': 0.8495200387760312}. Best is trial#39 with value: 0.6454545454545455.\u001b[0m\n",
      "\u001b[32m[I 2020-05-26 10:38:42,430]\u001b[0m Finished trial#59 with value: 0.6439393939393939 with parameters: {'lam': 4.916272813001785}. Best is trial#39 with value: 0.6454545454545455.\u001b[0m\n",
      "\u001b[32m[I 2020-05-26 10:38:44,070]\u001b[0m Finished trial#60 with value: 0.6439393939393939 with parameters: {'lam': 3.0882862764959786}. Best is trial#39 with value: 0.6454545454545455.\u001b[0m\n",
      "\u001b[32m[I 2020-05-26 10:38:45,674]\u001b[0m Finished trial#61 with value: 0.6393939393939394 with parameters: {'lam': 2.760147157146349}. Best is trial#39 with value: 0.6454545454545455.\u001b[0m\n",
      "\u001b[32m[I 2020-05-26 10:38:47,294]\u001b[0m Finished trial#62 with value: 0.6333333333333333 with parameters: {'lam': 1.5403470263061967}. Best is trial#39 with value: 0.6454545454545455.\u001b[0m\n",
      "\u001b[32m[I 2020-05-26 10:38:48,923]\u001b[0m Finished trial#63 with value: 0.6424242424242425 with parameters: {'lam': 4.123285859526819}. Best is trial#39 with value: 0.6454545454545455.\u001b[0m\n",
      "\u001b[32m[I 2020-05-26 10:38:50,535]\u001b[0m Finished trial#64 with value: 0.6439393939393939 with parameters: {'lam': 4.820289550768894}. Best is trial#39 with value: 0.6454545454545455.\u001b[0m\n",
      "\u001b[32m[I 2020-05-26 10:38:52,113]\u001b[0m Finished trial#65 with value: 0.6378787878787879 with parameters: {'lam': 2.2499682854659673}. Best is trial#39 with value: 0.6454545454545455.\u001b[0m\n",
      "\u001b[32m[I 2020-05-26 10:38:53,753]\u001b[0m Finished trial#66 with value: 0.6424242424242425 with parameters: {'lam': 3.4596745386555523}. Best is trial#39 with value: 0.6454545454545455.\u001b[0m\n",
      "\u001b[32m[I 2020-05-26 10:38:55,331]\u001b[0m Finished trial#67 with value: 0.6303030303030303 with parameters: {'lam': 1.2699699094930659}. Best is trial#39 with value: 0.6454545454545455.\u001b[0m\n",
      "\u001b[32m[I 2020-05-26 10:38:56,934]\u001b[0m Finished trial#68 with value: 0.6439393939393939 with parameters: {'lam': 3.3513187077026774}. Best is trial#39 with value: 0.6454545454545455.\u001b[0m\n",
      "\u001b[32m[I 2020-05-26 10:38:58,531]\u001b[0m Finished trial#69 with value: 0.6348484848484849 with parameters: {'lam': 1.757476865264351}. Best is trial#39 with value: 0.6454545454545455.\u001b[0m\n",
      "\u001b[32m[I 2020-05-26 10:39:00,146]\u001b[0m Finished trial#70 with value: 0.6439393939393939 with parameters: {'lam': 4.006119831339346}. Best is trial#39 with value: 0.6454545454545455.\u001b[0m\n",
      "\u001b[32m[I 2020-05-26 10:39:01,792]\u001b[0m Finished trial#71 with value: 0.6409090909090909 with parameters: {'lam': 3.818554999200509}. Best is trial#39 with value: 0.6454545454545455.\u001b[0m\n",
      "\u001b[32m[I 2020-05-26 10:39:03,406]\u001b[0m Finished trial#72 with value: 0.6424242424242425 with parameters: {'lam': 4.3501235374890275}. Best is trial#39 with value: 0.6454545454545455.\u001b[0m\n",
      "\u001b[32m[I 2020-05-26 10:39:05,029]\u001b[0m Finished trial#73 with value: 0.6393939393939394 with parameters: {'lam': 2.4394761983730224}. Best is trial#39 with value: 0.6454545454545455.\u001b[0m\n",
      "\u001b[32m[I 2020-05-26 10:39:06,636]\u001b[0m Finished trial#74 with value: 0.6439393939393939 with parameters: {'lam': 4.963366981608314}. Best is trial#39 with value: 0.6454545454545455.\u001b[0m\n",
      "\u001b[32m[I 2020-05-26 10:39:08,273]\u001b[0m Finished trial#75 with value: 0.6439393939393939 with parameters: {'lam': 4.953398819054783}. Best is trial#39 with value: 0.6454545454545455.\u001b[0m\n",
      "\u001b[32m[I 2020-05-26 10:39:09,912]\u001b[0m Finished trial#76 with value: 0.6454545454545455 with parameters: {'lam': 3.014430377645173}. Best is trial#39 with value: 0.6454545454545455.\u001b[0m\n",
      "\u001b[32m[I 2020-05-26 10:39:11,513]\u001b[0m Finished trial#77 with value: 0.6409090909090909 with parameters: {'lam': 2.885488431926987}. Best is trial#39 with value: 0.6454545454545455.\u001b[0m\n",
      "\u001b[32m[I 2020-05-26 10:39:13,128]\u001b[0m Finished trial#78 with value: 0.6393939393939394 with parameters: {'lam': 2.315053974707226}. Best is trial#39 with value: 0.6454545454545455.\u001b[0m\n",
      "\u001b[32m[I 2020-05-26 10:39:14,735]\u001b[0m Finished trial#79 with value: 0.6090909090909091 with parameters: {'lam': 0.011969923554008784}. Best is trial#39 with value: 0.6454545454545455.\u001b[0m\n",
      "\u001b[32m[I 2020-05-26 10:39:16,371]\u001b[0m Finished trial#80 with value: 0.6424242424242425 with parameters: {'lam': 3.9203229477367763}. Best is trial#39 with value: 0.6454545454545455.\u001b[0m\n",
      "\u001b[32m[I 2020-05-26 10:39:17,963]\u001b[0m Finished trial#81 with value: 0.6439393939393939 with parameters: {'lam': 2.9890197331477184}. Best is trial#39 with value: 0.6454545454545455.\u001b[0m\n",
      "\u001b[32m[I 2020-05-26 10:39:19,563]\u001b[0m Finished trial#82 with value: 0.6348484848484849 with parameters: {'lam': 1.9317520810691275}. Best is trial#39 with value: 0.6454545454545455.\u001b[0m\n",
      "\u001b[32m[I 2020-05-26 10:39:21,172]\u001b[0m Finished trial#83 with value: 0.6439393939393939 with parameters: {'lam': 4.953742527312293}. Best is trial#39 with value: 0.6454545454545455.\u001b[0m\n",
      "\u001b[32m[I 2020-05-26 10:39:22,771]\u001b[0m Finished trial#84 with value: 0.6439393939393939 with parameters: {'lam': 3.237659103664089}. Best is trial#39 with value: 0.6454545454545455.\u001b[0m\n"
     ]
    },
    {
     "ename": "KeyboardInterrupt",
     "evalue": "",
     "output_type": "error",
     "traceback": [
      "\u001b[0;31m---------------------------------------------------------------------------\u001b[0m",
      "\u001b[0;31mKeyboardInterrupt\u001b[0m                         Traceback (most recent call last)",
      "\u001b[0;32m<ipython-input-157-e68e843c70bc>\u001b[0m in \u001b[0;36m<module>\u001b[0;34m()\u001b[0m\n\u001b[1;32m      4\u001b[0m \u001b[0msampler\u001b[0m \u001b[0;34m=\u001b[0m \u001b[0moptuna\u001b[0m\u001b[0;34m.\u001b[0m\u001b[0msamplers\u001b[0m\u001b[0;34m.\u001b[0m\u001b[0mTPESampler\u001b[0m\u001b[0;34m(\u001b[0m\u001b[0;34m)\u001b[0m\u001b[0;34m\u001b[0m\u001b[0;34m\u001b[0m\u001b[0m\n\u001b[1;32m      5\u001b[0m \u001b[0mstudy\u001b[0m \u001b[0;34m=\u001b[0m \u001b[0moptuna\u001b[0m\u001b[0;34m.\u001b[0m\u001b[0mcreate_study\u001b[0m\u001b[0;34m(\u001b[0m\u001b[0msampler\u001b[0m\u001b[0;34m=\u001b[0m\u001b[0msampler\u001b[0m\u001b[0;34m,\u001b[0m \u001b[0mdirection\u001b[0m\u001b[0;34m=\u001b[0m\u001b[0;34m'maximize'\u001b[0m\u001b[0;34m)\u001b[0m\u001b[0;34m\u001b[0m\u001b[0;34m\u001b[0m\u001b[0m\n\u001b[0;32m----> 6\u001b[0;31m \u001b[0mstudy\u001b[0m\u001b[0;34m.\u001b[0m\u001b[0moptimize\u001b[0m\u001b[0;34m(\u001b[0m\u001b[0mfunc\u001b[0m\u001b[0;34m=\u001b[0m\u001b[0mobjective\u001b[0m\u001b[0;34m,\u001b[0m \u001b[0mn_trials\u001b[0m\u001b[0;34m=\u001b[0m\u001b[0;36m200\u001b[0m\u001b[0;34m,\u001b[0m\u001b[0mshow_progress_bar\u001b[0m\u001b[0;34m=\u001b[0m\u001b[0;32mFalse\u001b[0m\u001b[0;34m)\u001b[0m\u001b[0;34m\u001b[0m\u001b[0;34m\u001b[0m\u001b[0m\n\u001b[0m",
      "\u001b[0;32m/usr/local/lib/python3.6/dist-packages/optuna/study.py\u001b[0m in \u001b[0;36moptimize\u001b[0;34m(self, func, n_trials, timeout, n_jobs, catch, callbacks, gc_after_trial, show_progress_bar)\u001b[0m\n\u001b[1;32m    332\u001b[0m             \u001b[0;32mif\u001b[0m \u001b[0mn_jobs\u001b[0m \u001b[0;34m==\u001b[0m \u001b[0;36m1\u001b[0m\u001b[0;34m:\u001b[0m\u001b[0;34m\u001b[0m\u001b[0;34m\u001b[0m\u001b[0m\n\u001b[1;32m    333\u001b[0m                 self._optimize_sequential(\n\u001b[0;32m--> 334\u001b[0;31m                     \u001b[0mfunc\u001b[0m\u001b[0;34m,\u001b[0m \u001b[0mn_trials\u001b[0m\u001b[0;34m,\u001b[0m \u001b[0mtimeout\u001b[0m\u001b[0;34m,\u001b[0m \u001b[0mcatch\u001b[0m\u001b[0;34m,\u001b[0m \u001b[0mcallbacks\u001b[0m\u001b[0;34m,\u001b[0m \u001b[0mgc_after_trial\u001b[0m\u001b[0;34m,\u001b[0m \u001b[0;32mNone\u001b[0m\u001b[0;34m\u001b[0m\u001b[0;34m\u001b[0m\u001b[0m\n\u001b[0m\u001b[1;32m    335\u001b[0m                 )\n\u001b[1;32m    336\u001b[0m             \u001b[0;32melse\u001b[0m\u001b[0;34m:\u001b[0m\u001b[0;34m\u001b[0m\u001b[0;34m\u001b[0m\u001b[0m\n",
      "\u001b[0;32m/usr/local/lib/python3.6/dist-packages/optuna/study.py\u001b[0m in \u001b[0;36m_optimize_sequential\u001b[0;34m(self, func, n_trials, timeout, catch, callbacks, gc_after_trial, time_start)\u001b[0m\n\u001b[1;32m    646\u001b[0m                     \u001b[0;32mbreak\u001b[0m\u001b[0;34m\u001b[0m\u001b[0;34m\u001b[0m\u001b[0m\n\u001b[1;32m    647\u001b[0m \u001b[0;34m\u001b[0m\u001b[0m\n\u001b[0;32m--> 648\u001b[0;31m             \u001b[0mself\u001b[0m\u001b[0;34m.\u001b[0m\u001b[0m_run_trial_and_callbacks\u001b[0m\u001b[0;34m(\u001b[0m\u001b[0mfunc\u001b[0m\u001b[0;34m,\u001b[0m \u001b[0mcatch\u001b[0m\u001b[0;34m,\u001b[0m \u001b[0mcallbacks\u001b[0m\u001b[0;34m,\u001b[0m \u001b[0mgc_after_trial\u001b[0m\u001b[0;34m)\u001b[0m\u001b[0;34m\u001b[0m\u001b[0;34m\u001b[0m\u001b[0m\n\u001b[0m\u001b[1;32m    649\u001b[0m \u001b[0;34m\u001b[0m\u001b[0m\n\u001b[1;32m    650\u001b[0m             \u001b[0mself\u001b[0m\u001b[0;34m.\u001b[0m\u001b[0m_progress_bar\u001b[0m\u001b[0;34m.\u001b[0m\u001b[0mupdate\u001b[0m\u001b[0;34m(\u001b[0m\u001b[0;34m(\u001b[0m\u001b[0mdatetime\u001b[0m\u001b[0;34m.\u001b[0m\u001b[0mdatetime\u001b[0m\u001b[0;34m.\u001b[0m\u001b[0mnow\u001b[0m\u001b[0;34m(\u001b[0m\u001b[0;34m)\u001b[0m \u001b[0;34m-\u001b[0m \u001b[0mtime_start\u001b[0m\u001b[0;34m)\u001b[0m\u001b[0;34m.\u001b[0m\u001b[0mtotal_seconds\u001b[0m\u001b[0;34m(\u001b[0m\u001b[0;34m)\u001b[0m\u001b[0;34m)\u001b[0m\u001b[0;34m\u001b[0m\u001b[0;34m\u001b[0m\u001b[0m\n",
      "\u001b[0;32m/usr/local/lib/python3.6/dist-packages/optuna/study.py\u001b[0m in \u001b[0;36m_run_trial_and_callbacks\u001b[0;34m(self, func, catch, callbacks, gc_after_trial)\u001b[0m\n\u001b[1;32m    676\u001b[0m         \u001b[0;31m# type: (...) -> None\u001b[0m\u001b[0;34m\u001b[0m\u001b[0;34m\u001b[0m\u001b[0;34m\u001b[0m\u001b[0m\n\u001b[1;32m    677\u001b[0m \u001b[0;34m\u001b[0m\u001b[0m\n\u001b[0;32m--> 678\u001b[0;31m         \u001b[0mtrial\u001b[0m \u001b[0;34m=\u001b[0m \u001b[0mself\u001b[0m\u001b[0;34m.\u001b[0m\u001b[0m_run_trial\u001b[0m\u001b[0;34m(\u001b[0m\u001b[0mfunc\u001b[0m\u001b[0;34m,\u001b[0m \u001b[0mcatch\u001b[0m\u001b[0;34m,\u001b[0m \u001b[0mgc_after_trial\u001b[0m\u001b[0;34m)\u001b[0m\u001b[0;34m\u001b[0m\u001b[0;34m\u001b[0m\u001b[0m\n\u001b[0m\u001b[1;32m    679\u001b[0m         \u001b[0;32mif\u001b[0m \u001b[0mcallbacks\u001b[0m \u001b[0;32mis\u001b[0m \u001b[0;32mnot\u001b[0m \u001b[0;32mNone\u001b[0m\u001b[0;34m:\u001b[0m\u001b[0;34m\u001b[0m\u001b[0;34m\u001b[0m\u001b[0m\n\u001b[1;32m    680\u001b[0m             \u001b[0mfrozen_trial\u001b[0m \u001b[0;34m=\u001b[0m \u001b[0mself\u001b[0m\u001b[0;34m.\u001b[0m\u001b[0m_storage\u001b[0m\u001b[0;34m.\u001b[0m\u001b[0mget_trial\u001b[0m\u001b[0;34m(\u001b[0m\u001b[0mtrial\u001b[0m\u001b[0;34m.\u001b[0m\u001b[0m_trial_id\u001b[0m\u001b[0;34m)\u001b[0m\u001b[0;34m\u001b[0m\u001b[0;34m\u001b[0m\u001b[0m\n",
      "\u001b[0;32m/usr/local/lib/python3.6/dist-packages/optuna/study.py\u001b[0m in \u001b[0;36m_run_trial\u001b[0;34m(self, func, catch, gc_after_trial)\u001b[0m\n\u001b[1;32m    697\u001b[0m \u001b[0;34m\u001b[0m\u001b[0m\n\u001b[1;32m    698\u001b[0m         \u001b[0;32mtry\u001b[0m\u001b[0;34m:\u001b[0m\u001b[0;34m\u001b[0m\u001b[0;34m\u001b[0m\u001b[0m\n\u001b[0;32m--> 699\u001b[0;31m             \u001b[0mresult\u001b[0m \u001b[0;34m=\u001b[0m \u001b[0mfunc\u001b[0m\u001b[0;34m(\u001b[0m\u001b[0mtrial\u001b[0m\u001b[0;34m)\u001b[0m\u001b[0;34m\u001b[0m\u001b[0;34m\u001b[0m\u001b[0m\n\u001b[0m\u001b[1;32m    700\u001b[0m         \u001b[0;32mexcept\u001b[0m \u001b[0mexceptions\u001b[0m\u001b[0;34m.\u001b[0m\u001b[0mTrialPruned\u001b[0m \u001b[0;32mas\u001b[0m \u001b[0me\u001b[0m\u001b[0;34m:\u001b[0m\u001b[0;34m\u001b[0m\u001b[0;34m\u001b[0m\u001b[0m\n\u001b[1;32m    701\u001b[0m             message = \"Setting status of trial#{} as {}. {}\".format(\n",
      "\u001b[0;32m<ipython-input-156-86fdb0de21c6>\u001b[0m in \u001b[0;36mobjective\u001b[0;34m(trial)\u001b[0m\n\u001b[1;32m      3\u001b[0m \u001b[0;34m\u001b[0m\u001b[0m\n\u001b[1;32m      4\u001b[0m     \u001b[0;31m# Our solver\u001b[0m\u001b[0;34m\u001b[0m\u001b[0;34m\u001b[0m\u001b[0;34m\u001b[0m\u001b[0m\n\u001b[0;32m----> 5\u001b[0;31m     \u001b[0mbeta1\u001b[0m \u001b[0;34m=\u001b[0m \u001b[0msolveRR\u001b[0m\u001b[0;34m(\u001b[0m\u001b[0my_train\u001b[0m\u001b[0;34m,\u001b[0m \u001b[0mX_train\u001b[0m\u001b[0;34m,\u001b[0m \u001b[0mlam\u001b[0m\u001b[0;34m)\u001b[0m\u001b[0;34m\u001b[0m\u001b[0;34m\u001b[0m\u001b[0m\n\u001b[0m\u001b[1;32m      6\u001b[0m \u001b[0;34m\u001b[0m\u001b[0m\n\u001b[1;32m      7\u001b[0m     \u001b[0;31m# Python solver\u001b[0m\u001b[0;34m\u001b[0m\u001b[0;34m\u001b[0m\u001b[0;34m\u001b[0m\u001b[0m\n",
      "\u001b[0;32m<ipython-input-122-32b0083fa5d2>\u001b[0m in \u001b[0;36msolveRR\u001b[0;34m(y, X, lam)\u001b[0m\n\u001b[1;32m      9\u001b[0m \u001b[0;34m\u001b[0m\u001b[0m\n\u001b[1;32m     10\u001b[0m     \u001b[0;31m# Hint:\u001b[0m\u001b[0;34m\u001b[0m\u001b[0;34m\u001b[0m\u001b[0;34m\u001b[0m\u001b[0m\n\u001b[0;32m---> 11\u001b[0;31m     \u001b[0mbeta\u001b[0m \u001b[0;34m=\u001b[0m \u001b[0mnp\u001b[0m\u001b[0;34m.\u001b[0m\u001b[0mlinalg\u001b[0m\u001b[0;34m.\u001b[0m\u001b[0msolve\u001b[0m\u001b[0;34m(\u001b[0m\u001b[0mA\u001b[0m\u001b[0;34m,\u001b[0m \u001b[0mb\u001b[0m\u001b[0;34m)\u001b[0m\u001b[0;34m\u001b[0m\u001b[0;34m\u001b[0m\u001b[0m\n\u001b[0m\u001b[1;32m     12\u001b[0m     \u001b[0;31m# Finds solution to the linear system Ax = b\u001b[0m\u001b[0;34m\u001b[0m\u001b[0;34m\u001b[0m\u001b[0;34m\u001b[0m\u001b[0m\n\u001b[1;32m     13\u001b[0m     \u001b[0;32mreturn\u001b[0m \u001b[0;34m(\u001b[0m\u001b[0mbeta\u001b[0m\u001b[0;34m)\u001b[0m\u001b[0;34m\u001b[0m\u001b[0;34m\u001b[0m\u001b[0m\n",
      "\u001b[0;32m<__array_function__ internals>\u001b[0m in \u001b[0;36msolve\u001b[0;34m(*args, **kwargs)\u001b[0m\n",
      "\u001b[0;32m/usr/local/lib/python3.6/dist-packages/numpy/linalg/linalg.py\u001b[0m in \u001b[0;36msolve\u001b[0;34m(a, b)\u001b[0m\n\u001b[1;32m    397\u001b[0m     \u001b[0msignature\u001b[0m \u001b[0;34m=\u001b[0m \u001b[0;34m'DD->D'\u001b[0m \u001b[0;32mif\u001b[0m \u001b[0misComplexType\u001b[0m\u001b[0;34m(\u001b[0m\u001b[0mt\u001b[0m\u001b[0;34m)\u001b[0m \u001b[0;32melse\u001b[0m \u001b[0;34m'dd->d'\u001b[0m\u001b[0;34m\u001b[0m\u001b[0;34m\u001b[0m\u001b[0m\n\u001b[1;32m    398\u001b[0m     \u001b[0mextobj\u001b[0m \u001b[0;34m=\u001b[0m \u001b[0mget_linalg_error_extobj\u001b[0m\u001b[0;34m(\u001b[0m\u001b[0m_raise_linalgerror_singular\u001b[0m\u001b[0;34m)\u001b[0m\u001b[0;34m\u001b[0m\u001b[0;34m\u001b[0m\u001b[0m\n\u001b[0;32m--> 399\u001b[0;31m     \u001b[0mr\u001b[0m \u001b[0;34m=\u001b[0m \u001b[0mgufunc\u001b[0m\u001b[0;34m(\u001b[0m\u001b[0ma\u001b[0m\u001b[0;34m,\u001b[0m \u001b[0mb\u001b[0m\u001b[0;34m,\u001b[0m \u001b[0msignature\u001b[0m\u001b[0;34m=\u001b[0m\u001b[0msignature\u001b[0m\u001b[0;34m,\u001b[0m \u001b[0mextobj\u001b[0m\u001b[0;34m=\u001b[0m\u001b[0mextobj\u001b[0m\u001b[0;34m)\u001b[0m\u001b[0;34m\u001b[0m\u001b[0;34m\u001b[0m\u001b[0m\n\u001b[0m\u001b[1;32m    400\u001b[0m \u001b[0;34m\u001b[0m\u001b[0m\n\u001b[1;32m    401\u001b[0m     \u001b[0;32mreturn\u001b[0m \u001b[0mwrap\u001b[0m\u001b[0;34m(\u001b[0m\u001b[0mr\u001b[0m\u001b[0;34m.\u001b[0m\u001b[0mastype\u001b[0m\u001b[0;34m(\u001b[0m\u001b[0mresult_t\u001b[0m\u001b[0;34m,\u001b[0m \u001b[0mcopy\u001b[0m\u001b[0;34m=\u001b[0m\u001b[0;32mFalse\u001b[0m\u001b[0;34m)\u001b[0m\u001b[0;34m)\u001b[0m\u001b[0;34m\u001b[0m\u001b[0;34m\u001b[0m\u001b[0m\n",
      "\u001b[0;31mKeyboardInterrupt\u001b[0m: "
     ]
    }
   ],
   "source": [
    "\n",
    "import optuna\n",
    "\n",
    "sampler = optuna.samplers.TPESampler()\n",
    "study = optuna.create_study(sampler=sampler, direction='maximize')\n",
    "study.optimize(func=objective, n_trials=200,show_progress_bar=False)"
   ]
  },
  {
   "cell_type": "code",
   "execution_count": 158,
   "metadata": {},
   "outputs": [
    {
     "data": {
      "text/html": [
       "<div>\n",
       "<style scoped>\n",
       "    .dataframe tbody tr th:only-of-type {\n",
       "        vertical-align: middle;\n",
       "    }\n",
       "\n",
       "    .dataframe tbody tr th {\n",
       "        vertical-align: top;\n",
       "    }\n",
       "\n",
       "    .dataframe thead th {\n",
       "        text-align: right;\n",
       "    }\n",
       "</style>\n",
       "<table border=\"1\" class=\"dataframe\">\n",
       "  <thead>\n",
       "    <tr style=\"text-align: right;\">\n",
       "      <th></th>\n",
       "      <th>number</th>\n",
       "      <th>value</th>\n",
       "      <th>duration</th>\n",
       "      <th>params_lam</th>\n",
       "    </tr>\n",
       "  </thead>\n",
       "  <tbody>\n",
       "    <tr>\n",
       "      <th>1</th>\n",
       "      <td>1</td>\n",
       "      <td>0.607576</td>\n",
       "      <td>00:00:01.623944</td>\n",
       "      <td>0.010387</td>\n",
       "    </tr>\n",
       "    <tr>\n",
       "      <th>79</th>\n",
       "      <td>79</td>\n",
       "      <td>0.609091</td>\n",
       "      <td>00:00:01.605914</td>\n",
       "      <td>0.011970</td>\n",
       "    </tr>\n",
       "    <tr>\n",
       "      <th>9</th>\n",
       "      <td>9</td>\n",
       "      <td>0.610606</td>\n",
       "      <td>00:00:01.632601</td>\n",
       "      <td>0.013856</td>\n",
       "    </tr>\n",
       "    <tr>\n",
       "      <th>30</th>\n",
       "      <td>30</td>\n",
       "      <td>0.613636</td>\n",
       "      <td>00:00:01.603322</td>\n",
       "      <td>0.025540</td>\n",
       "    </tr>\n",
       "    <tr>\n",
       "      <th>20</th>\n",
       "      <td>20</td>\n",
       "      <td>0.616667</td>\n",
       "      <td>00:00:01.620518</td>\n",
       "      <td>0.371094</td>\n",
       "    </tr>\n",
       "    <tr>\n",
       "      <th>...</th>\n",
       "      <td>...</td>\n",
       "      <td>...</td>\n",
       "      <td>...</td>\n",
       "      <td>...</td>\n",
       "    </tr>\n",
       "    <tr>\n",
       "      <th>76</th>\n",
       "      <td>76</td>\n",
       "      <td>0.645455</td>\n",
       "      <td>00:00:01.637858</td>\n",
       "      <td>3.014430</td>\n",
       "    </tr>\n",
       "    <tr>\n",
       "      <th>47</th>\n",
       "      <td>47</td>\n",
       "      <td>0.645455</td>\n",
       "      <td>00:00:01.635687</td>\n",
       "      <td>3.021096</td>\n",
       "    </tr>\n",
       "    <tr>\n",
       "      <th>39</th>\n",
       "      <td>39</td>\n",
       "      <td>0.645455</td>\n",
       "      <td>00:00:01.619077</td>\n",
       "      <td>3.320122</td>\n",
       "    </tr>\n",
       "    <tr>\n",
       "      <th>40</th>\n",
       "      <td>40</td>\n",
       "      <td>0.645455</td>\n",
       "      <td>00:00:01.644892</td>\n",
       "      <td>3.005604</td>\n",
       "    </tr>\n",
       "    <tr>\n",
       "      <th>85</th>\n",
       "      <td>85</td>\n",
       "      <td>NaN</td>\n",
       "      <td>NaT</td>\n",
       "      <td>2.439590</td>\n",
       "    </tr>\n",
       "  </tbody>\n",
       "</table>\n",
       "<p>86 rows × 4 columns</p>\n",
       "</div>"
      ],
      "text/plain": [
       "    number     value        duration  params_lam\n",
       "1        1  0.607576 00:00:01.623944    0.010387\n",
       "79      79  0.609091 00:00:01.605914    0.011970\n",
       "9        9  0.610606 00:00:01.632601    0.013856\n",
       "30      30  0.613636 00:00:01.603322    0.025540\n",
       "20      20  0.616667 00:00:01.620518    0.371094\n",
       "..     ...       ...             ...         ...\n",
       "76      76  0.645455 00:00:01.637858    3.014430\n",
       "47      47  0.645455 00:00:01.635687    3.021096\n",
       "39      39  0.645455 00:00:01.619077    3.320122\n",
       "40      40  0.645455 00:00:01.644892    3.005604\n",
       "85      85       NaN             NaT    2.439590\n",
       "\n",
       "[86 rows x 4 columns]"
      ]
     },
     "execution_count": 158,
     "metadata": {},
     "output_type": "execute_result"
    }
   ],
   "source": [
    "df = study.trials_dataframe().drop(['state','datetime_start','datetime_complete'], axis=1)\n",
    "\n",
    "df.sort_values(by=['value'])"
   ]
  },
  {
   "cell_type": "code",
   "execution_count": 159,
   "metadata": {},
   "outputs": [],
   "source": [
    "beta1 = solveRR(y_train, X_train, lam)"
   ]
  },
  {
   "cell_type": "code",
   "execution_count": 164,
   "metadata": {},
   "outputs": [
    {
     "data": {
      "text/plain": [
       "0.8738805970149254"
      ]
     },
     "execution_count": 164,
     "metadata": {},
     "output_type": "execute_result"
    }
   ],
   "source": [
    "np.sum(np.sign(np.dot(X_train,beta1))==y_train)/len(y_train)"
   ]
  },
  {
   "cell_type": "code",
   "execution_count": 165,
   "metadata": {},
   "outputs": [
    {
     "data": {
      "text/plain": [
       "0.6484848484848484"
      ]
     },
     "execution_count": 165,
     "metadata": {},
     "output_type": "execute_result"
    }
   ],
   "source": [
    "np.sum(np.sign(np.dot(X_val,beta1))==y_val)/len(y_val)"
   ]
  },
  {
   "cell_type": "code",
   "execution_count": 172,
   "metadata": {},
   "outputs": [],
   "source": [
    "sol = []\n",
    "\n",
    "for i in range(len(X_te)):\n",
    "    result = np.sign(np.dot(X_te[i],beta1))\n",
    "    if result == 1:\n",
    "        sol.append([i,1])\n",
    "    else:\n",
    "        sol.append([i,0])\n",
    "                     "
   ]
  },
  {
   "cell_type": "code",
   "execution_count": 176,
   "metadata": {},
   "outputs": [
    {
     "data": {
      "text/html": [
       "<div>\n",
       "<style scoped>\n",
       "    .dataframe tbody tr th:only-of-type {\n",
       "        vertical-align: middle;\n",
       "    }\n",
       "\n",
       "    .dataframe tbody tr th {\n",
       "        vertical-align: top;\n",
       "    }\n",
       "\n",
       "    .dataframe thead th {\n",
       "        text-align: right;\n",
       "    }\n",
       "</style>\n",
       "<table border=\"1\" class=\"dataframe\">\n",
       "  <thead>\n",
       "    <tr style=\"text-align: right;\">\n",
       "      <th></th>\n",
       "      <th>Id</th>\n",
       "      <th>Bound</th>\n",
       "    </tr>\n",
       "  </thead>\n",
       "  <tbody>\n",
       "    <tr>\n",
       "      <th>0</th>\n",
       "      <td>0</td>\n",
       "      <td>1</td>\n",
       "    </tr>\n",
       "    <tr>\n",
       "      <th>1</th>\n",
       "      <td>1</td>\n",
       "      <td>0</td>\n",
       "    </tr>\n",
       "    <tr>\n",
       "      <th>2</th>\n",
       "      <td>2</td>\n",
       "      <td>0</td>\n",
       "    </tr>\n",
       "    <tr>\n",
       "      <th>3</th>\n",
       "      <td>3</td>\n",
       "      <td>0</td>\n",
       "    </tr>\n",
       "    <tr>\n",
       "      <th>4</th>\n",
       "      <td>4</td>\n",
       "      <td>0</td>\n",
       "    </tr>\n",
       "  </tbody>\n",
       "</table>\n",
       "</div>"
      ],
      "text/plain": [
       "   Id  Bound\n",
       "0   0      1\n",
       "1   1      0\n",
       "2   2      0\n",
       "3   3      0\n",
       "4   4      0"
      ]
     },
     "execution_count": 176,
     "metadata": {},
     "output_type": "execute_result"
    }
   ],
   "source": [
    "d = pd.DataFrame(sol)\n",
    "d.columns = ['Id','Bound']\n",
    "d.head()"
   ]
  },
  {
   "cell_type": "code",
   "execution_count": 177,
   "metadata": {},
   "outputs": [],
   "source": [
    "d.to_csv('test_64_rr_solver.csv',index=False)"
   ]
  },
  {
   "cell_type": "code",
   "execution_count": null,
   "metadata": {},
   "outputs": [],
   "source": []
  }
 ],
 "metadata": {
  "kernelspec": {
   "display_name": "Python 3",
   "language": "python",
   "name": "python3"
  },
  "language_info": {
   "codemirror_mode": {
    "name": "ipython",
    "version": 3
   },
   "file_extension": ".py",
   "mimetype": "text/x-python",
   "name": "python",
   "nbconvert_exporter": "python",
   "pygments_lexer": "ipython3",
   "version": "3.6.9"
  }
 },
 "nbformat": 4,
 "nbformat_minor": 4
}
