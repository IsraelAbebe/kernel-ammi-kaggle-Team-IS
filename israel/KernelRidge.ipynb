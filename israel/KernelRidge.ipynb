{
 "cells": [
  {
   "cell_type": "code",
   "execution_count": 1,
   "metadata": {},
   "outputs": [],
   "source": [
    "!pip install optuna -q"
   ]
  },
  {
   "cell_type": "code",
   "execution_count": 2,
   "metadata": {},
   "outputs": [],
   "source": [
    "import pandas as pd\n",
    "import numpy as np\n",
    "import random\n",
    "from sklearn.model_selection import train_test_split\n",
    "from sklearn.preprocessing import scale\n",
    "from sklearn.metrics import accuracy_score\n",
    "from sklearn.feature_extraction.text import CountVectorizer\n",
    "\n",
    "import optuna"
   ]
  },
  {
   "cell_type": "code",
   "execution_count": 32,
   "metadata": {},
   "outputs": [],
   "source": [
    "\n",
    "X_test_ = pd.read_csv('../data/Xte.csv',sep=',',index_col=0).values\n",
    "X_train_ = pd.read_csv('../data/Xtr.csv',sep=',',index_col=0).values\n",
    "\n",
    "X_test_mat100 = pd.read_csv('../data/Xte_mat100.csv',sep=' ',header=None).values\n",
    "X_train_mat100 = pd.read_csv('../data/Xtr_mat100.csv',sep=' ',header=None).values\n",
    "\n",
    "y = pd.read_csv('../data/Ytr.csv',sep=',',index_col=0)"
   ]
  },
  {
   "cell_type": "code",
   "execution_count": 12,
   "metadata": {},
   "outputs": [
    {
     "data": {
      "text/plain": [
       "array([ 1, -1,  1, ...,  1,  1,  1])"
      ]
     },
     "execution_count": 12,
     "metadata": {},
     "output_type": "execute_result"
    }
   ],
   "source": [
    "y['Bound'] = y.Bound.apply(lambda x: -1 if x == 0 else 1)\n",
    "y.head()\n",
    "y = y.Bound.values\n",
    "y"
   ]
  },
  {
   "cell_type": "code",
   "execution_count": 13,
   "metadata": {},
   "outputs": [
    {
     "name": "stdout",
     "output_type": "stream",
     "text": [
      "x_train: (2000, 1024) y_train (2000,)\n",
      "test: (1000, 1024)\n"
     ]
    }
   ],
   "source": [
    "print('x_train: {} y_train {}'.format(X_preprocess[:2000,:].shape,y.shape))\n",
    "print('test: {}'.format(X_preprocess[2000:,:].shape))"
   ]
  },
  {
   "cell_type": "code",
   "execution_count": 14,
   "metadata": {},
   "outputs": [],
   "source": [
    "\n",
    "def test_data(X,y):\n",
    "    results = {}\n",
    "    X=scale(X)\n",
    "    X_train, X_test, y_train, y_test = train_test_split(X, y, test_size=0.3, random_state=42)\n",
    "    \n",
    "    classifier = SVC(kernel = 'linear', C = 0.1, gamma = 0.01)\n",
    "    classifier.fit(X_train, y_train)\n",
    "    results['svm'] = classifier.score(X_test,y_test)\n",
    "\n",
    "    clf = LogisticRegression(random_state=0,penalty='l2').fit(X, y)\n",
    "    results['lr'] = clf.score(X_test,y_test)\n",
    "    \n",
    "    return results"
   ]
  },
  {
   "cell_type": "code",
   "execution_count": null,
   "metadata": {},
   "outputs": [],
   "source": []
  },
  {
   "cell_type": "markdown",
   "metadata": {},
   "source": [
    "# Model Test"
   ]
  },
  {
   "cell_type": "code",
   "execution_count": 15,
   "metadata": {},
   "outputs": [],
   "source": [
    "def rbf_kernel_element_wise(x, y, sigma=1):\n",
    "    K =  np.exp(-np.sum((x-y)**2)/(2*sigma**2))\n",
    "    return K\n",
    "\n",
    "def rbf_kernel(X1, X2, sigma=10):\n",
    "    X2_norm = np.sum(X2 ** 2, axis = -1)\n",
    "    X1_norm = np.sum(X1 ** 2, axis = -1)\n",
    "    gamma = 1 / (2 * sigma ** 2)\n",
    "    K = np.exp(- gamma * (X1_norm[:, None] + X2_norm[None, :] - 2 * np.dot(X1, X2.T)))\n",
    "    return K\n",
    "\n",
    "def sigma_from_median(X):\n",
    "    pairwise_diff = X[:, :, None] - X[:, :, None].T\n",
    "    pairwise_diff *= pairwise_diff\n",
    "    euclidean_dist = np.sqrt(pairwise_diff.sum(axis=1))\n",
    "    return np.median(euclidean_dist)\n",
    "\n",
    "def gaussian_kernel(x, y, sigma=5.0):\n",
    "    return np.exp(-np.linalg.norm(x-y)**2 / (2 * (sigma ** 2)))\n",
    "\n",
    "\n",
    "def linear_kernel(x1, x2):\n",
    "    return np.dot(x1, x2)\n",
    "\n",
    "def polynomial_kernel(x, y, p=2):\n",
    "    return (1 + np.dot(x, y)) ** p\n",
    "\n",
    "\n",
    "def LevenshteinDistance(str1,str2):\n",
    "    '''\n",
    "    Compute the edit distance between str1 and str2\n",
    "    Param: @(str1): (str) string 1 for the comparison\n",
    "    @(str2): (str) string 2 for the comparison\n",
    "    Return (int) distance\n",
    "    '''\n",
    "    len_s1 = len(str1) +1\n",
    "    len_s2 = len(str2) +1\n",
    "    m = np.zeros((len_s1,len_s2))\n",
    "    for i in range(len_s1):\n",
    "        m[i,0] = i\n",
    "    \n",
    "    for j in range(len_s2):\n",
    "        m[0,j] = j\n",
    "    \n",
    "    for i in range(1,len_s1):\n",
    "        for j in range(1,len_s2):\n",
    "            if str1[i-1]==str2[j-1]:\n",
    "                m[i,j]= min(m[i-1,j]+1,m[i,j-1]+1,m[i-1,j-1])\n",
    "            else:\n",
    "                m[i,j] =min(m[i-1,j]+1,m[i,j-1]+1,m[i-1,j-1]+1)\n",
    "    return m[-1,-1]\n",
    "\n",
    "\n",
    "def rbf_kernel(X1, X2, sigma=10):\n",
    "    '''\n",
    "    Returns the kernel matrix K(X1_i, X2_j): size (n1, n2)\n",
    "    where K is the RBF kernel with parameter sigma\n",
    "    \n",
    "    Input:\n",
    "    ------\n",
    "    X1: an (n1, p) matrix\n",
    "    X2: an (n2, p) matrix\n",
    "    sigma: float\n",
    "    '''\n",
    "    # For loop with rbf_kernel_element works but is slow in python\n",
    "    # Use matrix operations!\n",
    "    X2_norm = np.sum(X2 ** 2, axis = -1)\n",
    "    X1_norm = np.sum(X1 ** 2, axis = -1)\n",
    "    gamma = 1 / (2 * sigma ** 2)\n",
    "    K = np.exp(- gamma * (X1_norm[:, None] + X2_norm[None, :] - 2 * np.dot(X1, X2.T)))\n",
    "    return K\n",
    "\n",
    "def sigma_from_median(X):\n",
    "    '''\n",
    "    Returns the median of ||Xi-Xj||\n",
    "    \n",
    "    Input\n",
    "    -----\n",
    "    X: (n, p) matrix\n",
    "    '''\n",
    "    pairwise_diff = X[:, :, None] - X[:, :, None].T\n",
    "    pairwise_diff *= pairwise_diff\n",
    "    euclidean_dist = np.sqrt(pairwise_diff.sum(axis=1))\n",
    "    return np.median(euclidean_dist)\n",
    "\n",
    "def linear_kernel(X1, X2):\n",
    "    '''\n",
    "    Returns the kernel matrix K(X1_i, X2_j): size (n1, n2)\n",
    "    where K is the linear kernel\n",
    "    \n",
    "    Input:\n",
    "    ------\n",
    "    X1: an (n1, p) matrix\n",
    "    X2: an (n2, p) matrix\n",
    "    '''\n",
    "    return X1.dot(X2.T)\n",
    "\n",
    "def quadratic_kernel(X1, X2,power=2):\n",
    "    '''\n",
    "    Returns the kernel matrix K(X1_i, X2_j): size (n1, n2)\n",
    "    where K is the quadratic kernel\n",
    "    \n",
    "    Input:\n",
    "    ------\n",
    "    X1: an (n1, p) matrix\n",
    "    X2: an (n2, p) matrix\n",
    "    '''\n",
    "    return (1 + linear_kernel(X1, X2))**power\n",
    "\n",
    "# distance = np.zeros((len(X_preprocess),len(X_preprocess)))\n",
    "# for i in range(len(X_preprocess)):\n",
    "#     for j in range(len(X_preprocess)):\n",
    "#         distance[i,j] = LevenshteinDistance(X_preprocess[i],X_preprocess[j])"
   ]
  },
  {
   "cell_type": "code",
   "execution_count": 16,
   "metadata": {},
   "outputs": [],
   "source": [
    "class KernelMethodBase(object):\n",
    "    '''\n",
    "    Base class for kernel methods models\n",
    "    \n",
    "    Methods\n",
    "    ----\n",
    "    fit\n",
    "    predict\n",
    "    '''\n",
    "    kernels_ = {\n",
    "        'linear': linear_kernel,\n",
    "        'quadratic': quadratic_kernel,\n",
    "        'rbf': rbf_kernel,\n",
    "    }\n",
    "    def __init__(self, kernel='linear', **kwargs):\n",
    "        self.kernel_name = kernel\n",
    "        self.kernel_function_ = self.kernels_[kernel]\n",
    "        self.kernel_parameters = self.get_kernel_parameters(**kwargs)\n",
    "        \n",
    "    def get_kernel_parameters(self, **kwargs):\n",
    "        params = {}\n",
    "        if self.kernel_name == 'rbf':\n",
    "            params['sigma'] = kwargs.get('sigma', None)\n",
    "        return params\n",
    "\n",
    "    def fit(self, X, y, **kwargs):\n",
    "        return self\n",
    "        \n",
    "    def decision_function(self, X):\n",
    "        pass\n",
    "\n",
    "    def predict(self, X):\n",
    "        pass"
   ]
  },
  {
   "cell_type": "code",
   "execution_count": 106,
   "metadata": {},
   "outputs": [],
   "source": [
    "class KernelRidgeRegression(KernelMethodBase):\n",
    "    '''\n",
    "    Kernel Ridge Regression\n",
    "    '''\n",
    "    def __init__(self, lambd=0.1, **kwargs):\n",
    "        self.lambd = lambd\n",
    "        # Python 3: replace the following line by\n",
    "        # super().__init__(**kwargs)\n",
    "        super(KernelRidgeRegression, self).__init__(**kwargs)\n",
    "\n",
    "    def fit(self, X, y, sample_weights=None):\n",
    "        n, p = X.shape\n",
    "        assert (n == len(y))\n",
    "    \n",
    "        self.X_train = X\n",
    "        self.y_train = y\n",
    "        \n",
    "        if sample_weights is not None:\n",
    "            w_sqrt = np.sqrt(sample_weights)\n",
    "            self.X_train = self.X_train * w_sqrt[:, None]\n",
    "            self.y_train = self.y_train * w_sqrt\n",
    "        \n",
    "        A = self.kernel_function_(X,X,**self.kernel_parameters)\n",
    "        A[np.diag_indices_from(A)] = np.add(A[np.diag_indices_from(A)],n*self.lambd)\n",
    "        # self.alpha = (K + n lambda I)^-1 y\n",
    "        self.alpha = np.linalg.solve(A , self.y_train)\n",
    "\n",
    "        return self\n",
    "    \n",
    "    def decision_function(self, X):\n",
    "        K_x = self.kernel_function_(X,self.X_train, **self.kernel_parameters)\n",
    "        return K_x.dot(self.alpha)\n",
    "    \n",
    "    def predict(self, X):\n",
    "        return self.decision_function(X)"
   ]
  },
  {
   "cell_type": "code",
   "execution_count": 107,
   "metadata": {},
   "outputs": [],
   "source": [
    "def cross_validate(x_data,y_data,kernel=None,lambd=0.2,sigma=0.5,k=5,p=None):\n",
    "    if len(x_data)%k != 0:\n",
    "        print('cant vsplit',len(x_data),' by ',k)\n",
    "        return\n",
    "    \n",
    "    x_data_splitted = np.vsplit(x_data,k)\n",
    "    y_data_splitted = np.vsplit(y_data.reshape(-1,1),k)\n",
    "    \n",
    "    aggrigate_result = []\n",
    "    for i in range(len(x_data_splitted)):\n",
    "        train = []\n",
    "        test = []\n",
    "        items = [j for j in range(len(x_data_splitted)) if j !=i ]\n",
    "        x_test = x_data_splitted[i]\n",
    "        y_test = y_data_splitted[i]\n",
    "        for item in items:\n",
    "            if len(train) == 0:\n",
    "                x_train = x_data_splitted[item]\n",
    "                y_train = y_data_splitted[item]\n",
    "            else:\n",
    "                x_train = np.concatenate((x_train,x_data_splitted[item]), axis=0)\n",
    "                y_train = np.concatenate((y_train,y_data_splitted[item]), axis=0)\n",
    "            \n",
    "            \n",
    "        model = KernelRidgeRegression(\n",
    "                kernel=kernel,\n",
    "                lambd=lambd,\n",
    "                sigma=sigma\n",
    "            ).fit(x_train, y_train)\n",
    "        result = sum(np.sign(model.predict(x_test))==y_test)/len(y_test)\n",
    "        aggrigate_result.append(result)\n",
    "        \n",
    "        value = sum(aggrigate_result)/len(aggrigate_result)\n",
    "    return value"
   ]
  },
  {
   "cell_type": "code",
   "execution_count": 109,
   "metadata": {},
   "outputs": [],
   "source": [
    "# cross_validate(X_preprocess_train, y,kernel='',lambd=0.001,k=4,sigma=0.2)"
   ]
  },
  {
   "cell_type": "code",
   "execution_count": null,
   "metadata": {},
   "outputs": [],
   "source": []
  },
  {
   "cell_type": "code",
   "execution_count": 116,
   "metadata": {},
   "outputs": [
    {
     "data": {
      "text/plain": [
       "(2000, 16)"
      ]
     },
     "execution_count": 116,
     "metadata": {},
     "output_type": "execute_result"
    }
   ],
   "source": [
    "# Count Vectorizer \n",
    "def get_n_grams(data1):\n",
    "    cv = CountVectorizer(analyzer='char',ngram_range=(2,2))\n",
    "    X = cv.fit_transform(data1).toarray()\n",
    "    return X\n",
    "\n",
    "X_preprocess = get_n_grams(X_train_.flatten())\n",
    "X_preprocess.shape"
   ]
  },
  {
   "cell_type": "code",
   "execution_count": 117,
   "metadata": {},
   "outputs": [
    {
     "data": {
      "text/plain": [
       "(2000, 101)"
      ]
     },
     "execution_count": 117,
     "metadata": {},
     "output_type": "execute_result"
    }
   ],
   "source": [
    "np.array(X_list).shape"
   ]
  },
  {
   "cell_type": "code",
   "execution_count": 118,
   "metadata": {},
   "outputs": [],
   "source": [
    "def objective(trial):\n",
    "    lambd = trial.suggest_loguniform('lambd', 1e-3, 1)\n",
    "    sigma = trial.suggest_loguniform('sigma', 1e-3, 1)\n",
    "    k =  trial.suggest_categorical('k', [4,5,8,10])\n",
    "    p =  trial.suggest_int('p', 2,5)\n",
    "    kernel =  trial.suggest_categorical('kernel', ['linear','rbf','quadratic'])\n",
    "    \n",
    "    return cross_validate(X_preprocess, y.values,kernel=kernel,lambd=lambd,k=4,sigma=sigma)"
   ]
  },
  {
   "cell_type": "code",
   "execution_count": 119,
   "metadata": {},
   "outputs": [
    {
     "name": "stderr",
     "output_type": "stream",
     "text": [
      "/home/aimsgh/anaconda3/lib/python3.7/site-packages/optuna/_experimental.py:90: ExperimentalWarning: Progress bar is experimental (supported from v1.2.0). The interface can change in the future.\n",
      "  ExperimentalWarning,\n"
     ]
    },
    {
     "data": {
      "application/vnd.jupyter.widget-view+json": {
       "model_id": "1dcd444ca3074de6aebed65e71a75d0a",
       "version_major": 2,
       "version_minor": 0
      },
      "text/plain": [
       "HBox(children=(FloatProgress(value=0.0, max=200.0), HTML(value='')))"
      ]
     },
     "metadata": {},
     "output_type": "display_data"
    },
    {
     "name": "stdout",
     "output_type": "stream",
     "text": [
      "[I 2020-05-27 16:05:30,829] Finished trial#0 with value: 0.501 with parameters: {'lambd': 0.6788678496366254, 'sigma': 0.00411658973562302, 'k': 5, 'p': 4, 'kernel': 'rbf'}. Best is trial#0 with value: 0.501.\n",
      "[I 2020-05-27 16:05:31,180] Finished trial#1 with value: 0.501 with parameters: {'lambd': 0.0014996022869998345, 'sigma': 0.01216365965492881, 'k': 8, 'p': 2, 'kernel': 'rbf'}. Best is trial#0 with value: 0.501.\n",
      "[I 2020-05-27 16:05:31,538] Finished trial#2 with value: 0.5135000000000001 with parameters: {'lambd': 0.6820659847107553, 'sigma': 0.230051993650724, 'k': 8, 'p': 3, 'kernel': 'rbf'}. Best is trial#2 with value: 0.5135000000000001.\n",
      "[I 2020-05-27 16:05:31,996] Finished trial#3 with value: 0.499 with parameters: {'lambd': 0.045612012186555195, 'sigma': 0.01588475033514627, 'k': 4, 'p': 3, 'kernel': 'linear'}. Best is trial#2 with value: 0.5135000000000001.\n",
      "[I 2020-05-27 16:05:32,496] Finished trial#4 with value: 0.494 with parameters: {'lambd': 0.002230690129533121, 'sigma': 0.5291100584148816, 'k': 5, 'p': 4, 'kernel': 'rbf'}. Best is trial#2 with value: 0.5135000000000001.\n",
      "[I 2020-05-27 16:05:32,797] Finished trial#5 with value: 0.3155 with parameters: {'lambd': 0.001690515212281694, 'sigma': 0.0034034832510229005, 'k': 10, 'p': 3, 'kernel': 'linear'}. Best is trial#2 with value: 0.5135000000000001.\n",
      "[I 2020-05-27 16:05:33,161] Finished trial#6 with value: 0.501 with parameters: {'lambd': 0.134881044207604, 'sigma': 0.007135822149368356, 'k': 8, 'p': 4, 'kernel': 'rbf'}. Best is trial#2 with value: 0.5135000000000001.\n",
      "[I 2020-05-27 16:05:33,458] Finished trial#7 with value: 0.499 with parameters: {'lambd': 0.059009750085784664, 'sigma': 0.1281836686134034, 'k': 8, 'p': 2, 'kernel': 'linear'}. Best is trial#2 with value: 0.5135000000000001.\n",
      "[I 2020-05-27 16:05:33,818] Finished trial#8 with value: 0.501 with parameters: {'lambd': 0.37413306034053395, 'sigma': 0.005046131235672665, 'k': 5, 'p': 4, 'kernel': 'rbf'}. Best is trial#2 with value: 0.5135000000000001.\n",
      "[I 2020-05-27 16:05:34,162] Finished trial#9 with value: 0.4785 with parameters: {'lambd': 0.8238739290640139, 'sigma': 0.009462368623780285, 'k': 5, 'p': 3, 'kernel': 'quadratic'}. Best is trial#2 with value: 0.5135000000000001.\n",
      "[I 2020-05-27 16:05:34,450] Finished trial#10 with value: 0.46799999999999997 with parameters: {'lambd': 0.006773292257111491, 'sigma': 0.915275550715434, 'k': 8, 'p': 5, 'kernel': 'quadratic'}. Best is trial#2 with value: 0.5135000000000001.\n",
      "[I 2020-05-27 16:05:34,810] Finished trial#11 with value: 0.501 with parameters: {'lambd': 0.8931741730971082, 'sigma': 0.0010056021634353158, 'k': 5, 'p': 5, 'kernel': 'rbf'}. Best is trial#2 with value: 0.5135000000000001.\n",
      "[I 2020-05-27 16:05:35,171] Finished trial#12 with value: 0.501 with parameters: {'lambd': 0.2573681996942057, 'sigma': 0.06398990185190033, 'k': 4, 'p': 4, 'kernel': 'rbf'}. Best is trial#2 with value: 0.5135000000000001.\n",
      "[I 2020-05-27 16:05:35,422] Finished trial#13 with value: 0.5155000000000001 with parameters: {'lambd': 0.013682722316634819, 'sigma': 0.23853177742495033, 'k': 10, 'p': 3, 'kernel': 'rbf'}. Best is trial#13 with value: 0.5155000000000001.\n",
      "[I 2020-05-27 16:05:35,740] Finished trial#14 with value: 0.5145 with parameters: {'lambd': 0.007574089489172081, 'sigma': 0.2460210046091937, 'k': 10, 'p': 2, 'kernel': 'rbf'}. Best is trial#13 with value: 0.5155000000000001.\n",
      "[I 2020-05-27 16:05:36,031] Finished trial#15 with value: 0.46799999999999997 with parameters: {'lambd': 0.00849426368165317, 'sigma': 0.3244307362602601, 'k': 10, 'p': 2, 'kernel': 'quadratic'}. Best is trial#13 with value: 0.5155000000000001.\n",
      "[I 2020-05-27 16:05:36,402] Finished trial#16 with value: 0.501 with parameters: {'lambd': 0.013440184089972397, 'sigma': 0.06507356522608745, 'k': 10, 'p': 2, 'kernel': 'rbf'}. Best is trial#13 with value: 0.5155000000000001.\n",
      "[I 2020-05-27 16:05:36,773] Finished trial#17 with value: 0.4935 with parameters: {'lambd': 0.020482299710807884, 'sigma': 0.9132166297531226, 'k': 10, 'p': 3, 'kernel': 'rbf'}. Best is trial#13 with value: 0.5155000000000001.\n",
      "[I 2020-05-27 16:05:37,138] Finished trial#18 with value: 0.506 with parameters: {'lambd': 0.003617072168501138, 'sigma': 0.13359217196304476, 'k': 10, 'p': 2, 'kernel': 'rbf'}. Best is trial#13 with value: 0.5155000000000001.\n",
      "[I 2020-05-27 16:05:37,428] Finished trial#19 with value: 0.499 with parameters: {'lambd': 0.004069613327233472, 'sigma': 0.03339534229186268, 'k': 10, 'p': 3, 'kernel': 'linear'}. Best is trial#13 with value: 0.5155000000000001.\n",
      "[I 2020-05-27 16:05:37,630] Finished trial#20 with value: 0.47 with parameters: {'lambd': 0.029677019148178805, 'sigma': 0.42025878379796094, 'k': 10, 'p': 2, 'kernel': 'quadratic'}. Best is trial#13 with value: 0.5155000000000001.\n",
      "[I 2020-05-27 16:05:37,982] Finished trial#21 with value: 0.497 with parameters: {'lambd': 0.014811835847667923, 'sigma': 0.20295807289351853, 'k': 8, 'p': 3, 'kernel': 'rbf'}. Best is trial#13 with value: 0.5155000000000001.\n",
      "[I 2020-05-27 16:05:38,357] Finished trial#22 with value: 0.506 with parameters: {'lambd': 0.09261008780981447, 'sigma': 0.2249111607454997, 'k': 10, 'p': 3, 'kernel': 'rbf'}. Best is trial#13 with value: 0.5155000000000001.\n",
      "[I 2020-05-27 16:05:38,734] Finished trial#23 with value: 0.501 with parameters: {'lambd': 0.007719433350915484, 'sigma': 0.08699523587142123, 'k': 10, 'p': 3, 'kernel': 'rbf'}. Best is trial#13 with value: 0.5155000000000001.\n",
      "[I 2020-05-27 16:05:39,203] Finished trial#24 with value: 0.493 with parameters: {'lambd': 0.02659436957103581, 'sigma': 0.6215785628612484, 'k': 8, 'p': 2, 'kernel': 'rbf'}. Best is trial#13 with value: 0.5155000000000001.\n",
      "[I 2020-05-27 16:05:39,557] Finished trial#25 with value: 0.501 with parameters: {'lambd': 0.004230385315220631, 'sigma': 0.028176394886593452, 'k': 4, 'p': 3, 'kernel': 'rbf'}. Best is trial#13 with value: 0.5155000000000001.\n",
      "[I 2020-05-27 16:05:39,813] Finished trial#26 with value: 0.512 with parameters: {'lambd': 0.010668414950389348, 'sigma': 0.25665845012346805, 'k': 10, 'p': 2, 'kernel': 'rbf'}. Best is trial#13 with value: 0.5155000000000001.\n",
      "[I 2020-05-27 16:05:40,087] Finished trial#27 with value: 0.504 with parameters: {'lambd': 0.0010048139900286116, 'sigma': 0.14118254691628188, 'k': 8, 'p': 3, 'kernel': 'rbf'}. Best is trial#13 with value: 0.5155000000000001.\n",
      "[I 2020-05-27 16:05:40,352] Finished trial#28 with value: 0.501 with parameters: {'lambd': 0.04882254130495104, 'sigma': 0.040580845442142875, 'k': 10, 'p': 4, 'kernel': 'rbf'}. Best is trial#13 with value: 0.5155000000000001.\n",
      "[I 2020-05-27 16:05:40,828] Finished trial#29 with value: 0.492 with parameters: {'lambd': 0.005468243673828336, 'sigma': 0.7106036938548824, 'k': 10, 'p': 3, 'kernel': 'rbf'}. Best is trial#13 with value: 0.5155000000000001.\n",
      "[I 2020-05-27 16:05:41,311] Finished trial#30 with value: 0.496 with parameters: {'lambd': 0.0199065909516964, 'sigma': 0.39587592903836155, 'k': 4, 'p': 2, 'kernel': 'rbf'}. Best is trial#13 with value: 0.5155000000000001.\n",
      "[I 2020-05-27 16:05:41,669] Finished trial#31 with value: 0.5145 with parameters: {'lambd': 0.010828011308927825, 'sigma': 0.24741170914327346, 'k': 10, 'p': 2, 'kernel': 'rbf'}. Best is trial#13 with value: 0.5155000000000001.\n",
      "[I 2020-05-27 16:05:42,025] Finished trial#32 with value: 0.497 with parameters: {'lambd': 0.0028307528420465832, 'sigma': 0.17858610887707937, 'k': 10, 'p': 2, 'kernel': 'rbf'}. Best is trial#13 with value: 0.5155000000000001.\n",
      "[I 2020-05-27 16:05:42,380] Finished trial#33 with value: 0.5 with parameters: {'lambd': 0.013722337703621891, 'sigma': 0.1046488564027, 'k': 10, 'p': 2, 'kernel': 'rbf'}. Best is trial#13 with value: 0.5155000000000001.\n",
      "[I 2020-05-27 16:05:42,758] Finished trial#34 with value: 0.501 with parameters: {'lambd': 0.03880650039308394, 'sigma': 0.3143445129378717, 'k': 8, 'p': 3, 'kernel': 'rbf'}. Best is trial#13 with value: 0.5155000000000001.\n",
      "[I 2020-05-27 16:05:43,050] Finished trial#35 with value: 0.499 with parameters: {'lambd': 0.005938854544640444, 'sigma': 0.07287074322811962, 'k': 10, 'p': 2, 'kernel': 'linear'}. Best is trial#13 with value: 0.5155000000000001.\n",
      "[I 2020-05-27 16:05:43,591] Finished trial#36 with value: 0.494 with parameters: {'lambd': 0.020033452055536388, 'sigma': 0.5098699865089767, 'k': 10, 'p': 4, 'kernel': 'rbf'}. Best is trial#13 with value: 0.5155000000000001.\n",
      "[I 2020-05-27 16:05:43,957] Finished trial#37 with value: 0.501 with parameters: {'lambd': 0.07497772940128901, 'sigma': 0.021021949372820994, 'k': 8, 'p': 3, 'kernel': 'rbf'}. Best is trial#13 with value: 0.5155000000000001.\n",
      "[I 2020-05-27 16:05:44,295] Finished trial#38 with value: 0.499 with parameters: {'lambd': 0.002170774486532958, 'sigma': 0.1843388075605587, 'k': 10, 'p': 2, 'kernel': 'linear'}. Best is trial#13 with value: 0.5155000000000001.\n",
      "[I 2020-05-27 16:05:44,702] Finished trial#39 with value: 0.501 with parameters: {'lambd': 0.1485632205689445, 'sigma': 0.04546052074404509, 'k': 5, 'p': 3, 'kernel': 'rbf'}. Best is trial#13 with value: 0.5155000000000001.\n",
      "[I 2020-05-27 16:05:44,995] Finished trial#40 with value: 0.477 with parameters: {'lambd': 0.5260130279917244, 'sigma': 0.2760836030857601, 'k': 8, 'p': 2, 'kernel': 'quadratic'}. Best is trial#13 with value: 0.5155000000000001.\n",
      "[I 2020-05-27 16:05:45,362] Finished trial#41 with value: 0.511 with parameters: {'lambd': 0.011588044085582392, 'sigma': 0.26116306556538715, 'k': 10, 'p': 2, 'kernel': 'rbf'}. Best is trial#13 with value: 0.5155000000000001.\n",
      "[I 2020-05-27 16:05:45,844] Finished trial#42 with value: 0.496 with parameters: {'lambd': 0.00968747319808842, 'sigma': 0.39835174462348805, 'k': 10, 'p': 2, 'kernel': 'rbf'}. Best is trial#13 with value: 0.5155000000000001.\n",
      "[I 2020-05-27 16:05:46,217] Finished trial#43 with value: 0.511 with parameters: {'lambd': 0.009590135384036913, 'sigma': 0.15977610649335958, 'k': 10, 'p': 2, 'kernel': 'rbf'}. Best is trial#13 with value: 0.5155000000000001.\n",
      "[I 2020-05-27 16:05:46,553] Finished trial#44 with value: 0.492 with parameters: {'lambd': 0.004882180561833786, 'sigma': 0.7476553559849207, 'k': 10, 'p': 2, 'kernel': 'rbf'}. Best is trial#13 with value: 0.5155000000000001.\n",
      "[I 2020-05-27 16:05:46,819] Finished trial#45 with value: 0.5 with parameters: {'lambd': 0.015392851117677409, 'sigma': 0.10544029525717732, 'k': 10, 'p': 3, 'kernel': 'rbf'}. Best is trial#13 with value: 0.5155000000000001.\n",
      "[I 2020-05-27 16:05:47,341] Finished trial#46 with value: 0.493 with parameters: {'lambd': 0.007900338397461236, 'sigma': 0.5423172679194783, 'k': 4, 'p': 4, 'kernel': 'rbf'}. Best is trial#13 with value: 0.5155000000000001.\n",
      "[I 2020-05-27 16:05:47,709] Finished trial#47 with value: 0.501 with parameters: {'lambd': 0.024744098049888627, 'sigma': 0.001354147343591797, 'k': 5, 'p': 2, 'kernel': 'rbf'}. Best is trial#13 with value: 0.5155000000000001.\n",
      "[I 2020-05-27 16:05:48,142] Finished trial#48 with value: 0.497 with parameters: {'lambd': 0.0014617846492662276, 'sigma': 0.34664585989641605, 'k': 10, 'p': 5, 'kernel': 'rbf'}. Best is trial#13 with value: 0.5155000000000001.\n",
      "[I 2020-05-27 16:05:48,411] Finished trial#49 with value: 0.469 with parameters: {'lambd': 0.0031697318142093435, 'sigma': 0.9680105863792977, 'k': 8, 'p': 4, 'kernel': 'quadratic'}. Best is trial#13 with value: 0.5155000000000001.\n",
      "[I 2020-05-27 16:05:48,641] Finished trial#50 with value: 0.499 with parameters: {'lambd': 0.010631172882901637, 'sigma': 0.23097298955760992, 'k': 10, 'p': 3, 'kernel': 'linear'}. Best is trial#13 with value: 0.5155000000000001.\n",
      "[I 2020-05-27 16:05:48,906] Finished trial#51 with value: 0.5005 with parameters: {'lambd': 0.006464312943913993, 'sigma': 0.1302702634186499, 'k': 10, 'p': 2, 'kernel': 'rbf'}. Best is trial#13 with value: 0.5155000000000001.\n",
      "[I 2020-05-27 16:05:49,167] Finished trial#52 with value: 0.502 with parameters: {'lambd': 0.01747546348900353, 'sigma': 0.17306616467823346, 'k': 10, 'p': 2, 'kernel': 'rbf'}. Best is trial#13 with value: 0.5155000000000001.\n",
      "[I 2020-05-27 16:05:49,485] Finished trial#53 with value: 0.5005 with parameters: {'lambd': 0.009449614255684278, 'sigma': 0.16417924281452964, 'k': 10, 'p': 2, 'kernel': 'rbf'}. Best is trial#13 with value: 0.5155000000000001.\n",
      "[I 2020-05-27 16:05:49,877] Finished trial#54 with value: 0.51 with parameters: {'lambd': 0.035268612847093726, 'sigma': 0.2575302457758322, 'k': 10, 'p': 2, 'kernel': 'rbf'}. Best is trial#13 with value: 0.5155000000000001.\n",
      "[I 2020-05-27 16:05:50,442] Finished trial#55 with value: 0.495 with parameters: {'lambd': 0.011681157609462003, 'sigma': 0.4715949814923888, 'k': 10, 'p': 2, 'kernel': 'rbf'}. Best is trial#13 with value: 0.5155000000000001.\n",
      "[I 2020-05-27 16:05:50,731] Finished trial#56 with value: 0.5015000000000001 with parameters: {'lambd': 0.007506697521647541, 'sigma': 0.10299235060846651, 'k': 10, 'p': 2, 'kernel': 'rbf'}. Best is trial#13 with value: 0.5155000000000001.\n",
      "[I 2020-05-27 16:05:50,964] Finished trial#57 with value: 0.501 with parameters: {'lambd': 0.02574988064962851, 'sigma': 0.05320727928337885, 'k': 8, 'p': 3, 'kernel': 'rbf'}. Best is trial#13 with value: 0.5155000000000001.\n",
      "[I 2020-05-27 16:05:51,256] Finished trial#58 with value: 0.501 with parameters: {'lambd': 0.014064415417965487, 'sigma': 0.31520956522344307, 'k': 5, 'p': 3, 'kernel': 'rbf'}. Best is trial#13 with value: 0.5155000000000001.\n",
      "[I 2020-05-27 16:05:51,681] Finished trial#59 with value: 0.501 with parameters: {'lambd': 0.0050215505715085, 'sigma': 0.07865005582965895, 'k': 10, 'p': 2, 'kernel': 'rbf'}. Best is trial#13 with value: 0.5155000000000001.\n",
      "[I 2020-05-27 16:05:51,972] Finished trial#60 with value: 0.46799999999999997 with parameters: {'lambd': 0.0064480021376856714, 'sigma': 0.20914772758506728, 'k': 4, 'p': 2, 'kernel': 'quadratic'}. Best is trial#13 with value: 0.5155000000000001.\n",
      "[I 2020-05-27 16:05:52,392] Finished trial#61 with value: 0.5125 with parameters: {'lambd': 0.012151106648761399, 'sigma': 0.2736528210046228, 'k': 10, 'p': 2, 'kernel': 'rbf'}. Best is trial#13 with value: 0.5155000000000001.\n",
      "[I 2020-05-27 16:05:52,765] Finished trial#62 with value: 0.5145 with parameters: {'lambd': 0.012475061407373061, 'sigma': 0.2708650966328597, 'k': 10, 'p': 2, 'kernel': 'rbf'}. Best is trial#13 with value: 0.5155000000000001.\n",
      "[I 2020-05-27 16:05:53,134] Finished trial#63 with value: 0.4955 with parameters: {'lambd': 0.016907073014587822, 'sigma': 0.4088486850360469, 'k': 10, 'p': 2, 'kernel': 'rbf'}. Best is trial#13 with value: 0.5155000000000001.\n",
      "[I 2020-05-27 16:05:53,499] Finished trial#64 with value: 0.492 with parameters: {'lambd': 0.011668492184867905, 'sigma': 0.6444822985077374, 'k': 10, 'p': 2, 'kernel': 'rbf'}. Best is trial#13 with value: 0.5155000000000001.\n",
      "[I 2020-05-27 16:05:53,921] Finished trial#65 with value: 0.5005 with parameters: {'lambd': 0.02199061943513222, 'sigma': 0.30966846029263917, 'k': 10, 'p': 3, 'kernel': 'rbf'}. Best is trial#13 with value: 0.5155000000000001.\n",
      "[I 2020-05-27 16:05:54,329] Finished trial#66 with value: 0.5035000000000001 with parameters: {'lambd': 0.04359701388393871, 'sigma': 0.22252456555422162, 'k': 10, 'p': 2, 'kernel': 'rbf'}. Best is trial#13 with value: 0.5155000000000001.\n",
      "[I 2020-05-27 16:05:54,814] Finished trial#67 with value: 0.5 with parameters: {'lambd': 0.02929520861371009, 'sigma': 0.12315599381788214, 'k': 10, 'p': 2, 'kernel': 'rbf'}. Best is trial#13 with value: 0.5155000000000001.\n",
      "[I 2020-05-27 16:05:55,263] Finished trial#68 with value: 0.4975 with parameters: {'lambd': 0.004312559501496947, 'sigma': 0.3649251791606781, 'k': 8, 'p': 3, 'kernel': 'rbf'}. Best is trial#13 with value: 0.5155000000000001.\n",
      "[I 2020-05-27 16:05:55,671] Finished trial#69 with value: 0.499 with parameters: {'lambd': 0.00852742234915072, 'sigma': 0.4948075894147646, 'k': 10, 'p': 2, 'kernel': 'linear'}. Best is trial#13 with value: 0.5155000000000001.\n",
      "[I 2020-05-27 16:05:56,081] Finished trial#70 with value: 0.493 with parameters: {'lambd': 0.01866202619768632, 'sigma': 0.8530714226888343, 'k': 10, 'p': 2, 'kernel': 'rbf'}. Best is trial#13 with value: 0.5155000000000001.\n"
     ]
    },
    {
     "name": "stdout",
     "output_type": "stream",
     "text": [
      "[I 2020-05-27 16:05:56,466] Finished trial#71 with value: 0.502 with parameters: {'lambd': 0.01399229128279502, 'sigma': 0.29747252901325943, 'k': 10, 'p': 2, 'kernel': 'rbf'}. Best is trial#13 with value: 0.5155000000000001.\n",
      "[I 2020-05-27 16:05:56,853] Finished trial#72 with value: 0.513 with parameters: {'lambd': 0.011657912918665117, 'sigma': 0.26325053010347005, 'k': 10, 'p': 2, 'kernel': 'rbf'}. Best is trial#13 with value: 0.5155000000000001.\n",
      "[I 2020-05-27 16:05:57,199] Finished trial#73 with value: 0.497 with parameters: {'lambd': 0.00710289569975837, 'sigma': 0.20168405789230837, 'k': 10, 'p': 2, 'kernel': 'rbf'}. Best is trial#13 with value: 0.5155000000000001.\n",
      "[I 2020-05-27 16:05:57,618] Finished trial#74 with value: 0.5145 with parameters: {'lambd': 0.01325051181591142, 'sigma': 0.24710342693128137, 'k': 10, 'p': 2, 'kernel': 'rbf'}. Best is trial#13 with value: 0.5155000000000001.\n",
      "[I 2020-05-27 16:05:57,973] Finished trial#75 with value: 0.5035000000000001 with parameters: {'lambd': 0.012115488722377861, 'sigma': 0.15337569434377868, 'k': 10, 'p': 2, 'kernel': 'rbf'}. Best is trial#13 with value: 0.5155000000000001.\n",
      "[I 2020-05-27 16:05:58,381] Finished trial#76 with value: 0.502 with parameters: {'lambd': 0.008834214536491624, 'sigma': 0.11776658179143099, 'k': 10, 'p': 2, 'kernel': 'rbf'}. Best is trial#13 with value: 0.5155000000000001.\n",
      "[I 2020-05-27 16:05:58,772] Finished trial#77 with value: 0.5145 with parameters: {'lambd': 0.022977998642805978, 'sigma': 0.24664327648101764, 'k': 8, 'p': 2, 'kernel': 'rbf'}. Best is trial#13 with value: 0.5155000000000001.\n",
      "[I 2020-05-27 16:05:59,150] Finished trial#78 with value: 0.5125 with parameters: {'lambd': 0.031006034601283552, 'sigma': 0.23245426197181218, 'k': 8, 'p': 3, 'kernel': 'rbf'}. Best is trial#13 with value: 0.5155000000000001.\n",
      "[I 2020-05-27 16:05:59,740] Finished trial#79 with value: 0.494 with parameters: {'lambd': 0.055123756723056215, 'sigma': 0.5579835778560589, 'k': 8, 'p': 2, 'kernel': 'rbf'}. Best is trial#13 with value: 0.5155000000000001.\n",
      "[I 2020-05-27 16:06:00,101] Finished trial#80 with value: 0.5015000000000001 with parameters: {'lambd': 0.016092919699108612, 'sigma': 0.09580197851421773, 'k': 8, 'p': 2, 'kernel': 'rbf'}. Best is trial#13 with value: 0.5155000000000001.\n",
      "[I 2020-05-27 16:06:00,512] Finished trial#81 with value: 0.515 with parameters: {'lambd': 0.021389678567407647, 'sigma': 0.26715703599006985, 'k': 8, 'p': 2, 'kernel': 'rbf'}. Best is trial#13 with value: 0.5155000000000001.\n",
      "[I 2020-05-27 16:06:01,093] Finished trial#82 with value: 0.495 with parameters: {'lambd': 0.02134071230064237, 'sigma': 0.4322979403469995, 'k': 8, 'p': 2, 'kernel': 'rbf'}. Best is trial#13 with value: 0.5155000000000001.\n",
      "[I 2020-05-27 16:06:01,367] Finished trial#83 with value: 0.498 with parameters: {'lambd': 0.01702370383590761, 'sigma': 0.1919115825050666, 'k': 8, 'p': 2, 'kernel': 'rbf'}. Best is trial#13 with value: 0.5155000000000001.\n",
      "[I 2020-05-27 16:06:01,678] Finished trial#84 with value: 0.4975 with parameters: {'lambd': 0.023235684123479868, 'sigma': 0.3560991826287239, 'k': 8, 'p': 2, 'kernel': 'rbf'}. Best is trial#13 with value: 0.5155000000000001.\n",
      "[I 2020-05-27 16:06:01,920] Finished trial#85 with value: 0.504 with parameters: {'lambd': 0.034724740319845564, 'sigma': 0.1385477441373425, 'k': 8, 'p': 2, 'kernel': 'rbf'}. Best is trial#13 with value: 0.5155000000000001.\n",
      "[I 2020-05-27 16:06:02,282] Finished trial#86 with value: 0.512 with parameters: {'lambd': 0.2202703548878276, 'sigma': 0.25647129960078574, 'k': 8, 'p': 2, 'kernel': 'rbf'}. Best is trial#13 with value: 0.5155000000000001.\n",
      "[I 2020-05-27 16:06:02,649] Finished trial#87 with value: 0.46849999999999997 with parameters: {'lambd': 0.01367592426456116, 'sigma': 0.18614971832300162, 'k': 8, 'p': 4, 'kernel': 'quadratic'}. Best is trial#13 with value: 0.5155000000000001.\n",
      "[I 2020-05-27 16:06:03,035] Finished trial#88 with value: 0.501 with parameters: {'lambd': 0.005684688284411845, 'sigma': 0.009091400811541927, 'k': 4, 'p': 2, 'kernel': 'rbf'}. Best is trial#13 with value: 0.5155000000000001.\n",
      "[I 2020-05-27 16:06:03,393] Finished trial#89 with value: 0.5035000000000001 with parameters: {'lambd': 0.009588339179126725, 'sigma': 0.15261334896803094, 'k': 8, 'p': 3, 'kernel': 'rbf'}. Best is trial#13 with value: 0.5155000000000001.\n",
      "[I 2020-05-27 16:06:03,701] Finished trial#90 with value: 0.499 with parameters: {'lambd': 0.027873498071237485, 'sigma': 0.3479978438525328, 'k': 5, 'p': 2, 'kernel': 'linear'}. Best is trial#13 with value: 0.5155000000000001.\n",
      "[I 2020-05-27 16:06:04,070] Finished trial#91 with value: 0.5125 with parameters: {'lambd': 0.012695125734735874, 'sigma': 0.274364385496877, 'k': 10, 'p': 2, 'kernel': 'rbf'}. Best is trial#13 with value: 0.5155000000000001.\n",
      "[I 2020-05-27 16:06:04,450] Finished trial#92 with value: 0.5125 with parameters: {'lambd': 0.019712906205370452, 'sigma': 0.23427876924397698, 'k': 10, 'p': 2, 'kernel': 'rbf'}. Best is trial#13 with value: 0.5155000000000001.\n",
      "[I 2020-05-27 16:06:04,831] Finished trial#93 with value: 0.506 with parameters: {'lambd': 0.06889959921959408, 'sigma': 0.22588294447053617, 'k': 8, 'p': 3, 'kernel': 'rbf'}. Best is trial#13 with value: 0.5155000000000001.\n",
      "[I 2020-05-27 16:06:05,217] Finished trial#94 with value: 0.5085 with parameters: {'lambd': 0.01554129620344017, 'sigma': 0.27937323009876297, 'k': 10, 'p': 2, 'kernel': 'rbf'}. Best is trial#13 with value: 0.5155000000000001.\n",
      "[I 2020-05-27 16:06:05,670] Finished trial#95 with value: 0.496 with parameters: {'lambd': 0.009935603086586073, 'sigma': 0.3983241274310761, 'k': 10, 'p': 2, 'kernel': 'rbf'}. Best is trial#13 with value: 0.5155000000000001.\n",
      "[I 2020-05-27 16:06:06,065] Finished trial#96 with value: 0.496 with parameters: {'lambd': 0.7093458040692873, 'sigma': 0.46339713894708784, 'k': 10, 'p': 2, 'kernel': 'rbf'}. Best is trial#13 with value: 0.5155000000000001.\n",
      "[I 2020-05-27 16:06:06,394] Finished trial#97 with value: 0.5 with parameters: {'lambd': 0.03867446617821043, 'sigma': 0.16795735835517328, 'k': 8, 'p': 3, 'kernel': 'rbf'}. Best is trial#13 with value: 0.5155000000000001.\n",
      "[I 2020-05-27 16:06:06,686] Finished trial#98 with value: 0.4995 with parameters: {'lambd': 0.010756558294910174, 'sigma': 0.3227448063815882, 'k': 10, 'p': 5, 'kernel': 'rbf'}. Best is trial#13 with value: 0.5155000000000001.\n",
      "[I 2020-05-27 16:06:07,062] Finished trial#99 with value: 0.5125 with parameters: {'lambd': 0.019287021086943808, 'sigma': 0.2377764136076945, 'k': 10, 'p': 2, 'kernel': 'rbf'}. Best is trial#13 with value: 0.5155000000000001.\n",
      "[I 2020-05-27 16:06:07,599] Finished trial#100 with value: 0.493 with parameters: {'lambd': 0.008327074293574528, 'sigma': 0.5653311578505997, 'k': 10, 'p': 2, 'kernel': 'rbf'}. Best is trial#13 with value: 0.5155000000000001.\n",
      "[I 2020-05-27 16:06:08,016] Finished trial#101 with value: 0.5125 with parameters: {'lambd': 0.025733589292105133, 'sigma': 0.23263524817493805, 'k': 8, 'p': 3, 'kernel': 'rbf'}. Best is trial#13 with value: 0.5155000000000001.\n",
      "[I 2020-05-27 16:06:08,388] Finished trial#102 with value: 0.497 with parameters: {'lambd': 0.027284277178808825, 'sigma': 0.2033627892549435, 'k': 8, 'p': 3, 'kernel': 'rbf'}. Best is trial#13 with value: 0.5155000000000001.\n",
      "[I 2020-05-27 16:06:08,762] Finished trial#103 with value: 0.497 with parameters: {'lambd': 0.02405917575093281, 'sigma': 0.17997099822366555, 'k': 8, 'p': 3, 'kernel': 'rbf'}. Best is trial#13 with value: 0.5155000000000001.\n",
      "[I 2020-05-27 16:06:09,170] Finished trial#104 with value: 0.5005 with parameters: {'lambd': 0.015346972888272463, 'sigma': 0.3115545462218552, 'k': 8, 'p': 3, 'kernel': 'rbf'}. Best is trial#13 with value: 0.5155000000000001.\n",
      "[I 2020-05-27 16:06:09,536] Finished trial#105 with value: 0.513 with parameters: {'lambd': 0.01224029205857429, 'sigma': 0.26433079155573846, 'k': 8, 'p': 2, 'kernel': 'rbf'}. Best is trial#13 with value: 0.5155000000000001.\n",
      "[I 2020-05-27 16:06:09,941] Finished trial#106 with value: 0.515 with parameters: {'lambd': 0.012534054057704403, 'sigma': 0.2655191777145324, 'k': 10, 'p': 2, 'kernel': 'rbf'}. Best is trial#13 with value: 0.5155000000000001.\n",
      "[I 2020-05-27 16:06:10,408] Finished trial#107 with value: 0.4955 with parameters: {'lambd': 0.007258628309573545, 'sigma': 0.3885236799011331, 'k': 10, 'p': 2, 'kernel': 'rbf'}. Best is trial#13 with value: 0.5155000000000001.\n",
      "[I 2020-05-27 16:06:10,767] Finished trial#108 with value: 0.505 with parameters: {'lambd': 0.011009723143325469, 'sigma': 0.14615578281784658, 'k': 4, 'p': 2, 'kernel': 'rbf'}. Best is trial#13 with value: 0.5155000000000001.\n",
      "[I 2020-05-27 16:06:10,992] Finished trial#109 with value: 0.46849999999999997 with parameters: {'lambd': 0.013246229945806712, 'sigma': 0.11224939695179331, 'k': 5, 'p': 2, 'kernel': 'quadratic'}. Best is trial#13 with value: 0.5155000000000001.\n",
      "[I 2020-05-27 16:06:11,272] Finished trial#110 with value: 0.507 with parameters: {'lambd': 0.006911212015105446, 'sigma': 0.29103580500167364, 'k': 10, 'p': 2, 'kernel': 'rbf'}. Best is trial#13 with value: 0.5155000000000001.\n",
      "[I 2020-05-27 16:06:11,540] Finished trial#111 with value: 0.512 with parameters: {'lambd': 0.018347202343469912, 'sigma': 0.24954810971985905, 'k': 10, 'p': 2, 'kernel': 'rbf'}. Best is trial#13 with value: 0.5155000000000001.\n",
      "[I 2020-05-27 16:06:11,883] Finished trial#112 with value: 0.5025 with parameters: {'lambd': 0.02186725338780845, 'sigma': 0.215775406760695, 'k': 8, 'p': 2, 'kernel': 'rbf'}. Best is trial#13 with value: 0.5155000000000001.\n",
      "[I 2020-05-27 16:06:12,237] Finished trial#113 with value: 0.5145 with parameters: {'lambd': 0.012212831468178075, 'sigma': 0.2683192821316253, 'k': 10, 'p': 2, 'kernel': 'rbf'}. Best is trial#13 with value: 0.5155000000000001.\n",
      "[I 2020-05-27 16:06:12,635] Finished trial#114 with value: 0.4975 with parameters: {'lambd': 0.008426103766381516, 'sigma': 0.354955418377149, 'k': 10, 'p': 2, 'kernel': 'rbf'}. Best is trial#13 with value: 0.5155000000000001.\n",
      "[I 2020-05-27 16:06:12,985] Finished trial#115 with value: 0.501 with parameters: {'lambd': 0.014226088207827276, 'sigma': 0.0024943001020039514, 'k': 10, 'p': 2, 'kernel': 'rbf'}. Best is trial#13 with value: 0.5155000000000001.\n",
      "[I 2020-05-27 16:06:13,504] Finished trial#116 with value: 0.495 with parameters: {'lambd': 0.010910809579573197, 'sigma': 0.4305956569274372, 'k': 10, 'p': 2, 'kernel': 'rbf'}. Best is trial#13 with value: 0.5155000000000001.\n",
      "[I 2020-05-27 16:06:13,755] Finished trial#117 with value: 0.496 with parameters: {'lambd': 0.016074665938159604, 'sigma': 0.19948492080826177, 'k': 10, 'p': 2, 'kernel': 'rbf'}. Best is trial#13 with value: 0.5155000000000001.\n",
      "[I 2020-05-27 16:06:14,089] Finished trial#118 with value: 0.5 with parameters: {'lambd': 0.012713557233819364, 'sigma': 0.3036052996634383, 'k': 10, 'p': 2, 'kernel': 'rbf'}. Best is trial#13 with value: 0.5155000000000001.\n",
      "[I 2020-05-27 16:06:14,289] Finished trial#119 with value: 0.499 with parameters: {'lambd': 0.009355518547276512, 'sigma': 0.16117450986161566, 'k': 8, 'p': 2, 'kernel': 'linear'}. Best is trial#13 with value: 0.5155000000000001.\n",
      "[I 2020-05-27 16:06:14,659] Finished trial#120 with value: 0.513 with parameters: {'lambd': 0.004930648062740135, 'sigma': 0.2628448455860422, 'k': 10, 'p': 2, 'kernel': 'rbf'}. Best is trial#13 with value: 0.5155000000000001.\n",
      "[I 2020-05-27 16:06:15,150] Finished trial#121 with value: 0.5075000000000001 with parameters: {'lambd': 0.00578762932008136, 'sigma': 0.2840721564186525, 'k': 10, 'p': 2, 'kernel': 'rbf'}. Best is trial#13 with value: 0.5155000000000001.\n",
      "[I 2020-05-27 16:06:15,459] Finished trial#122 with value: 0.497 with parameters: {'lambd': 0.004493974937506141, 'sigma': 0.3335897926680469, 'k': 10, 'p': 2, 'kernel': 'rbf'}. Best is trial#13 with value: 0.5155000000000001.\n",
      "[I 2020-05-27 16:06:15,704] Finished trial#123 with value: 0.497 with parameters: {'lambd': 0.007814189839059007, 'sigma': 0.1817312817569412, 'k': 10, 'p': 2, 'kernel': 'rbf'}. Best is trial#13 with value: 0.5155000000000001.\n",
      "[I 2020-05-27 16:06:15,977] Finished trial#124 with value: 0.512 with parameters: {'lambd': 0.0037126591565000864, 'sigma': 0.25576563346724385, 'k': 10, 'p': 2, 'kernel': 'rbf'}. Best is trial#13 with value: 0.5155000000000001.\n",
      "[I 2020-05-27 16:06:16,526] Finished trial#125 with value: 0.495 with parameters: {'lambd': 0.0064591959537522595, 'sigma': 0.48409149454613576, 'k': 10, 'p': 2, 'kernel': 'rbf'}. Best is trial#13 with value: 0.5155000000000001.\n",
      "[I 2020-05-27 16:06:16,883] Finished trial#126 with value: 0.4995 with parameters: {'lambd': 0.004967873041154985, 'sigma': 0.2070253082767548, 'k': 10, 'p': 2, 'kernel': 'rbf'}. Best is trial#13 with value: 0.5155000000000001.\n",
      "[I 2020-05-27 16:06:17,238] Finished trial#127 with value: 0.506 with parameters: {'lambd': 0.017379099751029525, 'sigma': 0.1354353148765034, 'k': 8, 'p': 2, 'kernel': 'rbf'}. Best is trial#13 with value: 0.5155000000000001.\n",
      "[I 2020-05-27 16:06:17,662] Finished trial#128 with value: 0.498 with parameters: {'lambd': 0.011989415251839374, 'sigma': 0.3600043477488428, 'k': 10, 'p': 2, 'kernel': 'rbf'}. Best is trial#13 with value: 0.5155000000000001.\n",
      "[I 2020-05-27 16:06:18,016] Finished trial#129 with value: 0.501 with parameters: {'lambd': 0.4469293435295881, 'sigma': 0.01704771162613661, 'k': 10, 'p': 2, 'kernel': 'rbf'}. Best is trial#13 with value: 0.5155000000000001.\n",
      "[I 2020-05-27 16:06:18,421] Finished trial#130 with value: 0.5075000000000001 with parameters: {'lambd': 0.0025936297451401337, 'sigma': 0.28458194011857385, 'k': 8, 'p': 4, 'kernel': 'rbf'}. Best is trial#13 with value: 0.5155000000000001.\n",
      "[I 2020-05-27 16:06:18,789] Finished trial#131 with value: 0.512 with parameters: {'lambd': 0.010360909274106897, 'sigma': 0.2566125918589304, 'k': 10, 'p': 2, 'kernel': 'rbf'}. Best is trial#13 with value: 0.5155000000000001.\n",
      "[I 2020-05-27 16:06:19,169] Finished trial#132 with value: 0.5115000000000001 with parameters: {'lambd': 0.012982550074499841, 'sigma': 0.2747942028757469, 'k': 10, 'p': 2, 'kernel': 'rbf'}. Best is trial#13 with value: 0.5155000000000001.\n",
      "[I 2020-05-27 16:06:19,536] Finished trial#133 with value: 0.494 with parameters: {'lambd': 0.013811432349601442, 'sigma': 0.21305599145506948, 'k': 10, 'p': 2, 'kernel': 'rbf'}. Best is trial#13 with value: 0.5155000000000001.\n",
      "[I 2020-05-27 16:06:19,896] Finished trial#134 with value: 0.502 with parameters: {'lambd': 0.019643386352713836, 'sigma': 0.17361407113610985, 'k': 10, 'p': 2, 'kernel': 'rbf'}. Best is trial#13 with value: 0.5155000000000001.\n",
      "[I 2020-05-27 16:06:20,275] Finished trial#135 with value: 0.5145 with parameters: {'lambd': 0.019119359140083513, 'sigma': 0.24826477578231787, 'k': 10, 'p': 2, 'kernel': 'rbf'}. Best is trial#13 with value: 0.5155000000000001.\n",
      "[I 2020-05-27 16:06:20,670] Finished trial#136 with value: 0.497 with parameters: {'lambd': 0.015620466815456447, 'sigma': 0.3338117263761836, 'k': 10, 'p': 2, 'kernel': 'rbf'}. Best is trial#13 with value: 0.5155000000000001.\n",
      "[I 2020-05-27 16:06:20,998] Finished trial#137 with value: 0.4955 with parameters: {'lambd': 0.009070187451074255, 'sigma': 0.4023810619228632, 'k': 10, 'p': 2, 'kernel': 'rbf'}. Best is trial#13 with value: 0.5155000000000001.\n",
      "[I 2020-05-27 16:06:21,257] Finished trial#138 with value: 0.518 with parameters: {'lambd': 0.021677660801421614, 'sigma': 0.24374115512670796, 'k': 8, 'p': 2, 'kernel': 'rbf'}. Best is trial#138 with value: 0.518.\n",
      "[I 2020-05-27 16:06:21,518] Finished trial#139 with value: 0.5125 with parameters: {'lambd': 0.02129382248818984, 'sigma': 0.23498883779062654, 'k': 8, 'p': 2, 'kernel': 'rbf'}. Best is trial#138 with value: 0.518.\n",
      "[I 2020-05-27 16:06:21,783] Finished trial#140 with value: 0.509 with parameters: {'lambd': 0.03383744320126222, 'sigma': 0.16027841920597535, 'k': 8, 'p': 2, 'kernel': 'rbf'}. Best is trial#138 with value: 0.518.\n"
     ]
    },
    {
     "name": "stdout",
     "output_type": "stream",
     "text": [
      "[I 2020-05-27 16:06:22,120] Finished trial#141 with value: 0.4975 with parameters: {'lambd': 0.017414809379686383, 'sigma': 0.1973289080819464, 'k': 8, 'p': 2, 'kernel': 'rbf'}. Best is trial#138 with value: 0.518.\n",
      "[I 2020-05-27 16:06:22,516] Finished trial#142 with value: 0.5005 with parameters: {'lambd': 0.010985077188685426, 'sigma': 0.31262224770865243, 'k': 8, 'p': 2, 'kernel': 'rbf'}. Best is trial#138 with value: 0.518.\n",
      "[I 2020-05-27 16:06:22,891] Finished trial#143 with value: 0.5125 with parameters: {'lambd': 0.014536752353473207, 'sigma': 0.24916147359670227, 'k': 8, 'p': 2, 'kernel': 'rbf'}. Best is trial#138 with value: 0.518.\n",
      "[I 2020-05-27 16:06:23,252] Finished trial#144 with value: 0.4985 with parameters: {'lambd': 0.024426141342966213, 'sigma': 0.2184133465608059, 'k': 10, 'p': 2, 'kernel': 'rbf'}. Best is trial#138 with value: 0.518.\n",
      "[I 2020-05-27 16:06:23,677] Finished trial#145 with value: 0.4975 with parameters: {'lambd': 0.018121298468190678, 'sigma': 0.37312646678770783, 'k': 4, 'p': 2, 'kernel': 'rbf'}. Best is trial#138 with value: 0.518.\n",
      "[I 2020-05-27 16:06:23,954] Finished trial#146 with value: 0.46849999999999997 with parameters: {'lambd': 0.012364812244150475, 'sigma': 0.2753120565238772, 'k': 8, 'p': 2, 'kernel': 'quadratic'}. Best is trial#138 with value: 0.518.\n",
      "[I 2020-05-27 16:06:24,308] Finished trial#147 with value: 0.498 with parameters: {'lambd': 0.01008983958334555, 'sigma': 0.18703577896295645, 'k': 5, 'p': 2, 'kernel': 'rbf'}. Best is trial#138 with value: 0.518.\n",
      "[I 2020-05-27 16:06:24,562] Finished trial#148 with value: 0.5005 with parameters: {'lambd': 0.02209303622107921, 'sigma': 0.311241289901087, 'k': 10, 'p': 2, 'kernel': 'rbf'}. Best is trial#138 with value: 0.518.\n",
      "[I 2020-05-27 16:06:24,860] Finished trial#149 with value: 0.5125 with parameters: {'lambd': 0.01574852558149524, 'sigma': 0.23550500795482124, 'k': 10, 'p': 2, 'kernel': 'rbf'}. Best is trial#138 with value: 0.518.\n",
      "[I 2020-05-27 16:06:25,304] Finished trial#150 with value: 0.495 with parameters: {'lambd': 0.00828787354440728, 'sigma': 0.44891116679115095, 'k': 8, 'p': 2, 'kernel': 'rbf'}. Best is trial#138 with value: 0.518.\n",
      "[I 2020-05-27 16:06:25,684] Finished trial#151 with value: 0.515 with parameters: {'lambd': 0.029758498397208535, 'sigma': 0.26557904210071714, 'k': 10, 'p': 2, 'kernel': 'rbf'}. Best is trial#138 with value: 0.518.\n",
      "[I 2020-05-27 16:06:26,042] Finished trial#152 with value: 0.511 with parameters: {'lambd': 0.03126165006213225, 'sigma': 0.26104273642002507, 'k': 10, 'p': 2, 'kernel': 'rbf'}. Best is trial#138 with value: 0.518.\n",
      "[I 2020-05-27 16:06:26,319] Finished trial#153 with value: 0.496 with parameters: {'lambd': 0.027858563612917723, 'sigma': 0.1986628005529195, 'k': 10, 'p': 2, 'kernel': 'rbf'}. Best is trial#138 with value: 0.518.\n",
      "[I 2020-05-27 16:06:26,592] Finished trial#154 with value: 0.4965 with parameters: {'lambd': 0.02056417382522683, 'sigma': 0.34001734927781124, 'k': 10, 'p': 2, 'kernel': 'rbf'}. Best is trial#138 with value: 0.518.\n",
      "[I 2020-05-27 16:06:26,978] Finished trial#155 with value: 0.505 with parameters: {'lambd': 0.04170154065119456, 'sigma': 0.29170364000813864, 'k': 10, 'p': 2, 'kernel': 'rbf'}. Best is trial#138 with value: 0.518.\n",
      "[I 2020-05-27 16:06:27,346] Finished trial#156 with value: 0.51 with parameters: {'lambd': 0.023464641977294514, 'sigma': 0.22750840846294884, 'k': 10, 'p': 2, 'kernel': 'rbf'}. Best is trial#138 with value: 0.518.\n",
      "[I 2020-05-27 16:06:27,638] Finished trial#157 with value: 0.499 with parameters: {'lambd': 0.050965202885306066, 'sigma': 0.1691155733494361, 'k': 10, 'p': 2, 'kernel': 'linear'}. Best is trial#138 with value: 0.518.\n",
      "[I 2020-05-27 16:06:27,977] Finished trial#158 with value: 0.504 with parameters: {'lambd': 0.014646473875250447, 'sigma': 0.14164584539280284, 'k': 8, 'p': 2, 'kernel': 'rbf'}. Best is trial#138 with value: 0.518.\n",
      "[I 2020-05-27 16:06:28,403] Finished trial#159 with value: 0.498 with parameters: {'lambd': 0.011628917801338505, 'sigma': 0.36880759733319873, 'k': 10, 'p': 2, 'kernel': 'rbf'}. Best is trial#138 with value: 0.518.\n",
      "[I 2020-05-27 16:06:28,767] Finished trial#160 with value: 0.5145 with parameters: {'lambd': 0.01668485678280343, 'sigma': 0.24731960391833668, 'k': 10, 'p': 2, 'kernel': 'rbf'}. Best is trial#138 with value: 0.518.\n",
      "[I 2020-05-27 16:06:29,151] Finished trial#161 with value: 0.512 with parameters: {'lambd': 0.018606029653708212, 'sigma': 0.2565842830927274, 'k': 10, 'p': 2, 'kernel': 'rbf'}. Best is trial#138 with value: 0.518.\n",
      "[I 2020-05-27 16:06:29,515] Finished trial#162 with value: 0.494 with parameters: {'lambd': 0.015955320327171688, 'sigma': 0.21144022760038172, 'k': 10, 'p': 2, 'kernel': 'rbf'}. Best is trial#138 with value: 0.518.\n",
      "[I 2020-05-27 16:06:29,764] Finished trial#163 with value: 0.5005 with parameters: {'lambd': 0.013077737591265163, 'sigma': 0.31333599986897254, 'k': 10, 'p': 2, 'kernel': 'rbf'}. Best is trial#138 with value: 0.518.\n",
      "[I 2020-05-27 16:06:30,003] Finished trial#164 with value: 0.5175000000000001 with parameters: {'lambd': 0.030269435005906065, 'sigma': 0.2448470296759192, 'k': 10, 'p': 2, 'kernel': 'rbf'}. Best is trial#138 with value: 0.518.\n",
      "[I 2020-05-27 16:06:30,303] Finished trial#165 with value: 0.4945 with parameters: {'lambd': 0.030611907981934316, 'sigma': 0.18986456397174353, 'k': 10, 'p': 2, 'kernel': 'rbf'}. Best is trial#138 with value: 0.518.\n",
      "[I 2020-05-27 16:06:30,700] Finished trial#166 with value: 0.5125 with parameters: {'lambd': 0.03837058151881474, 'sigma': 0.23638369058556621, 'k': 10, 'p': 2, 'kernel': 'rbf'}. Best is trial#138 with value: 0.518.\n",
      "[I 2020-05-27 16:06:31,052] Finished trial#167 with value: 0.507 with parameters: {'lambd': 0.02515744559894683, 'sigma': 0.2905748197767459, 'k': 8, 'p': 2, 'kernel': 'rbf'}. Best is trial#138 with value: 0.518.\n",
      "[I 2020-05-27 16:06:31,425] Finished trial#168 with value: 0.511 with parameters: {'lambd': 0.028211355250413173, 'sigma': 0.2538900772461301, 'k': 10, 'p': 2, 'kernel': 'rbf'}. Best is trial#138 with value: 0.518.\n",
      "[I 2020-05-27 16:06:31,751] Finished trial#169 with value: 0.4955 with parameters: {'lambd': 0.009660793437721088, 'sigma': 0.4000006713588535, 'k': 10, 'p': 2, 'kernel': 'rbf'}. Best is trial#138 with value: 0.518.\n",
      "[I 2020-05-27 16:06:32,074] Finished trial#170 with value: 0.498 with parameters: {'lambd': 0.01892630780611769, 'sigma': 0.21034829915415873, 'k': 8, 'p': 2, 'kernel': 'rbf'}. Best is trial#138 with value: 0.518.\n",
      "[I 2020-05-27 16:06:32,477] Finished trial#171 with value: 0.5115000000000001 with parameters: {'lambd': 0.01169652252093207, 'sigma': 0.2767290949512721, 'k': 10, 'p': 2, 'kernel': 'rbf'}. Best is trial#138 with value: 0.518.\n",
      "[I 2020-05-27 16:06:32,883] Finished trial#172 with value: 0.497 with parameters: {'lambd': 0.014387522078139398, 'sigma': 0.32755565451553986, 'k': 10, 'p': 2, 'kernel': 'rbf'}. Best is trial#138 with value: 0.518.\n",
      "[I 2020-05-27 16:06:33,194] Finished trial#173 with value: 0.5145 with parameters: {'lambd': 0.007426752853996894, 'sigma': 0.24711572777789087, 'k': 10, 'p': 2, 'kernel': 'rbf'}. Best is trial#138 with value: 0.518.\n",
      "[I 2020-05-27 16:06:33,463] Finished trial#174 with value: 0.51 with parameters: {'lambd': 0.11338017754283604, 'sigma': 0.22745862512466428, 'k': 10, 'p': 4, 'kernel': 'rbf'}. Best is trial#138 with value: 0.518.\n",
      "[I 2020-05-27 16:06:33,793] Finished trial#175 with value: 0.497 with parameters: {'lambd': 0.007340760557399568, 'sigma': 0.17988839096277853, 'k': 10, 'p': 2, 'kernel': 'rbf'}. Best is trial#138 with value: 0.518.\n",
      "[I 2020-05-27 16:06:34,160] Finished trial#176 with value: 0.504 with parameters: {'lambd': 0.033928416180682826, 'sigma': 0.2934289408312391, 'k': 10, 'p': 2, 'kernel': 'rbf'}. Best is trial#138 with value: 0.518.\n",
      "[I 2020-05-27 16:06:34,518] Finished trial#177 with value: 0.5175000000000001 with parameters: {'lambd': 0.02263028791759442, 'sigma': 0.24562450357400453, 'k': 10, 'p': 2, 'kernel': 'rbf'}. Best is trial#138 with value: 0.518.\n",
      "[I 2020-05-27 16:06:34,877] Finished trial#178 with value: 0.5035000000000001 with parameters: {'lambd': 0.021449334331217974, 'sigma': 0.15448075537971095, 'k': 10, 'p': 2, 'kernel': 'rbf'}. Best is trial#138 with value: 0.518.\n",
      "[I 2020-05-27 16:06:35,277] Finished trial#179 with value: 0.497 with parameters: {'lambd': 0.0249430431400546, 'sigma': 0.20185305256425767, 'k': 8, 'p': 2, 'kernel': 'rbf'}. Best is trial#138 with value: 0.518.\n",
      "[I 2020-05-27 16:06:35,625] Finished trial#180 with value: 0.5155000000000001 with parameters: {'lambd': 0.005928785550590476, 'sigma': 0.24016994929658667, 'k': 10, 'p': 2, 'kernel': 'rbf'}. Best is trial#138 with value: 0.518.\n",
      "[I 2020-05-27 16:06:35,978] Finished trial#181 with value: 0.517 with parameters: {'lambd': 0.0060958889885289755, 'sigma': 0.2421830596505885, 'k': 10, 'p': 2, 'kernel': 'rbf'}. Best is trial#138 with value: 0.518.\n",
      "[I 2020-05-27 16:06:36,342] Finished trial#182 with value: 0.5125 with parameters: {'lambd': 0.006612640652908356, 'sigma': 0.23483371049855936, 'k': 10, 'p': 2, 'kernel': 'rbf'}. Best is trial#138 with value: 0.518.\n",
      "[I 2020-05-27 16:06:36,592] Finished trial#183 with value: 0.497 with parameters: {'lambd': 0.005624588530920122, 'sigma': 0.3374484885188168, 'k': 10, 'p': 2, 'kernel': 'rbf'}. Best is trial#138 with value: 0.518.\n",
      "[I 2020-05-27 16:06:36,863] Finished trial#184 with value: 0.4995 with parameters: {'lambd': 0.007872425178399265, 'sigma': 0.2171559363881054, 'k': 10, 'p': 2, 'kernel': 'rbf'}. Best is trial#138 with value: 0.518.\n",
      "[I 2020-05-27 16:06:37,135] Finished trial#185 with value: 0.497 with parameters: {'lambd': 0.017004976689181696, 'sigma': 0.17687487294953297, 'k': 10, 'p': 2, 'kernel': 'rbf'}. Best is trial#138 with value: 0.518.\n",
      "[I 2020-05-27 16:06:37,513] Finished trial#186 with value: 0.512 with parameters: {'lambd': 0.005970077935831774, 'sigma': 0.2494850705697376, 'k': 10, 'p': 2, 'kernel': 'rbf'}. Best is trial#138 with value: 0.518.\n",
      "[I 2020-05-27 16:06:37,870] Finished trial#187 with value: 0.5115000000000001 with parameters: {'lambd': 0.023378681629279047, 'sigma': 0.27632089907024826, 'k': 10, 'p': 2, 'kernel': 'rbf'}. Best is trial#138 with value: 0.518.\n",
      "[I 2020-05-27 16:06:38,152] Finished trial#188 with value: 0.46799999999999997 with parameters: {'lambd': 0.008905898833636336, 'sigma': 0.3128513767297793, 'k': 10, 'p': 2, 'kernel': 'quadratic'}. Best is trial#138 with value: 0.518.\n",
      "[I 2020-05-27 16:06:38,509] Finished trial#189 with value: 0.498 with parameters: {'lambd': 0.26981667604947973, 'sigma': 0.20891222589344344, 'k': 10, 'p': 2, 'kernel': 'rbf'}. Best is trial#138 with value: 0.518.\n",
      "[I 2020-05-27 16:06:38,872] Finished trial#190 with value: 0.5155000000000001 with parameters: {'lambd': 0.020260849057589615, 'sigma': 0.23976069545997233, 'k': 10, 'p': 2, 'kernel': 'rbf'}. Best is trial#138 with value: 0.518.\n",
      "[I 2020-05-27 16:06:39,251] Finished trial#191 with value: 0.5125 with parameters: {'lambd': 0.020543341195115816, 'sigma': 0.23684375570433946, 'k': 10, 'p': 2, 'kernel': 'rbf'}. Best is trial#138 with value: 0.518.\n",
      "[I 2020-05-27 16:06:39,593] Finished trial#192 with value: 0.4975 with parameters: {'lambd': 0.028835355134873474, 'sigma': 0.19678553085697073, 'k': 10, 'p': 2, 'kernel': 'rbf'}. Best is trial#138 with value: 0.518.\n",
      "[I 2020-05-27 16:06:39,986] Finished trial#193 with value: 0.504 with parameters: {'lambd': 0.017926682498684676, 'sigma': 0.292435728956833, 'k': 10, 'p': 2, 'kernel': 'rbf'}. Best is trial#138 with value: 0.518.\n",
      "[I 2020-05-27 16:06:40,338] Finished trial#194 with value: 0.517 with parameters: {'lambd': 0.02600201235035907, 'sigma': 0.24265378254738992, 'k': 10, 'p': 2, 'kernel': 'rbf'}. Best is trial#138 with value: 0.518.\n",
      "[I 2020-05-27 16:06:40,706] Finished trial#195 with value: 0.517 with parameters: {'lambd': 0.03583975343133015, 'sigma': 0.2425231766881137, 'k': 10, 'p': 2, 'kernel': 'rbf'}. Best is trial#138 with value: 0.518.\n",
      "[I 2020-05-27 16:06:41,061] Finished trial#196 with value: 0.5125 with parameters: {'lambd': 0.03502760702394502, 'sigma': 0.23573555864398169, 'k': 10, 'p': 2, 'kernel': 'rbf'}. Best is trial#138 with value: 0.518.\n",
      "[I 2020-05-27 16:06:41,460] Finished trial#197 with value: 0.4975 with parameters: {'lambd': 0.04382365846850584, 'sigma': 0.356219636175433, 'k': 10, 'p': 2, 'kernel': 'rbf'}. Best is trial#138 with value: 0.518.\n",
      "[I 2020-05-27 16:06:41,752] Finished trial#198 with value: 0.515 with parameters: {'lambd': 0.026941307798857245, 'sigma': 0.2648632718049273, 'k': 10, 'p': 2, 'kernel': 'rbf'}. Best is trial#138 with value: 0.518.\n",
      "[I 2020-05-27 16:06:42,100] Finished trial#199 with value: 0.497 with parameters: {'lambd': 0.031011354742880103, 'sigma': 0.18327595065344884, 'k': 10, 'p': 2, 'kernel': 'rbf'}. Best is trial#138 with value: 0.518.\n",
      "\n"
     ]
    }
   ],
   "source": [
    "# cross_validate(X_train_mat100, y,lamda=0.01,k=4)\n",
    "import optuna\n",
    "\n",
    "sampler = optuna.samplers.TPESampler()\n",
    "study = optuna.create_study(sampler=sampler, direction='maximize')\n",
    "df = study.optimize(func=objective, n_trials=200,show_progress_bar=True)"
   ]
  },
  {
   "cell_type": "code",
   "execution_count": null,
   "metadata": {},
   "outputs": [],
   "source": [
    "df = study.trials_dataframe().drop(['state','datetime_start','datetime_complete'], axis=1)\n",
    "df.sort_values(by=['value'])"
   ]
  },
  {
   "cell_type": "code",
   "execution_count": 1,
   "metadata": {},
   "outputs": [
    {
     "ename": "NameError",
     "evalue": "name 'pd' is not defined",
     "output_type": "error",
     "traceback": [
      "\u001b[0;31m---------------------------------------------------------------------------\u001b[0m",
      "\u001b[0;31mNameError\u001b[0m                                 Traceback (most recent call last)",
      "\u001b[0;32m<ipython-input-1-d073a0afe860>\u001b[0m in \u001b[0;36m<module>\u001b[0;34m()\u001b[0m\n\u001b[1;32m      1\u001b[0m \u001b[0;34m\u001b[0m\u001b[0m\n\u001b[0;32m----> 2\u001b[0;31m \u001b[0mX_test\u001b[0m \u001b[0;34m=\u001b[0m \u001b[0mpd\u001b[0m\u001b[0;34m.\u001b[0m\u001b[0mread_csv\u001b[0m\u001b[0;34m(\u001b[0m\u001b[0;34m'../data/Xte.csv'\u001b[0m\u001b[0;34m,\u001b[0m\u001b[0msep\u001b[0m\u001b[0;34m=\u001b[0m\u001b[0;34m','\u001b[0m\u001b[0;34m,\u001b[0m\u001b[0mindex_col\u001b[0m\u001b[0;34m=\u001b[0m\u001b[0;36m0\u001b[0m\u001b[0;34m)\u001b[0m\u001b[0;34m.\u001b[0m\u001b[0mvalues\u001b[0m\u001b[0;34m\u001b[0m\u001b[0;34m\u001b[0m\u001b[0m\n\u001b[0m\u001b[1;32m      3\u001b[0m \u001b[0mX_train\u001b[0m \u001b[0;34m=\u001b[0m \u001b[0mpd\u001b[0m\u001b[0;34m.\u001b[0m\u001b[0mread_csv\u001b[0m\u001b[0;34m(\u001b[0m\u001b[0;34m'../data/Xtr.csv'\u001b[0m\u001b[0;34m,\u001b[0m\u001b[0msep\u001b[0m\u001b[0;34m=\u001b[0m\u001b[0;34m','\u001b[0m\u001b[0;34m,\u001b[0m\u001b[0mindex_col\u001b[0m\u001b[0;34m=\u001b[0m\u001b[0;36m0\u001b[0m\u001b[0;34m)\u001b[0m\u001b[0;34m.\u001b[0m\u001b[0mvalues\u001b[0m\u001b[0;34m\u001b[0m\u001b[0;34m\u001b[0m\u001b[0m\n\u001b[1;32m      4\u001b[0m \u001b[0;34m\u001b[0m\u001b[0m\n\u001b[1;32m      5\u001b[0m \u001b[0mX_test_mat100\u001b[0m \u001b[0;34m=\u001b[0m \u001b[0mpd\u001b[0m\u001b[0;34m.\u001b[0m\u001b[0mread_csv\u001b[0m\u001b[0;34m(\u001b[0m\u001b[0;34m'../data/Xte_mat100.csv'\u001b[0m\u001b[0;34m,\u001b[0m\u001b[0msep\u001b[0m\u001b[0;34m=\u001b[0m\u001b[0;34m' '\u001b[0m\u001b[0;34m,\u001b[0m\u001b[0mheader\u001b[0m\u001b[0;34m=\u001b[0m\u001b[0;32mNone\u001b[0m\u001b[0;34m)\u001b[0m\u001b[0;34m.\u001b[0m\u001b[0mvalues\u001b[0m\u001b[0;34m\u001b[0m\u001b[0;34m\u001b[0m\u001b[0m\n",
      "\u001b[0;31mNameError\u001b[0m: name 'pd' is not defined"
     ]
    }
   ],
   "source": [
    "\n",
    "X_test = pd.read_csv('../data/Xte.csv',sep=',',index_col=0).values\n",
    "X_train = pd.read_csv('../data/Xtr.csv',sep=',',index_col=0).values\n",
    "\n",
    "X_test_mat100 = pd.read_csv('../data/Xte_mat100.csv',sep=' ',header=None).values\n",
    "X_train_mat100 = pd.read_csv('../data/Xtr_mat100.csv',sep=' ',header=None).values\n",
    "\n",
    "y = pd.read_csv('../data/Ytr.csv',sep=',',index_col=0)"
   ]
  },
  {
   "cell_type": "code",
   "execution_count": 2,
   "metadata": {},
   "outputs": [],
   "source": [
    "def LevenshteinDistance(str1,str2):\n",
    "    '''\n",
    "    Compute the edit distance between str1 and str2\n",
    "    Param: @(str1): (str) string 1 for the comparison\n",
    "    @(str2): (str) string 2 for the comparison\n",
    "    Return (int) distance\n",
    "    '''\n",
    "    len_s1 = len(str1) +1\n",
    "    len_s2 = len(str2) +1\n",
    "    m = np.zeros((len_s1,len_s2))\n",
    "    for i in range(len_s1):\n",
    "        m[i,0] = i\n",
    "    \n",
    "    for j in range(len_s2):\n",
    "        m[0,j] = j\n",
    "    \n",
    "    for i in range(1,len_s1):\n",
    "        for j in range(1,len_s2):\n",
    "            if str1[i-1]==str2[j-1]:\n",
    "                m[i,j]= min(m[i-1,j]+1,m[i,j-1]+1,m[i-1,j-1])\n",
    "            else:\n",
    "                m[i,j] =min(m[i-1,j]+1,m[i,j-1]+1,m[i-1,j-1]+1)\n",
    "    return m[-1,-1]"
   ]
  },
  {
   "cell_type": "code",
   "execution_count": 6,
   "metadata": {},
   "outputs": [
    {
     "data": {
      "text/plain": [
       "2.0"
      ]
     },
     "execution_count": 6,
     "metadata": {},
     "output_type": "execute_result"
    }
   ],
   "source": [
    "import numpy as np\n",
    "LevenshteinDistance('acgt','ggt')"
   ]
  },
  {
   "cell_type": "code",
   "execution_count": null,
   "metadata": {},
   "outputs": [],
   "source": []
  }
 ],
 "metadata": {
  "kernelspec": {
   "display_name": "Python 3",
   "language": "python",
   "name": "python3"
  },
  "language_info": {
   "codemirror_mode": {
    "name": "ipython",
    "version": 3
   },
   "file_extension": ".py",
   "mimetype": "text/x-python",
   "name": "python",
   "nbconvert_exporter": "python",
   "pygments_lexer": "ipython3",
   "version": "3.7.4"
  }
 },
 "nbformat": 4,
 "nbformat_minor": 4
}
